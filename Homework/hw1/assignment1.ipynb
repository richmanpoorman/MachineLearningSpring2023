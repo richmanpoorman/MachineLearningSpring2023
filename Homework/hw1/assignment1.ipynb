{
 "cells": [
  {
   "cell_type": "markdown",
   "metadata": {},
   "source": [
    "# Assignment 1\n",
    "Download auto_mpg.txt and store inside 'tabular' folder created inside of 'data' directory. Add this notebook to your python codebase.\n",
    "\n",
    "The **purpose** of this assignmnet is to become familiar with core Python (*Part 0*), numpy and Pandas basics (*Part 1*), and handling data (*Part 2*)."
   ]
  },
  {
   "cell_type": "markdown",
   "metadata": {},
   "source": [
    "NAME\n",
    "DATE"
   ]
  },
  {
   "cell_type": "markdown",
   "metadata": {},
   "source": [
    "## Part 0\n",
    "\n",
    "The goal of Part 0 is to\n",
    "- Practice problems based on core Python\n",
    "- Gain better understanding of work-flows controlled by conditional statements"
   ]
  },
  {
   "cell_type": "markdown",
   "metadata": {},
   "source": [
    "### Resources for python\n",
    "\n",
    "Here are some of the best resources for Python on the web. \n",
    "\n",
    "#### Learning resources\n",
    "\n",
    "* [Interactive Python](http://interactivepython.org/) An online book that includes embedded live excercises. Fun!\n",
    "* [Dive Into Python](http://www.diveintopython.net/) An excellent, thorough book.\n",
    "* [tutorial point](http://www.tutorialspoint.com/python/index.htm) A resource that is useful when you want an explanation of one concept, rather than a whole chapter.\n",
    "\n",
    "\n",
    "#### Reference resources\n",
    "\n",
    "Typically, if you have a question about python, you can find an answer by using google. The following sites will usually have the best answer.\n",
    "\n",
    "* [Official python documentation](https://docs.python.org/3/library/)\n",
    "* [Quick Reference from Tutorial Point](http://www.tutorialspoint.com/python/python_quick_guide.htm)\n"
   ]
  },
  {
   "cell_type": "markdown",
   "metadata": {},
   "source": [
    "**Sample.** Notice the printout below the solution. Notice it is self-documenting, including problem definition and solution (i.e., source code), along with result (i.e., printout)."
   ]
  },
  {
   "cell_type": "code",
   "execution_count": 120,
   "metadata": {},
   "outputs": [
    {
     "name": "stdout",
     "output_type": "stream",
     "text": [
      "Found value 2 in list\n",
      "Value 6 not found in list\n",
      "List items: [2, 3, 4, 5]\n"
     ]
    }
   ],
   "source": [
    "val = 2\n",
    "li = [2, 3, 4, 5]\n",
    "if val in li:\n",
    "    print('Found value', val, 'in list')\n",
    "else:\n",
    "    print('Value', val, 'not found in list')\n",
    "if 6 in li:\n",
    "    print('Found value', 6, 'in list')\n",
    "else:\n",
    "    print('Value', 6, 'not found in list')\n",
    "print('List items:', li)\n"
   ]
  },
  {
   "cell_type": "markdown",
   "metadata": {},
   "source": [
    "**0.1)** \n",
    "Describe the 4 core Python containers (note the keyword core, i.e., not numpy arrays or other container types that are included in Python Packages)."
   ]
  },
  {
   "cell_type": "markdown",
   "metadata": {
    "collapsed": false
   },
   "source": [
    "a) What are characteristics of each?"
   ]
  },
  {
   "cell_type": "markdown",
   "metadata": {
    "collapsed": false
   },
   "source": [
    "lists (li=[]), tuples (tu=()), strings (st=\"\"), dictionaries (dic={})-- each are containers with various characteristics.\n",
    "\n",
    "Lists and tuples can store any type, and can be made up of various different types. Both preserve order (as do strings), with the difference being lists are mutable, while tuples and strings are immutable.\n",
    "\n",
    "Strings are made up of sequences of characters.\n",
    "\n",
    "Dictionaries are key-value pairs, where values are accessed via indexing with key. Keys must be unique and are immutable, while values can be of any type and are mutable.\n",
    "\n",
    "Each container is accessed using square brackets, with indices for tuples, lists, and strings (i.e., ordered) and keys for dictionaries (i.e., unordered)."
   ]
  },
  {
   "cell_type": "markdown",
   "metadata": {},
   "source": [
    "b) Instantiate each with 0 elements (i.e., empty), and show adding a single element to each."
   ]
  },
  {
   "cell_type": "code",
   "execution_count": 121,
   "metadata": {},
   "outputs": [
    {
     "name": "stdout",
     "output_type": "stream",
     "text": [
      "[]  {}\n",
      "['a'] a {'a': 0}\n"
     ]
    }
   ],
   "source": [
    "# instantiate empty containers\n",
    "ls  = list()\n",
    "tup = ()\n",
    "s   = \"\" \n",
    "map = dict()\n",
    "\n",
    "print(ls, s, map)\n",
    "\n",
    "# add single elements\n",
    "ls.append(\"a\")\n",
    "s += \"a\" # Note that this actually makes a new string\n",
    "map[\"a\"] = 0\n",
    "tup = (\"a\") # Tuples can't actually change for themselves\n",
    "\n",
    "print(ls, s, map)"
   ]
  },
  {
   "cell_type": "markdown",
   "metadata": {
    "collapsed": false
   },
   "source": [
    "c) Provide 1 or more use cases for each.\n"
   ]
  },
  {
   "attachments": {},
   "cell_type": "markdown",
   "metadata": {},
   "source": [
    "1) A list is useful to have an array of information where you want to be able to change the numbers\n",
    "2) A tuple is useful when it is read-only (aka like a key of a dictionary)\n",
    "3) A dictionary is useful when you want to map one value to another, and find corresponding values\n",
    "4) A string is useful when storing any sort of text"
   ]
  },
  {
   "cell_type": "markdown",
   "metadata": {
    "collapsed": false
   },
   "source": [
    "ANSWER"
   ]
  },
  {
   "cell_type": "markdown",
   "metadata": {},
   "source": [
    "**0.2)** Write  a program that takes in a positive number (in some variable, say `i`) and computes the sum of all the number\n",
    "between 0 and that number (inclusive). \n",
    "\n",
    "a) Do it using a for loop"
   ]
  },
  {
   "cell_type": "code",
   "execution_count": 122,
   "metadata": {
    "collapsed": false
   },
   "outputs": [
    {
     "name": "stdout",
     "output_type": "stream",
     "text": [
      "55\n"
     ]
    }
   ],
   "source": [
    "i = 10\n",
    "\n",
    "total = 0\n",
    "for x in range(i + 1):\n",
    "    total += x\n",
    "\n",
    "print(total)"
   ]
  },
  {
   "cell_type": "code",
   "execution_count": 123,
   "metadata": {},
   "outputs": [
    {
     "name": "stdout",
     "output_type": "stream",
     "text": [
      "Sum using list using for loop 55\n"
     ]
    }
   ],
   "source": [
    "def sum_forloop(n):\n",
    "    \"\"\"\n",
    "    Function that returns the sum of all numbers in range [0, n].\n",
    "    :param n: upper limit of summation, which is positive integer greater than 0\n",
    "    :return: Sum from i=0 to i=n.\n",
    "    \"\"\"\n",
    "    if type(n) is not int or n < 0:\n",
    "        # check input meets conditions\n",
    "        return None\n",
    "    \n",
    "    total = 0\n",
    "    for x in range(n + 1):\n",
    "        total += x\n",
    "    return total\n",
    "\n",
    "print('Sum using list using for loop', sum_forloop(i))"
   ]
  },
  {
   "cell_type": "markdown",
   "metadata": {
    "collapsed": false
   },
   "source": [
    "b) Do it in one line using the function `sum` and list comprehension."
   ]
  },
  {
   "cell_type": "code",
   "execution_count": 124,
   "metadata": {
    "collapsed": false
   },
   "outputs": [
    {
     "name": "stdout",
     "output_type": "stream",
     "text": [
      "55\n"
     ]
    }
   ],
   "source": [
    "i = 10\n",
    "print(sum(range(i + 1)))"
   ]
  },
  {
   "cell_type": "markdown",
   "metadata": {},
   "source": [
    "**0.3)** Create a lookup table for your class schedule, with the CRN as keys and the name of class as the value. Loop over the dictionary and print out the CRN and course name (single line per class)."
   ]
  },
  {
   "cell_type": "code",
   "execution_count": 125,
   "metadata": {},
   "outputs": [
    {
     "name": "stdout",
     "output_type": "stream",
     "text": [
      "CS-135 Intro to Machine Learning\n",
      "CS-150-GT Graph Theory\n",
      "CS-150-CV Computer Vision\n",
      "DRWM-04 Drawing Foundations\n",
      "CS-20 Web Programming\n",
      "MATH-70 Linear Algebra\n"
     ]
    }
   ],
   "source": [
    "schedule = dict()\n",
    "\n",
    "schedule[\"CS-135\"] = \"Intro to Machine Learning\"\n",
    "schedule[\"CS-150-GT\"] = \"Graph Theory\"\n",
    "schedule[\"CS-150-CV\"] = \"Computer Vision\"\n",
    "schedule[\"DRWM-04\"] = \"Drawing Foundations\"\n",
    "schedule[\"CS-20\"] = \"Web Programming\"\n",
    "schedule[\"MATH-70\"] = \"Linear Algebra\"\n",
    "\n",
    "for x in schedule:\n",
    "    print(x, schedule[x])"
   ]
  },
  {
   "cell_type": "markdown",
   "metadata": {},
   "source": [
    "**0.4)** Create an empty list. Then, copy the for-loop from previous excercise such that the program prompts you to input the time of the day (as type sting, and using military time would allow for AM and PM to be omitted). These times are to be stored in empty dictionay using the same keys (i.e., CRN->time class starts)"
   ]
  },
  {
   "cell_type": "code",
   "execution_count": 126,
   "metadata": {},
   "outputs": [
    {
     "name": "stdout",
     "output_type": "stream",
     "text": [
      "CS-135 1\n",
      "CS-150-GT 1\n",
      "CS-150-CV 1\n",
      "DRWM-04 1\n",
      "CS-20 1\n",
      "MATH-70 1\n"
     ]
    }
   ],
   "source": [
    "schedule = dict()\n",
    "\n",
    "schedule[\"CS-135\"] = \"Intro to Machine Learning\"\n",
    "schedule[\"CS-150-GT\"] = \"Graph Theory\"\n",
    "schedule[\"CS-150-CV\"] = \"Computer Vision\"\n",
    "schedule[\"DRWM-04\"] = \"Drawing Foundations\"\n",
    "schedule[\"CS-20\"] = \"Web Programming\"\n",
    "schedule[\"MATH-70\"] = \"Linear Algebra\"\n",
    "\n",
    "times = list()\n",
    "\n",
    "for x in schedule:\n",
    "    schedule[x] = (input(x + \" \" + schedule[x] + \":\"))\n",
    "\n",
    "for x in schedule:\n",
    "    print(x, schedule[x])"
   ]
  },
  {
   "cell_type": "markdown",
   "metadata": {},
   "source": []
  },
  {
   "cell_type": "markdown",
   "metadata": {
    "collapsed": false
   },
   "source": [
    "**0.5** Write a Python program to convert temperatures to and from Celsius, Fahrenheit.\n",
    "\n",
    "\n",
    "$$ \\frac{c}{5} = \\frac{f-32}{9},$$\n",
    "where $c$ is the temperature in Celsius and $f$ is the temperature in Fahrenheit.\n",
    "\n",
    "Test code:\n",
    "60°C is 140 in Fahrenheit\n",
    "45°F is 7 in Celsius"
   ]
  },
  {
   "cell_type": "code",
   "execution_count": 127,
   "metadata": {},
   "outputs": [
    {
     "name": "stdout",
     "output_type": "stream",
     "text": [
      "45 deg. F is 7.222222222222222 deg. C\n",
      "60 deg. C is 140.0 deg. F\n"
     ]
    }
   ],
   "source": [
    "def fahrenheit2celsius(fahrenheit):\n",
    "    return (fahrenheit - 32) * 5 / 9.0\n",
    "\n",
    "def celsius2fahrenheit(celsius):\n",
    "    return celsius * 9 / 5.0 + 32\n",
    "\n",
    "\n",
    "temp_c = 60\n",
    "temp_f = 45\n",
    "\n",
    "temp_c_out = fahrenheit2celsius(temp_f)\n",
    "temp_f_out = celsius2fahrenheit(temp_c)\n",
    "\n",
    "print(\"{} deg. F is {} deg. C\".format(temp_f, temp_c_out))\n",
    "print(\"{} deg. C is {} deg. F\".format(temp_c, temp_f_out))"
   ]
  },
  {
   "cell_type": "markdown",
   "metadata": {},
   "source": [
    "**0.6** Write a Python program to construct the following pattern, using a nested for loop.\n",
    "\n",
    "O\n",
    "\n",
    "O X\n",
    "\n",
    "O X O\n",
    "\n",
    "O X O X\n",
    "\n",
    "O X O X O\n",
    "\n",
    "O X O X\n",
    "\n",
    "O X O\n",
    "\n",
    "O X\n",
    "\n",
    "O"
   ]
  },
  {
   "cell_type": "code",
   "execution_count": 128,
   "metadata": {},
   "outputs": [
    {
     "name": "stdout",
     "output_type": "stream",
     "text": [
      "O \n",
      "\n",
      "O X \n",
      "\n",
      "O X O \n",
      "\n",
      "O X O X \n",
      "\n",
      "O X O X O \n",
      "\n",
      "O X O X \n",
      "\n",
      "O X O \n",
      "\n",
      "O X \n",
      "\n",
      "O \n",
      "\n"
     ]
    }
   ],
   "source": [
    "for row in range(1, 10):\n",
    "    for col in range(min(row, 10 - row)):\n",
    "        if col % 2 == 0:\n",
    "            print(\"O\", end=\" \")\n",
    "        else:\n",
    "            print(\"X\", end=\" \")\n",
    "    print(\"\\n\")"
   ]
  },
  {
   "cell_type": "markdown",
   "metadata": {},
   "source": [
    "**0.7** Write a Python program that reads two integers representing a month and day and prints the season for that month and day. Go to the editor\n",
    "Expected Output:\n",
    "\n",
    "Input the month (e.g. January, February etc.): july                     \n",
    "Input the day: 31                                                       \n",
    "Season is summer"
   ]
  },
  {
   "cell_type": "code",
   "execution_count": 129,
   "metadata": {},
   "outputs": [
    {
     "name": "stdout",
     "output_type": "stream",
     "text": [
      "Fall\n"
     ]
    }
   ],
   "source": [
    "month = int(input(\"Month: \"))\n",
    "day   = int(input(\"Day: \"))\n",
    "\n",
    "seasons = [\"Winter\", \"Spring\", \"Summer\", \"Fall\"]\n",
    "\n",
    "\"\"\" \n",
    "# TESTING\n",
    "for i in range(1, 13):\n",
    "    print(i, seasons[int(i % 12 / 3)] )\n",
    "\"\"\"\n",
    "print(seasons[int(i % 12 / 3)])"
   ]
  },
  {
   "cell_type": "markdown",
   "metadata": {},
   "source": [
    "**0.8** Implement repeats(), as specified in doc-string. Then call on variables a and b below. Print True if repeated, else, print False."
   ]
  },
  {
   "cell_type": "code",
   "execution_count": 130,
   "metadata": {},
   "outputs": [
    {
     "name": "stdout",
     "output_type": "stream",
     "text": [
      "list 'a' repeats 5: True\n",
      "list 'a' repeats 6: False\n",
      "list 'b' repeats 5: False\n"
     ]
    }
   ],
   "source": [
    "a = [1, 3, 1, 6, 3, 5, 5, 2]\n",
    "b = [1, 2, 3, 3, 4, 5, 6, 7, 8, 9]\n",
    "\n",
    "def repeated_val(xs, val=5):\n",
    "    \"\"\"Function to search whether 'val' is repeated in sequence.\n",
    "\n",
    "    :param xs:      List of items to search\n",
    "    :param val:     Val being searched (default = 5)\n",
    "\n",
    "    :return:        True if repeated 'val' and neighbors, i.e., [..., 'val', 'val', ...] = True; else, False\n",
    "    \"\"\"\n",
    "    for i in range(1, len(xs)):\n",
    "        if xs[i] == val and xs[i - 1] == val:\n",
    "            return True\n",
    "    return False\n",
    "\n",
    "print(\"list 'a' repeats 5:\", repeated_val(a))\n",
    "print(\"list 'a' repeats 6:\", repeated_val(a, val=6))\n",
    "print(\"list 'b' repeats 5:\", repeated_val(b))"
   ]
  },
  {
   "cell_type": "markdown",
   "metadata": {},
   "source": [
    "## Part 1\n",
    "\n",
    "The goal in this part is to\n",
    "- understand basic functionality of numpy and pandas\n",
    "- learn how to use numpy and pandas to solve common coding tasks\n",
    "- understand these packages to process real-world data"
   ]
  },
  {
   "cell_type": "markdown",
   "metadata": {},
   "source": [
    "Import other libraries, such that numpy library is called by with np and pandas with pd"
   ]
  },
  {
   "cell_type": "code",
   "execution_count": 131,
   "metadata": {},
   "outputs": [],
   "source": [
    "import os\n",
    "import numpy as np\n",
    "import pandas as pd"
   ]
  },
  {
   "cell_type": "markdown",
   "metadata": {},
   "source": [
    "### a) Numpy Basics\n",
    "*Make sure to leave random seeds in each cell so that the outputs match the expected answer."
   ]
  },
  {
   "cell_type": "markdown",
   "metadata": {},
   "source": [
    "### 1)"
   ]
  },
  {
   "cell_type": "markdown",
   "metadata": {},
   "source": [
    "Create a 10x10 array with random values and find the minimum and maximum values "
   ]
  },
  {
   "cell_type": "code",
   "execution_count": 132,
   "metadata": {},
   "outputs": [
    {
     "name": "stdout",
     "output_type": "stream",
     "text": [
      "2.392365265937726\n",
      "-2.7985891054607244\n"
     ]
    }
   ],
   "source": [
    "import numpy as np\n",
    "\n",
    "np.random.seed(123)\n",
    "\n",
    "arr = np.random.randn(10, 10)\n",
    "print(np.max(arr))\n",
    "print(np.min(arr))"
   ]
  },
  {
   "cell_type": "markdown",
   "metadata": {},
   "source": [
    "### 2)  "
   ]
  },
  {
   "cell_type": "markdown",
   "metadata": {},
   "source": [
    "Extract the integer part of array Z using 5 different numpy methods"
   ]
  },
  {
   "cell_type": "code",
   "execution_count": 133,
   "metadata": {},
   "outputs": [
    {
     "name": "stdout",
     "output_type": "stream",
     "text": [
      "[6 2 2 5 7 4 9 6 4 3] [6 2 2 5 7 4 9 6 4 3] [6 2 2 5 7 4 9 6 4 3] [6 2 2 5 7 4 9 6 4 3] [6 2 2 5 7 4 9 6 4 3]\n"
     ]
    }
   ],
   "source": [
    "import numpy as np\n",
    "np.random.seed(123)\n",
    "Z = np.random.uniform(0, 10, 10)\n",
    "\n",
    "arr1 = np.zeros(len(Z), dtype='int32')\n",
    "for i in range(len(Z)):\n",
    "    arr1[i] = int(Z[i])\n",
    "\n",
    "arr2 = np.array([int(x) for x in Z])\n",
    "arr3 = Z.astype('int32')\n",
    "arr4 = np.asarray(Z, dtype='int32')\n",
    "arr5 = np.int_(Z)\n",
    "\n",
    "print(arr1, arr2, arr3, arr4, arr5)\n"
   ]
  },
  {
   "cell_type": "markdown",
   "metadata": {},
   "source": [
    "Create a vector of size 20 with values spanning (0, 1), i.e., 0 and 1 are excluded."
   ]
  },
  {
   "cell_type": "code",
   "execution_count": 134,
   "metadata": {},
   "outputs": [
    {
     "name": "stdout",
     "output_type": "stream",
     "text": [
      "[0.34317802 0.72904971 0.43857224 0.0596779  0.39804426 0.73799541\n",
      " 0.18249173 0.17545176 0.53155137 0.53182759 0.63440096 0.84943179\n",
      " 0.72445532 0.61102351 0.72244338 0.32295891 0.36178866 0.22826323\n",
      " 0.29371405 0.63097612] 20\n"
     ]
    }
   ],
   "source": [
    "import numpy as np \n",
    "# It never says that it has to be uniform between 0, 1\n",
    "arr = np.random.uniform(0, 1, 20)\n",
    "ans = np.where(arr > 0, arr, np.random.uniform(0.1, 1))\n",
    "print(ans, len(ans))"
   ]
  },
  {
   "cell_type": "markdown",
   "metadata": {},
   "source": [
    "Create a random vector of size 15 and sort it\n"
   ]
  },
  {
   "cell_type": "code",
   "execution_count": 135,
   "metadata": {},
   "outputs": [
    {
     "name": "stdout",
     "output_type": "stream",
     "text": [
      "[-2.42667924 -1.50629471 -1.0856306  -0.8667404  -0.67888615 -0.638902\n",
      " -0.57860025 -0.44398196 -0.42891263 -0.09470897  0.2829785   0.99734545\n",
      "  1.26593626  1.49138963  1.65143654]\n"
     ]
    }
   ],
   "source": [
    "np.random.seed(123)\n",
    "\n",
    "ans = np.random.randn(15)\n",
    "ans.sort()\n",
    "print(ans)"
   ]
  },
  {
   "cell_type": "markdown",
   "metadata": {},
   "source": [
    "Consider two random array A anb B, check if they are equal"
   ]
  },
  {
   "cell_type": "code",
   "execution_count": 136,
   "metadata": {},
   "outputs": [
    {
     "name": "stdout",
     "output_type": "stream",
     "text": [
      "[0 1 0 0 0]\n",
      "[0 0 1 1 0]\n",
      "False\n"
     ]
    }
   ],
   "source": [
    "np.random.seed(123)\n",
    "A = np.random.randint(0, 2, 5)\n",
    "B = np.random.randint(0, 2, 5)\n",
    "print(A)\n",
    "print(B)\n",
    "print(np.array_equal(A, B))"
   ]
  },
  {
   "cell_type": "markdown",
   "metadata": {},
   "source": [
    "matplotlib is the plotting library which pandas' plotting functionality is built upon, and it is usually aliased to plt.\n",
    "\n",
    "%matplotlib inline tells the notebook to show plots inline, instead of creating them in a separate window.\n",
    "\n",
    "plt.style.use('ggplot') is a style theme that most people find agreeable, based upon the styling of R's ggplot package.\n",
    "\n",
    "See the documentation <https://pandas.pydata.org/pandas-docs/stable/generated/pandas.DataFrame.plot.html> if you get stuck!"
   ]
  },
  {
   "cell_type": "markdown",
   "metadata": {},
   "source": [
    "Make an array immutable (read-only)"
   ]
  },
  {
   "cell_type": "code",
   "execution_count": 137,
   "metadata": {},
   "outputs": [
    {
     "name": "stdout",
     "output_type": "stream",
     "text": [
      "READ ONLY! [0. 0. 0. 0. 0. 0. 0. 0. 0. 0.]\n"
     ]
    }
   ],
   "source": [
    "Z = np.zeros(10)\n",
    "Z.setflags(write=False)\n",
    "try:\n",
    "    Z[0] = 2\n",
    "except:\n",
    "    print(\"READ ONLY!\", Z)"
   ]
  },
  {
   "cell_type": "markdown",
   "metadata": {},
   "source": [
    "Create a structured array representing a position (x,y) and a color (r,g,b). Instantiate structured array's values to be all zeros (though same method for other values as well)."
   ]
  },
  {
   "cell_type": "code",
   "execution_count": 138,
   "metadata": {},
   "outputs": [
    {
     "name": "stdout",
     "output_type": "stream",
     "text": [
      "{'position': (dtype(('<f4', (2,))), 0), 'color': (dtype(('<f4', (3,))), 8)}\n",
      "[([0., 0.], [0., 0., 0.])]\n"
     ]
    }
   ],
   "source": [
    "structuredArray = np.dtype([('position', np.float32, (2)), ('color', np.float32, (3))])\n",
    "print(structuredArray.fields)\n",
    "\n",
    "zeroValues = np.zeros(1, dtype = structuredArray)\n",
    "print(zeroValues)"
   ]
  },
  {
   "cell_type": "markdown",
   "metadata": {},
   "source": [
    "Considering a four dimensions array, how to get sum over the last two axis at once? "
   ]
  },
  {
   "cell_type": "code",
   "execution_count": 139,
   "metadata": {},
   "outputs": [
    {
     "name": "stdout",
     "output_type": "stream",
     "text": [
      "[[40 37 56 43]\n",
      " [61 44 54 70]\n",
      " [48 53 64 71]]\n"
     ]
    }
   ],
   "source": [
    "np.random.seed(123)\n",
    "A = np.random.randint(0, 10, (3, 4, 3, 4))\n",
    "twoAxisSum = np.sum(A, axis = (-1, -2))\n",
    "print(twoAxisSum)"
   ]
  },
  {
   "cell_type": "markdown",
   "metadata": {},
   "source": [
    "Considering a (w,h,3) image of (dtype=ubyte), compute the number of unique colors"
   ]
  },
  {
   "cell_type": "code",
   "execution_count": 140,
   "metadata": {},
   "outputs": [
    {
     "name": "stdout",
     "output_type": "stream",
     "text": [
      "(16, 16, 3)\n",
      "8\n"
     ]
    }
   ],
   "source": [
    "np.random.seed(123)\n",
    "w, h = 16, 16\n",
    "I = np.random.randint(0, 2, (h, w, 3)).astype(np.ubyte)\n",
    "print(I.shape)\n",
    "colorSet = {(x[2][0], x[2][1], x[2][2]) for x in I}\n",
    "numUnique = len(colorSet)\n",
    "print(numUnique)"
   ]
  },
  {
   "cell_type": "markdown",
   "metadata": {},
   "source": [
    "How to accumulate elements of a vector (X) to an array (F) based on an index list (I)?"
   ]
  },
  {
   "cell_type": "code",
   "execution_count": 141,
   "metadata": {},
   "outputs": [
    {
     "name": "stdout",
     "output_type": "stream",
     "text": [
      "[0. 7. 0. 6. 5. 0. 0. 0. 0. 3.]\n"
     ]
    }
   ],
   "source": [
    "X = [1, 2, 3, 4, 5, 6]\n",
    "I = [1, 3, 9, 3, 4, 1]\n",
    "F = np.bincount(I, X)\n",
    "print(F)\n",
    "\n"
   ]
  },
  {
   "cell_type": "markdown",
   "metadata": {},
   "source": [
    "How to read the following file?"
   ]
  },
  {
   "cell_type": "code",
   "execution_count": 142,
   "metadata": {},
   "outputs": [
    {
     "name": "stdout",
     "output_type": "stream",
     "text": [
      "# File content:\n",
      "# -------------\n",
      "1,2,3,4,5\n",
      "6,,,7,8\n",
      ",,9,10,11\n",
      "# -------------\n"
     ]
    }
   ],
   "source": [
    "fpath = os.path.join(\"data\", \"tabular\", \"missing.dat\")\n",
    "file = open(fpath)\n",
    "print(file.read())"
   ]
  },
  {
   "cell_type": "markdown",
   "metadata": {},
   "source": [
    "\n",
    "Convert a vector of ints into a matrix binary representation"
   ]
  },
  {
   "cell_type": "code",
   "execution_count": 143,
   "metadata": {},
   "outputs": [
    {
     "name": "stdout",
     "output_type": "stream",
     "text": [
      "[[0 0 0 0 0 0 0 0]\n",
      " [1 0 0 0 0 0 0 0]\n",
      " [0 1 0 0 0 0 0 0]\n",
      " [1 1 0 0 0 0 0 0]\n",
      " [1 1 1 1 0 0 0 0]\n",
      " [0 0 0 0 1 0 0 0]\n",
      " [0 0 0 0 0 1 0 0]\n",
      " [0 0 0 0 0 0 1 0]\n",
      " [0 0 0 0 0 0 0 1]]\n"
     ]
    }
   ],
   "source": [
    "I = np.array([0, 1, 2, 3, 15, 16, 32, 64, 128])\n",
    "B = ((I.reshape(-1,1) & (2**np.arange(8))) != 0).astype(int)\n",
    "print(B)"
   ]
  },
  {
   "cell_type": "markdown",
   "metadata": {},
   "source": [
    "Given a two dimensional array, how to extract unique rows?"
   ]
  },
  {
   "cell_type": "code",
   "execution_count": 144,
   "metadata": {},
   "outputs": [
    {
     "name": "stdout",
     "output_type": "stream",
     "text": [
      "[[0 1 0]\n",
      " [0 0 0]\n",
      " [0 1 1]\n",
      " [0 0 0]\n",
      " [0 1 1]\n",
      " [0 1 0]]\n",
      "{(0, 0, 0), (0, 1, 0), (0, 1, 1)}\n"
     ]
    }
   ],
   "source": [
    "Z = np.random.randint(0, 2, (6, 3))\n",
    "print(Z)\n",
    "uniqueRows = {tuple(x) for x in Z}\n",
    "print(uniqueRows)"
   ]
  },
  {
   "cell_type": "markdown",
   "metadata": {},
   "source": [
    "## Pandas"
   ]
  },
  {
   "cell_type": "markdown",
   "metadata": {},
   "source": [
    "Made-up data representing animals and trips to vet"
   ]
  },
  {
   "cell_type": "code",
   "execution_count": 145,
   "metadata": {},
   "outputs": [],
   "source": [
    "data = {'animal': ['cat', 'cat', 'snake', 'dog', 'dog', 'cat', 'snake', 'cat', 'dog', 'dog'],\n",
    "        'age': [2.5, 3, 0.5, np.nan, 5, 2, 4.5, np.nan, 7, 3],\n",
    "        'visits': [1, 3, 2, 3, 2, 3, 1, 1, 2, 1],\n",
    "        'priority': ['yes', 'yes', 'no', 'yes', 'no', 'no', 'no', 'yes', 'no', 'no']}\n",
    "\n",
    "labels = ['a', 'b', 'c', 'd', 'e', 'f', 'g', 'h', 'i', 'j']\n"
   ]
  },
  {
   "cell_type": "markdown",
   "metadata": {},
   "source": [
    "Create a DataFrame df from this dictionary data which has the index labels."
   ]
  },
  {
   "cell_type": "code",
   "execution_count": 146,
   "metadata": {},
   "outputs": [
    {
     "name": "stdout",
     "output_type": "stream",
     "text": [
      "  animal  age  visits priority\n",
      "a    cat  2.5       1      yes\n",
      "b    cat  3.0       3      yes\n",
      "c  snake  0.5       2       no\n",
      "d    dog  NaN       3      yes\n",
      "e    dog  5.0       2       no\n",
      "f    cat  2.0       3       no\n",
      "g  snake  4.5       1       no\n",
      "h    cat  NaN       1      yes\n",
      "i    dog  7.0       2       no\n",
      "j    dog  3.0       1       no\n"
     ]
    }
   ],
   "source": [
    "df = pd.DataFrame(data = data, index = labels)\n",
    "print(df)"
   ]
  },
  {
   "cell_type": "markdown",
   "metadata": {},
   "source": [
    "Display a summary of the basic information about this DataFrame and its data."
   ]
  },
  {
   "cell_type": "code",
   "execution_count": 147,
   "metadata": {},
   "outputs": [
    {
     "name": "stdout",
     "output_type": "stream",
     "text": [
      "<class 'pandas.core.frame.DataFrame'>\n",
      "Index: 10 entries, a to j\n",
      "Data columns (total 4 columns):\n",
      " #   Column    Non-Null Count  Dtype  \n",
      "---  ------    --------------  -----  \n",
      " 0   animal    10 non-null     object \n",
      " 1   age       8 non-null      float64\n",
      " 2   visits    10 non-null     int64  \n",
      " 3   priority  10 non-null     object \n",
      "dtypes: float64(1), int64(1), object(2)\n",
      "memory usage: 400.0+ bytes\n",
      "None\n"
     ]
    }
   ],
   "source": [
    "print(df.info())"
   ]
  },
  {
   "cell_type": "markdown",
   "metadata": {},
   "source": [
    "Return the first 3 rows of the DataFrame df."
   ]
  },
  {
   "cell_type": "code",
   "execution_count": 148,
   "metadata": {},
   "outputs": [
    {
     "name": "stdout",
     "output_type": "stream",
     "text": [
      "  animal  age  visits priority\n",
      "a    cat  2.5       1      yes\n",
      "b    cat  3.0       3      yes\n",
      "c  snake  0.5       2       no\n"
     ]
    }
   ],
   "source": [
    "print(df.head(3))"
   ]
  },
  {
   "cell_type": "markdown",
   "metadata": {},
   "source": [
    "Select just the 'animal' and 'age' columns from the DataFrame df."
   ]
  },
  {
   "cell_type": "code",
   "execution_count": 149,
   "metadata": {},
   "outputs": [
    {
     "name": "stdout",
     "output_type": "stream",
     "text": [
      "  animal  age\n",
      "a    cat  2.5\n",
      "b    cat  3.0\n",
      "c  snake  0.5\n",
      "d    dog  NaN\n",
      "e    dog  5.0\n",
      "f    cat  2.0\n",
      "g  snake  4.5\n",
      "h    cat  NaN\n",
      "i    dog  7.0\n",
      "j    dog  3.0\n"
     ]
    }
   ],
   "source": [
    "print(df[['animal', 'age']])"
   ]
  },
  {
   "cell_type": "markdown",
   "metadata": {},
   "source": [
    "Change the age in row 'f' to 1.5."
   ]
  },
  {
   "cell_type": "code",
   "execution_count": 150,
   "metadata": {},
   "outputs": [
    {
     "name": "stdout",
     "output_type": "stream",
     "text": [
      "animal      cat\n",
      "age         1.5\n",
      "visits        3\n",
      "priority     no\n",
      "Name: f, dtype: object\n"
     ]
    }
   ],
   "source": [
    "df.loc['f', ['age']] = 1.5\n",
    "print (df.loc['f'])"
   ]
  },
  {
   "cell_type": "markdown",
   "metadata": {},
   "source": [
    "Calculate the mean age for each different animal in df."
   ]
  },
  {
   "cell_type": "code",
   "execution_count": 151,
   "metadata": {},
   "outputs": [
    {
     "name": "stdout",
     "output_type": "stream",
     "text": [
      "3.375\n"
     ]
    }
   ],
   "source": [
    "meanAge = df['age'].mean()\n",
    "print(meanAge)\n"
   ]
  },
  {
   "cell_type": "markdown",
   "metadata": {},
   "source": [
    " In the 'animal' column, change the 'snake' entries to 'python'."
   ]
  },
  {
   "cell_type": "code",
   "execution_count": 152,
   "metadata": {},
   "outputs": [
    {
     "name": "stdout",
     "output_type": "stream",
     "text": [
      "   animal  age  visits priority\n",
      "a     cat  2.5       1      yes\n",
      "b     cat  3.0       3      yes\n",
      "c  python  0.5       2       no\n",
      "d     dog  NaN       3      yes\n",
      "e     dog  5.0       2       no\n",
      "f     cat  1.5       3       no\n",
      "g  python  4.5       1       no\n",
      "h     cat  NaN       1      yes\n",
      "i     dog  7.0       2       no\n",
      "j     dog  3.0       1       no\n"
     ]
    }
   ],
   "source": [
    "df['animal'] = df['animal'].replace('snake', 'python')\n",
    "print(df)"
   ]
  },
  {
   "cell_type": "markdown",
   "metadata": {},
   "source": [
    "For each animal type and each number of visits, find the mean age. In other words, each row is an animal, each column is a number of visits and the values are the mean ages (hint: use a pivot table)."
   ]
  },
  {
   "cell_type": "code",
   "execution_count": 153,
   "metadata": {},
   "outputs": [
    {
     "name": "stdout",
     "output_type": "stream",
     "text": [
      "             age\n",
      "visits          \n",
      "1       3.333333\n",
      "2       4.166667\n",
      "3       2.250000\n"
     ]
    }
   ],
   "source": [
    "pivotTable = pd.pivot_table(df, index = 'visits', values = 'age')\n",
    "print(pivotTable)"
   ]
  },
  {
   "cell_type": "markdown",
   "metadata": {},
   "source": [
    "Given a DataFrame, subtract the row mean from each element in the row?"
   ]
  },
  {
   "cell_type": "code",
   "execution_count": 154,
   "metadata": {},
   "outputs": [
    {
     "name": "stdout",
     "output_type": "stream",
     "text": [
      "          0         1         2\n",
      "0  0.491190  0.270176  0.360424\n",
      "1  0.210653  0.421200  0.218035\n",
      "2  0.845753  0.456271  0.279802\n",
      "3  0.932892  0.314351  0.909715\n",
      "4  0.043418  0.707115  0.483889\n",
      "          0         1         2\n",
      "0  0.117260 -0.103754 -0.013506\n",
      "1 -0.072643  0.137904 -0.065261\n",
      "2  0.318477 -0.071004 -0.247473\n",
      "3  0.213906 -0.404635  0.190729\n",
      "4 -0.368056  0.295641  0.072415\n"
     ]
    }
   ],
   "source": [
    "# a 5x3 frame of float values\n",
    "df_floats = pd.DataFrame(np.random.random(size=(5, 3)))\n",
    "print(df_floats)\n",
    "df_floats = df_floats.sub(df_floats.mean(axis = 1), axis = 0)\n",
    "print(df_floats)"
   ]
  },
  {
   "cell_type": "markdown",
   "metadata": {},
   "source": [
    "### Series and Datetimeindex"
   ]
  },
  {
   "cell_type": "markdown",
   "metadata": {},
   "source": [
    "Create a DatetimeIndex that contains each business day of 2015 and use it to index a Series of random numbers. Let's call this Series s."
   ]
  },
  {
   "cell_type": "code",
   "execution_count": 155,
   "metadata": {},
   "outputs": [
    {
     "name": "stdout",
     "output_type": "stream",
     "text": [
      "2015-01-01    55\n",
      "2015-01-02    31\n",
      "2015-01-05    31\n",
      "2015-01-06    35\n",
      "2015-01-07    30\n",
      "              ..\n",
      "2015-12-25    55\n",
      "2015-12-28    93\n",
      "2015-12-29    54\n",
      "2015-12-30    52\n",
      "2015-12-31    47\n",
      "Freq: B, Length: 261, dtype: int32\n"
     ]
    }
   ],
   "source": [
    "timeframe = pd.bdate_range(start = \"2015-1-1\", end = \"2015-12-31\")\n",
    "s = pd.Series(data = np.random.randint(0, 100, size = (len(timeframe))), index = timeframe)\n",
    "print(s)\n"
   ]
  },
  {
   "cell_type": "markdown",
   "metadata": {},
   "source": [
    "Find the sum of the values in s for every Wednesday."
   ]
  },
  {
   "cell_type": "code",
   "execution_count": 156,
   "metadata": {},
   "outputs": [
    {
     "name": "stdout",
     "output_type": "stream",
     "text": [
      "2519\n"
     ]
    }
   ],
   "source": [
    "wednesdaySum = sum(s[s.index.weekday == 2])\n",
    "print(wednesdaySum)"
   ]
  },
  {
   "cell_type": "markdown",
   "metadata": {},
   "source": [
    "For each calendar month in s, find the mean of values."
   ]
  },
  {
   "cell_type": "code",
   "execution_count": 157,
   "metadata": {},
   "outputs": [
    {
     "name": "stdout",
     "output_type": "stream",
     "text": [
      "1     46.454545\n",
      "2     64.200000\n",
      "3     49.045455\n",
      "4     41.045455\n",
      "5     55.857143\n",
      "6     48.681818\n",
      "7     45.565217\n",
      "8     54.095238\n",
      "9     50.090909\n",
      "10    50.136364\n",
      "11    50.476190\n",
      "12    46.086957\n",
      "dtype: float64\n",
      "2015-01-31    46.454545\n",
      "2015-02-28    64.200000\n",
      "2015-03-31    49.045455\n",
      "2015-04-30    41.045455\n",
      "2015-05-31    55.857143\n",
      "2015-06-30    48.681818\n",
      "2015-07-31    45.565217\n",
      "2015-08-31    54.095238\n",
      "2015-09-30    50.090909\n",
      "2015-10-31    50.136364\n",
      "2015-11-30    50.476190\n",
      "2015-12-31    46.086957\n",
      "Freq: M, dtype: float64\n"
     ]
    }
   ],
   "source": [
    "monthMeans  = s.groupby(by = s.index.month).mean() # https://www.statology.org/pandas-group-by-month/\n",
    "monthMeans2 = s.groupby(by = pd.Grouper(freq = 'M')).mean() # Does the same thing, but groups by last day of the month https://stackoverflow.com/questions/24082784/pandas-dataframe-groupby-datetime-month\n",
    "print(monthMeans)\n",
    "print(monthMeans2)"
   ]
  },
  {
   "cell_type": "markdown",
   "metadata": {},
   "source": [
    "For each group of four consecutive calendar months in s, find the date on which the highest value occurred."
   ]
  },
  {
   "cell_type": "code",
   "execution_count": 158,
   "metadata": {},
   "outputs": [
    {
     "name": "stdout",
     "output_type": "stream",
     "text": [
      "0   2015-02-04\n",
      "1   2015-07-16\n",
      "2   2015-09-04\n",
      "dtype: datetime64[ns]\n"
     ]
    }
   ],
   "source": [
    "fourMonthMax  = s.groupby(by = (s.index.month - 1) // 4).idxmax()\n",
    "print(fourMonthMax)"
   ]
  },
  {
   "cell_type": "markdown",
   "metadata": {},
   "source": [
    "### Cleaning Data"
   ]
  },
  {
   "cell_type": "markdown",
   "metadata": {},
   "source": [
    "The DataFrame to use in the following puzzles:"
   ]
  },
  {
   "cell_type": "code",
   "execution_count": 159,
   "metadata": {},
   "outputs": [
    {
     "data": {
      "text/html": [
       "<div>\n",
       "<style scoped>\n",
       "    .dataframe tbody tr th:only-of-type {\n",
       "        vertical-align: middle;\n",
       "    }\n",
       "\n",
       "    .dataframe tbody tr th {\n",
       "        vertical-align: top;\n",
       "    }\n",
       "\n",
       "    .dataframe thead th {\n",
       "        text-align: right;\n",
       "    }\n",
       "</style>\n",
       "<table border=\"1\" class=\"dataframe\">\n",
       "  <thead>\n",
       "    <tr style=\"text-align: right;\">\n",
       "      <th></th>\n",
       "      <th>From_To</th>\n",
       "      <th>FlightNumber</th>\n",
       "      <th>RecentDelays</th>\n",
       "      <th>Airline</th>\n",
       "    </tr>\n",
       "  </thead>\n",
       "  <tbody>\n",
       "    <tr>\n",
       "      <th>0</th>\n",
       "      <td>LoNDon_paris</td>\n",
       "      <td>10045.0</td>\n",
       "      <td>[23, 47]</td>\n",
       "      <td>KLM(!)</td>\n",
       "    </tr>\n",
       "    <tr>\n",
       "      <th>1</th>\n",
       "      <td>MAdrid_miLAN</td>\n",
       "      <td>NaN</td>\n",
       "      <td>[]</td>\n",
       "      <td>&lt;Air France&gt; (12)</td>\n",
       "    </tr>\n",
       "    <tr>\n",
       "      <th>2</th>\n",
       "      <td>londON_StockhOlm</td>\n",
       "      <td>10065.0</td>\n",
       "      <td>[24, 43, 87]</td>\n",
       "      <td>(British Airways. )</td>\n",
       "    </tr>\n",
       "    <tr>\n",
       "      <th>3</th>\n",
       "      <td>Budapest_PaRis</td>\n",
       "      <td>NaN</td>\n",
       "      <td>[13]</td>\n",
       "      <td>12. Air France</td>\n",
       "    </tr>\n",
       "    <tr>\n",
       "      <th>4</th>\n",
       "      <td>Brussels_londOn</td>\n",
       "      <td>10085.0</td>\n",
       "      <td>[67, 32]</td>\n",
       "      <td>\"Swiss Air\"</td>\n",
       "    </tr>\n",
       "  </tbody>\n",
       "</table>\n",
       "</div>"
      ],
      "text/plain": [
       "            From_To  FlightNumber  RecentDelays              Airline\n",
       "0      LoNDon_paris       10045.0      [23, 47]               KLM(!)\n",
       "1      MAdrid_miLAN           NaN            []    <Air France> (12)\n",
       "2  londON_StockhOlm       10065.0  [24, 43, 87]  (British Airways. )\n",
       "3    Budapest_PaRis           NaN          [13]       12. Air France\n",
       "4   Brussels_londOn       10085.0      [67, 32]          \"Swiss Air\""
      ]
     },
     "execution_count": 159,
     "metadata": {},
     "output_type": "execute_result"
    }
   ],
   "source": [
    "df = pd.DataFrame({'From_To': ['LoNDon_paris', 'MAdrid_miLAN', 'londON_StockhOlm', \n",
    "                               'Budapest_PaRis', 'Brussels_londOn'],\n",
    "              'FlightNumber': [10045, np.nan, 10065, np.nan, 10085],\n",
    "              'RecentDelays': [[23, 47], [], [24, 43, 87], [13], [67, 32]],\n",
    "                   'Airline': ['KLM(!)', '<Air France> (12)', '(British Airways. )', \n",
    "                               '12. Air France', '\"Swiss Air\"']})\n",
    "\n",
    "df.head()"
   ]
  },
  {
   "cell_type": "markdown",
   "metadata": {},
   "source": [
    " Some values in the the FlightNumber column are missing. These numbers are meant to increase by 10 with each row so 10055 and 10075 need to be put in place. Fill in these missing numbers and make the column an integer column (instead of a float column)."
   ]
  },
  {
   "cell_type": "code",
   "execution_count": 160,
   "metadata": {},
   "outputs": [
    {
     "name": "stdout",
     "output_type": "stream",
     "text": [
      "            From_To  FlightNumber  RecentDelays              Airline\n",
      "0      LoNDon_paris       10045.0      [23, 47]               KLM(!)\n",
      "1      MAdrid_miLAN       10055.0            []    <Air France> (12)\n",
      "2  londON_StockhOlm       10065.0  [24, 43, 87]  (British Airways. )\n",
      "3    Budapest_PaRis       10075.0          [13]       12. Air France\n",
      "4   Brussels_londOn       10085.0      [67, 32]          \"Swiss Air\"\n"
     ]
    }
   ],
   "source": [
    "# https://stackoverflow.com/questions/69495398/how-to-fillna-in-pandas-dataframe-based-on-pattern-like-in-excel-dragging\n",
    "df['FlightNumber'] = df['FlightNumber'].interpolate(method='linear')\n",
    "print(df)"
   ]
  },
  {
   "cell_type": "markdown",
   "metadata": {},
   "source": [
    "The From_To column would be better as two separate columns! Split each string on the underscore delimiter _ to give a new temporary DataFrame with the correct values. Assign the correct column names to this temporary DataFrame."
   ]
  },
  {
   "cell_type": "code",
   "execution_count": 161,
   "metadata": {},
   "outputs": [
    {
     "data": {
      "text/html": [
       "<div>\n",
       "<style scoped>\n",
       "    .dataframe tbody tr th:only-of-type {\n",
       "        vertical-align: middle;\n",
       "    }\n",
       "\n",
       "    .dataframe tbody tr th {\n",
       "        vertical-align: top;\n",
       "    }\n",
       "\n",
       "    .dataframe thead th {\n",
       "        text-align: right;\n",
       "    }\n",
       "</style>\n",
       "<table border=\"1\" class=\"dataframe\">\n",
       "  <thead>\n",
       "    <tr style=\"text-align: right;\">\n",
       "      <th></th>\n",
       "      <th>From</th>\n",
       "      <th>To</th>\n",
       "    </tr>\n",
       "  </thead>\n",
       "  <tbody>\n",
       "    <tr>\n",
       "      <th>0</th>\n",
       "      <td>LoNDon</td>\n",
       "      <td>paris</td>\n",
       "    </tr>\n",
       "    <tr>\n",
       "      <th>1</th>\n",
       "      <td>MAdrid</td>\n",
       "      <td>miLAN</td>\n",
       "    </tr>\n",
       "    <tr>\n",
       "      <th>2</th>\n",
       "      <td>londON</td>\n",
       "      <td>StockhOlm</td>\n",
       "    </tr>\n",
       "    <tr>\n",
       "      <th>3</th>\n",
       "      <td>Budapest</td>\n",
       "      <td>PaRis</td>\n",
       "    </tr>\n",
       "    <tr>\n",
       "      <th>4</th>\n",
       "      <td>Brussels</td>\n",
       "      <td>londOn</td>\n",
       "    </tr>\n",
       "  </tbody>\n",
       "</table>\n",
       "</div>"
      ],
      "text/plain": [
       "       From         To\n",
       "0    LoNDon      paris\n",
       "1    MAdrid      miLAN\n",
       "2    londON  StockhOlm\n",
       "3  Budapest      PaRis\n",
       "4  Brussels     londOn"
      ]
     },
     "execution_count": 161,
     "metadata": {},
     "output_type": "execute_result"
    }
   ],
   "source": [
    "tempDf = df['From_To'].str.split(\"_\", expand = True)\n",
    "tempDf = tempDf.rename(columns = {0 : 'From', 1 : 'To'})\n",
    "tempDf.head()\n"
   ]
  },
  {
   "cell_type": "markdown",
   "metadata": {},
   "source": [
    "Notice how the capitalisation of the city names is all mixed up in this temporary DataFrame. Standardise the strings so that only the first letter is uppercase (e.g. \"londON\" should become \"London\".)"
   ]
  },
  {
   "cell_type": "code",
   "execution_count": 162,
   "metadata": {},
   "outputs": [
    {
     "data": {
      "text/html": [
       "<div>\n",
       "<style scoped>\n",
       "    .dataframe tbody tr th:only-of-type {\n",
       "        vertical-align: middle;\n",
       "    }\n",
       "\n",
       "    .dataframe tbody tr th {\n",
       "        vertical-align: top;\n",
       "    }\n",
       "\n",
       "    .dataframe thead th {\n",
       "        text-align: right;\n",
       "    }\n",
       "</style>\n",
       "<table border=\"1\" class=\"dataframe\">\n",
       "  <thead>\n",
       "    <tr style=\"text-align: right;\">\n",
       "      <th></th>\n",
       "      <th>From</th>\n",
       "      <th>To</th>\n",
       "    </tr>\n",
       "  </thead>\n",
       "  <tbody>\n",
       "    <tr>\n",
       "      <th>0</th>\n",
       "      <td>London</td>\n",
       "      <td>Paris</td>\n",
       "    </tr>\n",
       "    <tr>\n",
       "      <th>1</th>\n",
       "      <td>Madrid</td>\n",
       "      <td>Milan</td>\n",
       "    </tr>\n",
       "    <tr>\n",
       "      <th>2</th>\n",
       "      <td>London</td>\n",
       "      <td>Stockholm</td>\n",
       "    </tr>\n",
       "    <tr>\n",
       "      <th>3</th>\n",
       "      <td>Budapest</td>\n",
       "      <td>Paris</td>\n",
       "    </tr>\n",
       "    <tr>\n",
       "      <th>4</th>\n",
       "      <td>Brussels</td>\n",
       "      <td>London</td>\n",
       "    </tr>\n",
       "  </tbody>\n",
       "</table>\n",
       "</div>"
      ],
      "text/plain": [
       "       From         To\n",
       "0    London      Paris\n",
       "1    Madrid      Milan\n",
       "2    London  Stockholm\n",
       "3  Budapest      Paris\n",
       "4  Brussels     London"
      ]
     },
     "execution_count": 162,
     "metadata": {},
     "output_type": "execute_result"
    }
   ],
   "source": [
    "tempDf['From'] = tempDf['From'].str.capitalize()\n",
    "tempDf['To'] = tempDf['To'].str.capitalize()\n",
    "\n",
    "tempDf.head()"
   ]
  },
  {
   "cell_type": "markdown",
   "metadata": {},
   "source": [
    "Delete the From_To column from df and attach the temporary DataFrame from the previous questions."
   ]
  },
  {
   "cell_type": "code",
   "execution_count": 163,
   "metadata": {},
   "outputs": [
    {
     "data": {
      "text/html": [
       "<div>\n",
       "<style scoped>\n",
       "    .dataframe tbody tr th:only-of-type {\n",
       "        vertical-align: middle;\n",
       "    }\n",
       "\n",
       "    .dataframe tbody tr th {\n",
       "        vertical-align: top;\n",
       "    }\n",
       "\n",
       "    .dataframe thead th {\n",
       "        text-align: right;\n",
       "    }\n",
       "</style>\n",
       "<table border=\"1\" class=\"dataframe\">\n",
       "  <thead>\n",
       "    <tr style=\"text-align: right;\">\n",
       "      <th></th>\n",
       "      <th>FlightNumber</th>\n",
       "      <th>RecentDelays</th>\n",
       "      <th>Airline</th>\n",
       "      <th>From</th>\n",
       "      <th>To</th>\n",
       "    </tr>\n",
       "  </thead>\n",
       "  <tbody>\n",
       "    <tr>\n",
       "      <th>0</th>\n",
       "      <td>10045.0</td>\n",
       "      <td>[23, 47]</td>\n",
       "      <td>KLM(!)</td>\n",
       "      <td>London</td>\n",
       "      <td>Paris</td>\n",
       "    </tr>\n",
       "    <tr>\n",
       "      <th>1</th>\n",
       "      <td>10055.0</td>\n",
       "      <td>[]</td>\n",
       "      <td>&lt;Air France&gt; (12)</td>\n",
       "      <td>Madrid</td>\n",
       "      <td>Milan</td>\n",
       "    </tr>\n",
       "    <tr>\n",
       "      <th>2</th>\n",
       "      <td>10065.0</td>\n",
       "      <td>[24, 43, 87]</td>\n",
       "      <td>(British Airways. )</td>\n",
       "      <td>London</td>\n",
       "      <td>Stockholm</td>\n",
       "    </tr>\n",
       "    <tr>\n",
       "      <th>3</th>\n",
       "      <td>10075.0</td>\n",
       "      <td>[13]</td>\n",
       "      <td>12. Air France</td>\n",
       "      <td>Budapest</td>\n",
       "      <td>Paris</td>\n",
       "    </tr>\n",
       "    <tr>\n",
       "      <th>4</th>\n",
       "      <td>10085.0</td>\n",
       "      <td>[67, 32]</td>\n",
       "      <td>\"Swiss Air\"</td>\n",
       "      <td>Brussels</td>\n",
       "      <td>London</td>\n",
       "    </tr>\n",
       "  </tbody>\n",
       "</table>\n",
       "</div>"
      ],
      "text/plain": [
       "   FlightNumber  RecentDelays              Airline      From         To\n",
       "0       10045.0      [23, 47]               KLM(!)    London      Paris\n",
       "1       10055.0            []    <Air France> (12)    Madrid      Milan\n",
       "2       10065.0  [24, 43, 87]  (British Airways. )    London  Stockholm\n",
       "3       10075.0          [13]       12. Air France  Budapest      Paris\n",
       "4       10085.0      [67, 32]          \"Swiss Air\"  Brussels     London"
      ]
     },
     "execution_count": 163,
     "metadata": {},
     "output_type": "execute_result"
    }
   ],
   "source": [
    "\n",
    "df = df.drop('From_To', axis = 1)\n",
    "df = df.assign(From = tempDf['From'], To = tempDf['To'])\n",
    "tempDf.head()\n",
    "df.head()"
   ]
  },
  {
   "cell_type": "markdown",
   "metadata": {},
   "source": [
    "### Plotting\n",
    "Pandas is integrated with the plotting library matplotlib, and makes plotting DataFrames very user-friendly! Plotting in a notebook environment usually makes use of the following boilerplate:"
   ]
  },
  {
   "cell_type": "markdown",
   "metadata": {},
   "source": [
    "matplotlib is the plotting library which pandas' plotting functionality is built upon, and it is usually aliased to plt.\n",
    "\n",
    "%matplotlib inline tells the notebook to show plots inline, instead of creating them in a separate window.\n",
    "\n",
    "plt.style.use('ggplot') is a style theme that most people find agreeable, based upon the styling of R's ggplot package.\n",
    "\n",
    "See the documentation <https://pandas.pydata.org/pandas-docs/stable/generated/pandas.DataFrame.plot.html> if you get stuck!"
   ]
  },
  {
   "cell_type": "code",
   "execution_count": 164,
   "metadata": {},
   "outputs": [],
   "source": [
    "import matplotlib.pyplot as plt\n",
    "%matplotlib inline\n",
    "plt.style.use('ggplot')"
   ]
  },
  {
   "cell_type": "code",
   "execution_count": 165,
   "metadata": {},
   "outputs": [],
   "source": [
    "df = pd.DataFrame({\"xs\":[1,5,2,8,1], \"ys\":[4,2,1,9,6]})"
   ]
  },
  {
   "cell_type": "markdown",
   "metadata": {},
   "source": [
    "### 1.31)\n",
    "For starters, make a scatter plot of this random data, but use black X's instead of the default markers. Add title \"Scatter Plot\" to the plot. Use df from previous cell.\n",
    "\n",
    "*NOTE: Don't forget to add [any] title and axes labels*"
   ]
  },
  {
   "cell_type": "code",
   "execution_count": 166,
   "metadata": {
    "scrolled": true
   },
   "outputs": [
    {
     "name": "stderr",
     "output_type": "stream",
     "text": [
      "No artists with labels found to put in legend.  Note that artists whose label start with an underscore are ignored when legend() is called with no argument.\n"
     ]
    },
    {
     "data": {
      "text/plain": [
       "<matplotlib.legend.Legend at 0x158f6e50850>"
      ]
     },
     "execution_count": 166,
     "metadata": {},
     "output_type": "execute_result"
    },
    {
     "data": {
      "image/png": "[encoded data removed]",
      "text/plain": [
       "<Figure size 640x480 with 1 Axes>"
      ]
     },
     "metadata": {},
     "output_type": "display_data"
    }
   ],
   "source": [
    "df.plot.scatter(x = 'xs', y = 'ys', c = 'Black', marker = 'x')\n",
    "plt.title(\"X vs Y\")\n",
    "plt.xlabel(\"X\")\n",
    "plt.ylabel(\"Y\")\n",
    "plt.legend()"
   ]
  },
  {
   "cell_type": "markdown",
   "metadata": {},
   "source": [
    "Columns in your DataFrame can also be used to modify colors and sizes. Bill has been keeping track of his performance at work over time, as well as how good he was feeling that day, and whether he had a cup of coffee in the morning. Make a plot which incorporates all four features of this DataFrame.\n",
    "\n",
    "(Hint: If you're having trouble seeing the plot, try multiplying the Series which you choose to represent size by 10 or more)"
   ]
  },
  {
   "cell_type": "code",
   "execution_count": 167,
   "metadata": {},
   "outputs": [
    {
     "data": {
      "text/plain": [
       "Text(5, 8, 'Note: \\nLarger means Caffientated')"
      ]
     },
     "execution_count": 167,
     "metadata": {},
     "output_type": "execute_result"
    },
    {
     "data": {
      "image/png": "[encoded data removed]",
      "text/plain": [
       "<Figure size 640x480 with 2 Axes>"
      ]
     },
     "metadata": {},
     "output_type": "display_data"
    }
   ],
   "source": [
    "df2 = pd.DataFrame({\"productivity\":[5,2,3,1,4,5,6,7,8,3,4,8,9],\n",
    "                   \"hours_in\"    :[1,9,6,5,3,9,2,9,1,7,4,2,2],\n",
    "                   \"happiness\"   :[2,1,3,2,3,1,2,3,1,2,2,1,3],\n",
    "                   \"caffienated\" :[0,0,1,1,0,0,0,0,1,1,0,1,0]})\n",
    "# https://pandas.pydata.org/pandas-docs/version/0.25.0/reference/api/pandas.DataFrame.plot.scatter.html\n",
    "axes = df2.plot.scatter(x = 'hours_in', y = 'productivity', c = 'happiness', colormap = 'viridis', s = 100 * (df2['caffienated'] + 1), colorbar = True)\n",
    "plt.xlabel(\"Hours In\")\n",
    "plt.ylabel(\"Productivity\")\n",
    "# https://stackoverflow.com/questions/33240427/getting-colorbar-instance-of-scatter-plot-in-pandas-matplotlib \n",
    "plt.gcf().get_axes()[1].set_ylabel(\"Happiness\")\n",
    "plt.title(\"Bill's Performance\")\n",
    "plt.text(5, 8, \"Note: \\nLarger means Caffientated\")"
   ]
  },
  {
   "cell_type": "markdown",
   "metadata": {},
   "source": [
    "### 1.33)\n",
    "What if we want to plot multiple things? Pandas allows you to pass in a matplotlib Axis object for plots, and plots will also return an Axis object.\n",
    "\n",
    "Make a bar plot of monthly revenue with a line plot of monthly advertising spending (numbers in millions)\n",
    "- Two plots should be in one figure\n",
    "- Make sure that the y-axis scales of 2 plots are different\n",
    "- Be sure to include legend"
   ]
  },
  {
   "cell_type": "code",
   "execution_count": 168,
   "metadata": {},
   "outputs": [
    {
     "data": {
      "text/plain": [
       "<matplotlib.legend.Legend at 0x158f70f2290>"
      ]
     },
     "execution_count": 168,
     "metadata": {},
     "output_type": "execute_result"
    },
    {
     "data": {
      "image/png": "[encoded data removed]",
      "text/plain": [
       "<Figure size 640x480 with 2 Axes>"
      ]
     },
     "metadata": {},
     "output_type": "display_data"
    }
   ],
   "source": [
    "df_to_plot = pd.DataFrame({\"revenue\":[57,68,63,71,72,90,80,62,59,51,47,52],\n",
    "                   \"advertising\":[2.1,1.9,2.7,3.0,3.6,3.2,2.7,2.4,1.8,1.6,1.3,1.9],\n",
    "                   \"month\":range(12)\n",
    "                  })\n",
    "# https://www.tutorialspoint.com/stuffing-a-pandas-dataframe-plot-into-a-matplotlib-subplot\n",
    "fig, axes = plt.subplots(1, 2)\n",
    "df_to_plot.plot(ax = axes[0], x = 'month', y = 'revenue', kind = 'bar')\n",
    "df_to_plot.plot(ax = axes[1], x = 'month', y = 'advertising', kind = 'line')\n",
    "axes[0].set_title(\"Revenue\")\n",
    "axes[0].set_ylabel(\"Dollars (Millions)\")\n",
    "axes[0].set_xlabel(\"Month\")\n",
    "axes[0].set_xticklabels([\"Jan\", \"Feb\", \"Mar\", \"Apr\", \"May\", \"Jun\", \"Jul\", \"Aug\", \"Sep\", \"Oct\", \"Nov\", \"Dec\"])\n",
    "\n",
    "axes[1].set_title(\"Avertising\")\n",
    "axes[1].set_xticks(np.arange(12))\n",
    "axes[1].set_xticklabels([\"Jan\", \"Feb\", \"Mar\", \"Apr\", \"May\", \"Jun\", \"Jul\", \"Aug\", \"Sep\", \"Oct\", \"Nov\", \"Dec\"], rotation = \"vertical\")\n",
    "axes[1].set_xlabel(\"Month\")\n",
    "# axes[0].set_ylabel(\"Dollars (Millions)\")\n",
    "\n",
    "plt.legend()"
   ]
  },
  {
   "cell_type": "markdown",
   "metadata": {},
   "source": [
    "### 1.33)\n",
    "What if we want to put the x-axis in a different scale? Create two line plots with xs as x-axis and ys as y-axis. First plot uses log scaling on x-axis, and the second plot uses default scaling on x-axis. "
   ]
  },
  {
   "cell_type": "code",
   "execution_count": 169,
   "metadata": {},
   "outputs": [
    {
     "data": {
      "text/plain": [
       "Text(0.5, 0, 'X')"
      ]
     },
     "execution_count": 169,
     "metadata": {},
     "output_type": "execute_result"
    },
    {
     "data": {
      "image/png": "[encoded data removed]",
      "text/plain": [
       "<Figure size 640x480 with 2 Axes>"
      ]
     },
     "metadata": {},
     "output_type": "display_data"
    }
   ],
   "source": [
    "df3 = pd.DataFrame({\"xs\":np.logspace(-2, 2, base=10, num=12),\n",
    "                   \"ys\":range(12)\n",
    "                  })\n",
    "\n",
    "fig, axes = plt.subplots(1, 2)\n",
    "df3.plot(ax = axes[0], x = 'xs', y = 'ys', logx = True)\n",
    "df3.plot(ax = axes[1], x = 'xs', y = 'ys')\n",
    "\n",
    "axes[0].set_title(\"Logarithmic\")\n",
    "axes[0].set_ylabel(\"Y\")\n",
    "axes[0].set_xlabel(\"X\")\n",
    "\n",
    "axes[1].set_title(\"Linearly\")\n",
    "axes[1].set_ylabel(\"Y\")\n",
    "axes[1].set_xlabel(\"X\")"
   ]
  },
  {
   "cell_type": "markdown",
   "metadata": {},
   "source": [
    "##Matrix Manipulations\n",
    "Lets first create a matrix and perform some manipulations of it.\n",
    "\n",
    "Using numpy's matrix data structure, define the following matricies:\n",
    "\n",
    "$$A=\\left[ \\begin{array}{ccc} 3 & 5 & 9 \\\\ 3 & 3 & 4 \\\\ 5 & 9 & 17 \\end{array} \\right]$$\n",
    "\n",
    "$$B=\\left[ \\begin{array}{c} 2 \\\\ 1 \\\\ 4 \\end{array} \\right]$$\n",
    "\n",
    "After this solve the matrix equation:\n",
    "$$Ax = B$$"
   ]
  },
  {
   "cell_type": "code",
   "execution_count": 170,
   "metadata": {
    "collapsed": false
   },
   "outputs": [
    {
     "name": "stdout",
     "output_type": "stream",
     "text": [
      "[[ 3  5  9]\n",
      " [ 3  3  4]\n",
      " [ 5  9 17]]\n",
      "[[2]\n",
      " [1]\n",
      " [4]]\n",
      "[[ 1.]\n",
      " [-2.]\n",
      " [ 1.]]\n",
      "True\n"
     ]
    }
   ],
   "source": [
    "A = np.array([\n",
    "    [3, 5, 9],\n",
    "    [3, 3, 4],\n",
    "    [5, 9, 17]\n",
    "])\n",
    "B = np.array([\n",
    "    [2],\n",
    "    [1],\n",
    "    [4]\n",
    "])\n",
    "print(A)\n",
    "print(B)\n",
    "solution = np.linalg.solve(A, B)\n",
    "print(solution)\n",
    "print(np.allclose(np.dot(A, solution), B))"
   ]
  },
  {
   "cell_type": "markdown",
   "metadata": {},
   "source": [
    "Now write three functions for matrix multiply $C=AB$ in each of the following styles:\n",
    "\n",
    "1. By using nested for loops to impliment the naive algorithm ($C_{ij}=\\sum_{k=0}^{m-1}A_{ik}B_{kj}$)\n",
    "2. Using numpy's built in martrix multiplication  \n",
    "\n",
    "Both methods should have the same answer"
   ]
  },
  {
   "cell_type": "code",
   "execution_count": 171,
   "metadata": {},
   "outputs": [
    {
     "name": "stdout",
     "output_type": "stream",
     "text": [
      "[[47.]\n",
      " [25.]\n",
      " [87.]]\n"
     ]
    }
   ],
   "source": [
    "solution1 = 0\n",
    "a = A.shape[0]\n",
    "b = B.shape[1]\n",
    "C = np.zeros((a, b))\n",
    "\n",
    "m = A.shape[1]\n",
    "for i in range(a):\n",
    "    for j in range(b):\n",
    "        for k in range(m):\n",
    "            C[i][j] += A[i][k] * B[k][j]\n",
    "\n",
    "print(C)"
   ]
  },
  {
   "cell_type": "code",
   "execution_count": 172,
   "metadata": {
    "collapsed": false
   },
   "outputs": [
    {
     "name": "stdout",
     "output_type": "stream",
     "text": [
      "[[47]\n",
      " [25]\n",
      " [87]]\n"
     ]
    }
   ],
   "source": [
    "C = np.matmul(A, B)\n",
    "print(C)"
   ]
  },
  {
   "cell_type": "markdown",
   "metadata": {},
   "source": [
    "## Part 2\n",
    "Getting used to the data"
   ]
  },
  {
   "cell_type": "code",
   "execution_count": 173,
   "metadata": {},
   "outputs": [
    {
     "data": {
      "text/html": [
       "<div>\n",
       "<style scoped>\n",
       "    .dataframe tbody tr th:only-of-type {\n",
       "        vertical-align: middle;\n",
       "    }\n",
       "\n",
       "    .dataframe tbody tr th {\n",
       "        vertical-align: top;\n",
       "    }\n",
       "\n",
       "    .dataframe thead th {\n",
       "        text-align: right;\n",
       "    }\n",
       "</style>\n",
       "<table border=\"1\" class=\"dataframe\">\n",
       "  <thead>\n",
       "    <tr style=\"text-align: right;\">\n",
       "      <th></th>\n",
       "      <th>mpg</th>\n",
       "      <th>cylinders</th>\n",
       "      <th>displacement</th>\n",
       "      <th>horsepower</th>\n",
       "      <th>weight</th>\n",
       "      <th>acceleration</th>\n",
       "      <th>model_year</th>\n",
       "      <th>origin</th>\n",
       "      <th>car_name</th>\n",
       "    </tr>\n",
       "  </thead>\n",
       "  <tbody>\n",
       "    <tr>\n",
       "      <th>0</th>\n",
       "      <td>18.0</td>\n",
       "      <td>8</td>\n",
       "      <td>307.0</td>\n",
       "      <td>130</td>\n",
       "      <td>3504</td>\n",
       "      <td>12.0</td>\n",
       "      <td>70</td>\n",
       "      <td>1</td>\n",
       "      <td>chevrolet chevelle malibu</td>\n",
       "    </tr>\n",
       "    <tr>\n",
       "      <th>1</th>\n",
       "      <td>15.0</td>\n",
       "      <td>8</td>\n",
       "      <td>350.0</td>\n",
       "      <td>165</td>\n",
       "      <td>3693</td>\n",
       "      <td>11.5</td>\n",
       "      <td>70</td>\n",
       "      <td>1</td>\n",
       "      <td>buick skylark 320</td>\n",
       "    </tr>\n",
       "    <tr>\n",
       "      <th>2</th>\n",
       "      <td>18.0</td>\n",
       "      <td>8</td>\n",
       "      <td>318.0</td>\n",
       "      <td>150</td>\n",
       "      <td>3436</td>\n",
       "      <td>11.0</td>\n",
       "      <td>70</td>\n",
       "      <td>1</td>\n",
       "      <td>plymouth satellite</td>\n",
       "    </tr>\n",
       "    <tr>\n",
       "      <th>3</th>\n",
       "      <td>16.0</td>\n",
       "      <td>8</td>\n",
       "      <td>304.0</td>\n",
       "      <td>150</td>\n",
       "      <td>3433</td>\n",
       "      <td>12.0</td>\n",
       "      <td>70</td>\n",
       "      <td>1</td>\n",
       "      <td>amc rebel sst</td>\n",
       "    </tr>\n",
       "    <tr>\n",
       "      <th>4</th>\n",
       "      <td>17.0</td>\n",
       "      <td>8</td>\n",
       "      <td>302.0</td>\n",
       "      <td>140</td>\n",
       "      <td>3449</td>\n",
       "      <td>10.5</td>\n",
       "      <td>70</td>\n",
       "      <td>1</td>\n",
       "      <td>ford torino</td>\n",
       "    </tr>\n",
       "  </tbody>\n",
       "</table>\n",
       "</div>"
      ],
      "text/plain": [
       "    mpg  cylinders  displacement  horsepower  weight  acceleration  \\\n",
       "0  18.0          8         307.0         130    3504          12.0   \n",
       "1  15.0          8         350.0         165    3693          11.5   \n",
       "2  18.0          8         318.0         150    3436          11.0   \n",
       "3  16.0          8         304.0         150    3433          12.0   \n",
       "4  17.0          8         302.0         140    3449          10.5   \n",
       "\n",
       "   model_year  origin                   car_name  \n",
       "0          70       1  chevrolet chevelle malibu  \n",
       "1          70       1          buick skylark 320  \n",
       "2          70       1         plymouth satellite  \n",
       "3          70       1              amc rebel sst  \n",
       "4          70       1                ford torino  "
      ]
     },
     "execution_count": 173,
     "metadata": {},
     "output_type": "execute_result"
    }
   ],
   "source": [
    "# Reads text file and uses '|' as separator\n",
    "auto = pd.read_table('data/tabular/auto_mpg.txt', sep='|')\n",
    "auto.head()"
   ]
  },
  {
   "cell_type": "markdown",
   "metadata": {},
   "source": [
    "Answer the following questions about the data:"
   ]
  },
  {
   "cell_type": "markdown",
   "metadata": {
    "collapsed": false
   },
   "source": [
    "a) What is the shape of the data?"
   ]
  },
  {
   "cell_type": "code",
   "execution_count": 174,
   "metadata": {},
   "outputs": [
    {
     "name": "stdout",
     "output_type": "stream",
     "text": [
      "(392, 9)\n"
     ]
    }
   ],
   "source": [
    "print(auto.shape)"
   ]
  },
  {
   "cell_type": "markdown",
   "metadata": {
    "collapsed": false
   },
   "source": [
    "b) How many rows and columns are there?"
   ]
  },
  {
   "cell_type": "code",
   "execution_count": 175,
   "metadata": {
    "collapsed": false
   },
   "outputs": [
    {
     "name": "stdout",
     "output_type": "stream",
     "text": [
      "392 rows\n",
      "9 columns\n"
     ]
    }
   ],
   "source": [
    "print(auto.shape[0], \"rows\")\n",
    "print(auto.shape[1], \"columns\")"
   ]
  },
  {
   "cell_type": "markdown",
   "metadata": {
    "collapsed": false
   },
   "source": [
    "c) What variables are available?"
   ]
  },
  {
   "cell_type": "code",
   "execution_count": 176,
   "metadata": {
    "collapsed": false
   },
   "outputs": [
    {
     "name": "stdout",
     "output_type": "stream",
     "text": [
      "<class 'pandas.core.frame.DataFrame'>\n",
      "RangeIndex: 392 entries, 0 to 391\n",
      "Data columns (total 9 columns):\n",
      " #   Column        Non-Null Count  Dtype  \n",
      "---  ------        --------------  -----  \n",
      " 0   mpg           392 non-null    float64\n",
      " 1   cylinders     392 non-null    int64  \n",
      " 2   displacement  392 non-null    float64\n",
      " 3   horsepower    392 non-null    int64  \n",
      " 4   weight        392 non-null    int64  \n",
      " 5   acceleration  392 non-null    float64\n",
      " 6   model_year    392 non-null    int64  \n",
      " 7   origin        392 non-null    int64  \n",
      " 8   car_name      392 non-null    object \n",
      "dtypes: float64(3), int64(5), object(1)\n",
      "memory usage: 27.7+ KB\n",
      "None\n"
     ]
    }
   ],
   "source": [
    "print(auto.info())"
   ]
  },
  {
   "cell_type": "markdown",
   "metadata": {
    "collapsed": false
   },
   "source": [
    "d) What are the ranges for the values in each numeric column?"
   ]
  },
  {
   "cell_type": "code",
   "execution_count": 177,
   "metadata": {
    "collapsed": false
   },
   "outputs": [
    {
     "data": {
      "text/html": [
       "<div>\n",
       "<style scoped>\n",
       "    .dataframe tbody tr th:only-of-type {\n",
       "        vertical-align: middle;\n",
       "    }\n",
       "\n",
       "    .dataframe tbody tr th {\n",
       "        vertical-align: top;\n",
       "    }\n",
       "\n",
       "    .dataframe thead th {\n",
       "        text-align: right;\n",
       "    }\n",
       "</style>\n",
       "<table border=\"1\" class=\"dataframe\">\n",
       "  <thead>\n",
       "    <tr style=\"text-align: right;\">\n",
       "      <th></th>\n",
       "      <th>mpg</th>\n",
       "      <th>cylinders</th>\n",
       "      <th>displacement</th>\n",
       "      <th>horsepower</th>\n",
       "      <th>weight</th>\n",
       "      <th>acceleration</th>\n",
       "      <th>model_year</th>\n",
       "      <th>origin</th>\n",
       "    </tr>\n",
       "  </thead>\n",
       "  <tbody>\n",
       "    <tr>\n",
       "      <th>min</th>\n",
       "      <td>9.0</td>\n",
       "      <td>3.0</td>\n",
       "      <td>68.0</td>\n",
       "      <td>46.0</td>\n",
       "      <td>1613.0</td>\n",
       "      <td>8.0</td>\n",
       "      <td>70.0</td>\n",
       "      <td>1.0</td>\n",
       "    </tr>\n",
       "    <tr>\n",
       "      <th>max</th>\n",
       "      <td>46.6</td>\n",
       "      <td>8.0</td>\n",
       "      <td>455.0</td>\n",
       "      <td>230.0</td>\n",
       "      <td>5140.0</td>\n",
       "      <td>24.8</td>\n",
       "      <td>82.0</td>\n",
       "      <td>3.0</td>\n",
       "    </tr>\n",
       "    <tr>\n",
       "      <th>range</th>\n",
       "      <td>37.6</td>\n",
       "      <td>5.0</td>\n",
       "      <td>387.0</td>\n",
       "      <td>184.0</td>\n",
       "      <td>3527.0</td>\n",
       "      <td>16.8</td>\n",
       "      <td>12.0</td>\n",
       "      <td>2.0</td>\n",
       "    </tr>\n",
       "  </tbody>\n",
       "</table>\n",
       "</div>"
      ],
      "text/plain": [
       "        mpg  cylinders  displacement  horsepower  weight  acceleration  \\\n",
       "min     9.0        3.0          68.0        46.0  1613.0           8.0   \n",
       "max    46.6        8.0         455.0       230.0  5140.0          24.8   \n",
       "range  37.6        5.0         387.0       184.0  3527.0          16.8   \n",
       "\n",
       "       model_year  origin  \n",
       "min          70.0     1.0  \n",
       "max          82.0     3.0  \n",
       "range        12.0     2.0  "
      ]
     },
     "execution_count": 177,
     "metadata": {},
     "output_type": "execute_result"
    }
   ],
   "source": [
    "numericOnly = auto.select_dtypes(include = 'number')\n",
    "tableRanges = numericOnly.agg([\"min\", \"max\"])\n",
    "tableRanges.loc[\"range\"] = tableRanges.loc[\"max\"] - tableRanges.loc[\"min\"]\n",
    "tableRanges.head()"
   ]
  },
  {
   "cell_type": "markdown",
   "metadata": {
    "collapsed": false
   },
   "source": [
    "e) What is the average value for each column?  Does that differ significantly\n",
    "  from the median?"
   ]
  },
  {
   "cell_type": "code",
   "execution_count": 178,
   "metadata": {
    "collapsed": false
   },
   "outputs": [
    {
     "data": {
      "text/html": [
       "<div>\n",
       "<style scoped>\n",
       "    .dataframe tbody tr th:only-of-type {\n",
       "        vertical-align: middle;\n",
       "    }\n",
       "\n",
       "    .dataframe tbody tr th {\n",
       "        vertical-align: top;\n",
       "    }\n",
       "\n",
       "    .dataframe thead th {\n",
       "        text-align: right;\n",
       "    }\n",
       "</style>\n",
       "<table border=\"1\" class=\"dataframe\">\n",
       "  <thead>\n",
       "    <tr style=\"text-align: right;\">\n",
       "      <th></th>\n",
       "      <th>mpg</th>\n",
       "      <th>cylinders</th>\n",
       "      <th>displacement</th>\n",
       "      <th>horsepower</th>\n",
       "      <th>weight</th>\n",
       "      <th>acceleration</th>\n",
       "      <th>model_year</th>\n",
       "      <th>origin</th>\n",
       "    </tr>\n",
       "  </thead>\n",
       "  <tbody>\n",
       "    <tr>\n",
       "      <th>mean</th>\n",
       "      <td>23.445918</td>\n",
       "      <td>5.471939</td>\n",
       "      <td>194.411990</td>\n",
       "      <td>104.469388</td>\n",
       "      <td>2977.584184</td>\n",
       "      <td>15.541327</td>\n",
       "      <td>75.979592</td>\n",
       "      <td>1.576531</td>\n",
       "    </tr>\n",
       "    <tr>\n",
       "      <th>median</th>\n",
       "      <td>22.750000</td>\n",
       "      <td>4.000000</td>\n",
       "      <td>151.000000</td>\n",
       "      <td>93.500000</td>\n",
       "      <td>2803.500000</td>\n",
       "      <td>15.500000</td>\n",
       "      <td>76.000000</td>\n",
       "      <td>1.000000</td>\n",
       "    </tr>\n",
       "    <tr>\n",
       "      <th>diff</th>\n",
       "      <td>2.968186</td>\n",
       "      <td>26.899767</td>\n",
       "      <td>22.329893</td>\n",
       "      <td>10.500098</td>\n",
       "      <td>5.846491</td>\n",
       "      <td>0.265914</td>\n",
       "      <td>-0.026860</td>\n",
       "      <td>36.569579</td>\n",
       "    </tr>\n",
       "  </tbody>\n",
       "</table>\n",
       "</div>"
      ],
      "text/plain": [
       "              mpg  cylinders  displacement  horsepower       weight  \\\n",
       "mean    23.445918   5.471939    194.411990  104.469388  2977.584184   \n",
       "median  22.750000   4.000000    151.000000   93.500000  2803.500000   \n",
       "diff     2.968186  26.899767     22.329893   10.500098     5.846491   \n",
       "\n",
       "        acceleration  model_year     origin  \n",
       "mean       15.541327   75.979592   1.576531  \n",
       "median     15.500000   76.000000   1.000000  \n",
       "diff        0.265914   -0.026860  36.569579  "
      ]
     },
     "execution_count": 178,
     "metadata": {},
     "output_type": "execute_result"
    }
   ],
   "source": [
    "numericOnly = auto.select_dtypes(include = 'number')\n",
    "tableRanges = numericOnly.agg([\"mean\", \"median\"])\n",
    "tableRanges.loc[\"diff\"] = ((tableRanges.loc[\"mean\"] - tableRanges.loc[\"median\"]) / tableRanges.loc[\"mean\"] * 100 )\n",
    "tableRanges.head()\n"
   ]
  },
  {
   "cell_type": "markdown",
   "metadata": {},
   "source": [
    "Answer the following questions about the data:"
   ]
  },
  {
   "cell_type": "markdown",
   "metadata": {
    "collapsed": false
   },
   "source": [
    "a) Which 5 cars get the best gas mileage?"
   ]
  },
  {
   "cell_type": "code",
   "execution_count": 179,
   "metadata": {
    "collapsed": false
   },
   "outputs": [
    {
     "name": "stdout",
     "output_type": "stream",
     "text": [
      "                 car_name   mpg\n",
      "320             mazda glc  46.6\n",
      "327   honda civic 1500 gl  44.6\n",
      "323  vw rabbit c (diesel)  44.3\n",
      "388             vw pickup  44.0\n",
      "324    vw dasher (diesel)  43.4\n"
     ]
    }
   ],
   "source": [
    "# https://stackoverflow.com/questions/47462690/how-to-get-top-5-values-from-pandas-dataframe\n",
    "bestFiveMileage = auto.nlargest(n = 5, columns = [\"mpg\"])[[\"car_name\", \"mpg\"]]\n",
    "print(bestFiveMileage)"
   ]
  },
  {
   "cell_type": "markdown",
   "metadata": {
    "collapsed": false
   },
   "source": [
    "b) Which 5 cars with more than 4 cylinders get the best gas mileage?"
   ]
  },
  {
   "cell_type": "code",
   "execution_count": 180,
   "metadata": {
    "collapsed": false
   },
   "outputs": [
    {
     "name": "stdout",
     "output_type": "stream",
     "text": [
      "                              car_name   mpg  cylinders\n",
      "381  oldsmobile cutlass ciera (diesel)  38.0          6\n",
      "325                audi 5000s (diesel)  36.4          5\n",
      "330                      datsun 280-zx  32.7          6\n",
      "355                       volvo diesel  30.7          6\n",
      "304                 chevrolet citation  28.8          6\n"
     ]
    }
   ],
   "source": [
    "bestFiveFourCylinders = auto[auto['cylinders'] > 4].nlargest(n = 5, columns = ['mpg'])[[\"car_name\", \"mpg\", \"cylinders\"]]\n",
    "print(bestFiveFourCylinders)"
   ]
  },
  {
   "cell_type": "markdown",
   "metadata": {
    "collapsed": false
   },
   "source": [
    "c) Which 5 cars get the worst gas mileage?"
   ]
  },
  {
   "cell_type": "code",
   "execution_count": 181,
   "metadata": {
    "collapsed": false
   },
   "outputs": [
    {
     "name": "stdout",
     "output_type": "stream",
     "text": [
      "           car_name   mpg\n",
      "28         hi 1200d   9.0\n",
      "25        ford f250  10.0\n",
      "26        chevy c20  10.0\n",
      "27       dodge d200  11.0\n",
      "66  mercury marquis  11.0\n"
     ]
    }
   ],
   "source": [
    "worstFive = auto.nsmallest(n = 5, columns = 'mpg')[[\"car_name\", \"mpg\"]]\n",
    "print(worstFive)"
   ]
  },
  {
   "cell_type": "markdown",
   "metadata": {
    "collapsed": false
   },
   "source": [
    "d) Which 5 cars with 4 or fewer cylinders get the worst gas mileage?"
   ]
  },
  {
   "cell_type": "code",
   "execution_count": 182,
   "metadata": {
    "collapsed": false
   },
   "outputs": [
    {
     "name": "stdout",
     "output_type": "stream",
     "text": [
      "            car_name   mpg  cylinders\n",
      "75   volvo 145e (sw)  18.0          4\n",
      "110        maxda rx3  18.0          3\n",
      "70   mazda rx2 coupe  19.0          3\n",
      "111       ford pinto  19.0          4\n",
      "119      volvo 144ea  19.0          4\n"
     ]
    }
   ],
   "source": [
    "worstFiveFourCylinder = auto[auto['cylinders'] <= 4].nsmallest(n = 5, columns = 'mpg')[[\"car_name\", \"mpg\", \"cylinders\"]]\n",
    "print(worstFiveFourCylinder)"
   ]
  },
  {
   "cell_type": "markdown",
   "metadata": {},
   "source": [
    "Part 4\n",
    "Use groupby and aggregations to explore the relationships \n",
    "between mpg and the other variables.  Which variables seem to have the greatest\n",
    "effect on mpg?\n",
    "Some examples of things you might want to look at are:\n",
    "- What is the mean mpg for cars for each number of cylindres (i.e. 3 cylinders,\n",
    "  4 cylinders, 5 cylinders, etc)?\n",
    "- Did mpg rise or fall over the years contained in this dataset?\n",
    "- What is the mpg for the group of lighter cars vs the group of heaver cars?\n",
    "Note: Be creative in the ways in which you divide up the data.  You are trying\n",
    "to create segments of the data using logical filters and comparing the mpg\n",
    "for each segment of the data."
   ]
  },
  {
   "cell_type": "code",
   "execution_count": 183,
   "metadata": {},
   "outputs": [
    {
     "data": {
      "text/plain": [
       "<AxesSubplot: xlabel='acceleration'>"
      ]
     },
     "execution_count": 183,
     "metadata": {},
     "output_type": "execute_result"
    },
    {
     "data": {
      "image/png": "[encoded data removed]",
      "text/plain": [
       "<Figure size 640x480 with 1 Axes>"
      ]
     },
     "metadata": {},
     "output_type": "display_data"
    },
    {
     "data": {
      "image/png": "[encoded data removed]",
      "text/plain": [
       "<Figure size 640x480 with 1 Axes>"
      ]
     },
     "metadata": {},
     "output_type": "display_data"
    },
    {
     "data": {
      "image/png": "[encoded data removed]",
      "text/plain": [
       "<Figure size 640x480 with 1 Axes>"
      ]
     },
     "metadata": {},
     "output_type": "display_data"
    },
    {
     "data": {
      "image/png": "[encoded data removed]",
      "text/plain": [
       "<Figure size 640x480 with 1 Axes>"
      ]
     },
     "metadata": {},
     "output_type": "display_data"
    },
    {
     "data": {
      "image/png": "[encoded data removed]",
      "text/plain": [
       "<Figure size 640x480 with 1 Axes>"
      ]
     },
     "metadata": {},
     "output_type": "display_data"
    },
    {
     "data": {
      "image/png": "[encoded data removed]",
      "text/plain": [
       "<Figure size 640x480 with 1 Axes>"
      ]
     },
     "metadata": {},
     "output_type": "display_data"
    }
   ],
   "source": [
    "mpgByCylinders = pd.pivot_table(auto, values = 'mpg', index = 'cylinders')\n",
    "mpgByCylinders.plot()\n",
    "\n",
    "\n",
    "mpgByYears = pd.pivot_table(auto, values = 'mpg', index = 'model_year')\n",
    "mpgByYears.plot()\n",
    "\n",
    "mpgByWeights = pd.pivot_table(auto, values = 'mpg', index = 'weight')\n",
    "mpgByWeights.plot()\n",
    "\n",
    "mpgByPower = pd.pivot_table(auto, values = 'mpg', index = 'horsepower')\n",
    "mpgByPower.plot()\n",
    "\n",
    "mpgByDisplacement = pd.pivot_table(auto, values = 'mpg', index = 'displacement')\n",
    "mpgByDisplacement.plot()\n",
    "\n",
    "\n",
    "mpgByAcceleration = pd.pivot_table(auto, values = 'mpg', index = 'acceleration')\n",
    "mpgByAcceleration.plot()\n"
   ]
  },
  {
   "cell_type": "markdown",
   "metadata": {},
   "source": [
    "Let's now look how MPG has changed over time, while also considering\n",
    "how specific groups have changed-- look at low, mid, and high power\n",
    "cars based upon their horsepower and see how these groups have changed over time.\n",
    "\n",
    "In his data, he called the original dataset 'auto'.\n",
    "\n",
    "**Now to look at how efficency has changed over time based on power and weight classes, two things that we know play a large role in gas mileage.  First, we create a table of efficeincy by power class and year.**"
   ]
  },
  {
   "cell_type": "code",
   "execution_count": 184,
   "metadata": {},
   "outputs": [
    {
     "name": "stdout",
     "output_type": "stream",
     "text": [
      "                    mpg\n",
      "horsepower weight      \n",
      "46         1835    26.0\n",
      "           1950    26.0\n",
      "48         1985    43.1\n",
      "           2085    44.3\n",
      "           2335    43.4\n",
      "...                 ...\n",
      "220        4354    14.0\n",
      "225        3086    14.0\n",
      "           4425    14.0\n",
      "           4951    12.0\n",
      "230        4278    16.0\n",
      "\n",
      "[382 rows x 1 columns]\n",
      "Correlations: \n",
      "mpg             1.000000\n",
      "cylinders      -0.777618\n",
      "displacement   -0.805127\n",
      "horsepower     -0.778427\n",
      "weight         -0.832244\n",
      "acceleration    0.423329\n",
      "model_year      0.580541\n",
      "origin          0.565209\n",
      "Name: mpg, dtype: float64\n"
     ]
    }
   ],
   "source": [
    "byEfficiency = pd.pivot_table(auto, values = 'mpg', index = ['horsepower', 'weight'])\n",
    "print(byEfficiency)\n",
    "\n",
    "print(\"Correlations: \")\n",
    "print(auto.corr(numeric_only = True)['mpg'])"
   ]
  }
 ],
 "metadata": {
  "kernelspec": {
   "display_name": "ml135_env_sp23",
   "language": "python",
   "name": "python3"
  },
  "language_info": {
   "codemirror_mode": {
    "name": "ipython",
    "version": 3
   },
   "file_extension": ".py",
   "mimetype": "text/x-python",
   "name": "python",
   "nbconvert_exporter": "python",
   "pygments_lexer": "ipython3",
   "version": "3.10.9"
  },
  "vscode": {
   "interpreter": {
    "hash": "5a716b151c895ae10c75bfd16f75f01da91cfc9b7e6ae993fee9ab2aed4ecfcd"
   }
  }
 },
 "nbformat": 4,
 "nbformat_minor": 4
}
