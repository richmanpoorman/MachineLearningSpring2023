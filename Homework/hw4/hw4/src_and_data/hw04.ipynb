{
 "cells": [
  {
   "attachments": {},
   "cell_type": "markdown",
   "metadata": {},
   "source": [
    "## Name and ID\n",
    "Matthew Wong\n"
   ]
  },
  {
   "cell_type": "markdown",
   "metadata": {},
   "source": [
    "## HW04 Code\n",
    "\n",
    "You will complete the following notebook, as described in the PDF for Homework 04 (included in the download with the starter code).  You will submit:\n",
    "1. This notebook file (`hw04.ipynb`), `implementation.py`, and two files for both trees images, i.e., `full`, `full.pdf`, `simple`, and `simple.pdf` (PDFs and text files generated using `graphviz` within the code). HINT: `render()`, and it should be clear when to use it, i.e., #3). Compress all files mentioned and submit to the Gradescope link for code.\n",
    "2. A PDF of this notebook and all of its output, once it is completed, to the Gradescope link for the PDF.\n",
    "\n",
    "\n",
    "Please report any questions to the [class Piazza page](https://piazza.com/class/lcwv1h9p2a11ai/)."
   ]
  },
  {
   "cell_type": "markdown",
   "metadata": {
    "collapsed": false
   },
   "source": [
    "### Import required libraries."
   ]
  },
  {
   "cell_type": "code",
   "execution_count": 1,
   "metadata": {},
   "outputs": [],
   "source": [
    "import numpy as np\n",
    "import pandas as pd\n",
    "\n",
    "import sklearn.tree\n",
    "import graphviz\n",
    "\n",
    "from implementation import information_remainder, counting_heuristic, set_entropy\n",
    "\n",
    "%load_ext autoreload\n",
    "%autoreload 2"
   ]
  },
  {
   "cell_type": "markdown",
   "metadata": {},
   "source": [
    "## Decision Trees\n",
    "\n",
    "You should start by computing the two heuristic values for the toy data described in the assignment handout. You should then load the two versions of the abalone data, compute the two heuristic values on features (for the simplified data), and then build decision trees for each set of data."
   ]
  },
  {
   "cell_type": "markdown",
   "metadata": {},
   "source": [
    "### 1 Compute both heuristics for toy data."
   ]
  },
  {
   "cell_type": "code",
   "execution_count": 2,
   "metadata": {
    "collapsed": false
   },
   "outputs": [],
   "source": [
    "feature_names = np.array([\"A\", \"B\"])\n",
    "feature_len = 2\n",
    "classes = [0, 1]\n",
    "\n",
    "x_set = np.array([[1, 1], \n",
    "                  [1, 1], \n",
    "                  [0, 1], \n",
    "                  [0, 0],\n",
    "                  [0, 1], \n",
    "                  [0, 0], \n",
    "                  [0, 0], \n",
    "                  [0, 0]])\n",
    "y_set = np.array([0, 0, 0, 0, 1, 1, 1, 1])"
   ]
  },
  {
   "cell_type": "markdown",
   "metadata": {},
   "source": [
    "#### (a) Compute the counting-based heuristic, and order the features by it."
   ]
  },
  {
   "cell_type": "code",
   "execution_count": 3,
   "metadata": {},
   "outputs": [
    {
     "name": "stdout",
     "output_type": "stream",
     "text": [
      "A: 6/8\n",
      "B: 6/8\n"
     ]
    }
   ],
   "source": [
    "# TODO counting_heuristic()\n",
    "\n",
    "# TODO sort the feature names by their correct counts\n",
    "# e.g., sort_correct = [best, second_best, ..., worst]\n",
    "# e.g., sort_names = [\"A\", \"B\"] or [\"B\",\"A\"]\n",
    "\n",
    "    # Creates a list of tuples which represent (num_correct, feature_name)\n",
    "countsList = [(counting_heuristic(x_set, y_set, idx, classes), feature_names[idx]) for idx in range(feature_len)]\n",
    "countsList.sort(key = lambda a : a[0], reverse = True)\n",
    "\n",
    "    # Break up the tuple list \n",
    "sort_correct = [x[0] for x in countsList] #TODO: FIX ME\n",
    "sort_names   = [x[1] for x in countsList] #TODO: FIX ME\n",
    "\n",
    "# Print the sorted features along with their correct predictions count in the smaller dataset\n",
    "longest = max(len(name) for name in sort_names)\n",
    "for name, correct in zip(sort_names, sort_correct):\n",
    "    print(\"%*s: %d/%d\" % (longest, name, correct, len(x_set)))"
   ]
  },
  {
   "cell_type": "markdown",
   "metadata": {},
   "source": [
    "#### (b) Compute the information-theoretic heuristic, and order the features by it."
   ]
  },
  {
   "cell_type": "code",
   "execution_count": 4,
   "metadata": {
    "scrolled": true
   },
   "outputs": [
    {
     "name": "stdout",
     "output_type": "stream",
     "text": [
      "A: 0.311\n",
      "B: 0.189\n"
     ]
    }
   ],
   "source": [
    "# TODO information_remainder()\n",
    "countsList = [(information_remainder(x_set, y_set, idx, classes), feature_names[idx]) for idx in range(feature_len)]\n",
    "countsList.sort(key = lambda a : a[0], reverse = True)\n",
    "\n",
    "# TODO sort the feature names by their gains\n",
    "sort_gains          = [x[0] for x in countsList]  #TODO: FIX ME\n",
    "sort_names_by_gains = [x[1] for x in countsList] #TODO: FIX ME\n",
    "\n",
    "longest = max(len(name) for name in sort_names_by_gains)\n",
    "for name, gain in zip(sort_names_by_gains, sort_gains):\n",
    "    print(\"%*s: %.3f\" % (longest, name, gain))"
   ]
  },
  {
   "attachments": {},
   "cell_type": "markdown",
   "metadata": {},
   "source": [
    "#### (c) Discussion of results.\n",
    "\n",
    "The count heuristic said that both choices were equally good, while the information theory perspective is saying that A gives more information than B does. This is probably because the information theory perspective also takes into account the proportion in each group, and gives a value for if the groups actually give information. \n",
    "On the other hand, the heuristic can't really tell if the actual data is split into many parts, as it treats all the groups equally (eg if one group just had one value in it, and it was wrong, then it would be treated the same if there was a group of 100 data points and only one was wrong). In other words, the heuristic doesn't actually measure the value of each individual grouping of the split. "
   ]
  },
  {
   "cell_type": "markdown",
   "metadata": {},
   "source": [
    "### 2 Compute both heuristics for simplified abalone data."
   ]
  },
  {
   "cell_type": "code",
   "execution_count": 5,
   "metadata": {
    "collapsed": false
   },
   "outputs": [
    {
     "name": "stdout",
     "output_type": "stream",
     "text": [
      "['is_male' 'length_mm' 'diam_mm' 'height_mm' 'whole_weight_g'\n",
      " 'shucked_weight_g' 'viscera_weight_g' 'shell_weight_g']\n",
      "['is_male' 'length_mm' 'diam_mm' 'height_mm']\n",
      "\n"
     ]
    }
   ],
   "source": [
    "# load the data into np arrays\n",
    "\n",
    "# TODO:fix the empty lists below\n",
    "# full-feature abalone data\n",
    "x_train = pd.read_csv(\"data_abalone/x_train.csv\").values\n",
    "x_test  = pd.read_csv(\"data_abalone/x_test.csv\").values\n",
    "y_train = pd.read_csv(\"data_abalone/y_train.csv\").values\n",
    "y_test  = pd.read_csv(\"data_abalone/y_test.csv\").values\n",
    "\n",
    "# TODO:fix the empty lists below\n",
    "# simplified version of the data (Restricted-feature)\n",
    "simple_x_train = pd.read_csv(\"data_abalone/small_binary_x_train.csv\").values\n",
    "simple_x_test  = pd.read_csv(\"data_abalone/small_binary_x_test.csv\").values\n",
    "simple_y_train = pd.read_csv(\"data_abalone/3class_y_train.csv\").values\n",
    "simple_y_test  = pd.read_csv(\"data_abalone/3class_y_test.csv\").values\n",
    "\n",
    "# get useful information\n",
    "# TODO:fix the empty lists below\n",
    "    # https://stackoverflow.com/questions/56516937/saving-header-from-csv-file-using-numpy-genfromtxt\n",
    "full_feature_names   = np.genfromtxt(\"data_abalone/x_train.csv\", delimiter = ',', dtype = str, max_rows = 1) # features names of full-feature abalone data\n",
    "simple_feature_names = np.genfromtxt(\"data_abalone/small_binary_x_train.csv\", delimiter = ',', dtype = str, max_rows = 1) # features names of restricted-feature data\n",
    "print(full_feature_names)\n",
    "print(simple_feature_names)\n",
    "\n",
    "print()\n",
    "\n",
    "classes_abalone = [0, 1, 2]\n",
    "class_names     = ['Small', 'Medium', 'Large'] # name of the classes\n"
   ]
  },
  {
   "cell_type": "markdown",
   "metadata": {},
   "source": [
    "#### (a) Compute the counting-based heuristic, and order the features by it."
   ]
  },
  {
   "cell_type": "code",
   "execution_count": 6,
   "metadata": {},
   "outputs": [
    {
     "name": "stdout",
     "output_type": "stream",
     "text": [
      "height_mm: 2316/3176\n",
      "  diam_mm: 2266/3176\n",
      "length_mm: 2230/3176\n",
      "  is_male: 1864/3176\n"
     ]
    }
   ],
   "source": [
    "# TODO counting_heuristic()\n",
    "    # Creates a list of tuples which represent (num_correct, feature_name)\n",
    "countsList = [(counting_heuristic(simple_x_train, simple_y_train, idx, classes_abalone), simple_feature_names[idx]) for idx in range(len(simple_feature_names))]\n",
    "countsList.sort(key = lambda a : a[0], reverse = True)\n",
    "\n",
    "# TODO sort the feature names by their correct counts\n",
    "sort_correct_abalone = [x[0] for x in countsList] #TODO: FIX ME\n",
    "sort_names_abalone   = [x[1] for x in countsList] #TODO: FIX ME\n",
    "\n",
    "# Print the sorted features along with their correct predictions count in the smaller dataset\n",
    "longest = max(len(name) for name in sort_names_abalone)\n",
    "for name, correct in zip(sort_names_abalone, sort_correct_abalone):\n",
    "    print(\"%*s: %d/%d\" % (longest, name, correct, len(simple_x_train)))"
   ]
  },
  {
   "cell_type": "markdown",
   "metadata": {},
   "source": [
    "#### (b) Compute the information-theoretic heuristic, and order the features by it."
   ]
  },
  {
   "cell_type": "code",
   "execution_count": 7,
   "metadata": {
    "scrolled": true
   },
   "outputs": [
    {
     "name": "stdout",
     "output_type": "stream",
     "text": [
      "height_mm: 0.173\n",
      "  diam_mm: 0.150\n",
      "length_mm: 0.135\n",
      "  is_male: 0.025\n"
     ]
    }
   ],
   "source": [
    "# TODO information_remainder()\n",
    "countsList = [(information_remainder(simple_x_train, simple_y_train, idx, classes_abalone), simple_feature_names[idx]) for idx in range(len(simple_feature_names))]\n",
    "countsList.sort(key = lambda a : a[0], reverse = True)\n",
    "\n",
    "# TODO sort the feature names by their gains\n",
    "sort_gains_abalone = [x[0] for x in countsList]  #TODO: FIX ME\n",
    "sort_names_by_gains_abalone = [x[1] for x in countsList] #TODO: FIX ME\n",
    "\n",
    "longest = max(len(name) for name in sort_names_by_gains_abalone)\n",
    "for name, gain in zip(sort_names_by_gains_abalone, sort_gains_abalone):\n",
    "    print(\"%*s: %.3f\" % (longest, name, gain))"
   ]
  },
  {
   "cell_type": "markdown",
   "metadata": {},
   "source": [
    "### 3) Generate decision trees (criterion='entropy', random_state=42) for full- and simple-feature data"
   ]
  },
  {
   "cell_type": "markdown",
   "metadata": {
    "collapsed": false
   },
   "source": [
    "#### (a) Train and eval on entire train and test sets. Print accuracy values and generate tree images.\n",
    "\n",
    "Render the tree diagram, naming it \"full.\" A text file and PDF should be created and saved (i.e., `full` and `full.pdf`) - include both in submission."
   ]
  },
  {
   "cell_type": "code",
   "execution_count": 8,
   "metadata": {},
   "outputs": [
    {
     "name": "stdout",
     "output_type": "stream",
     "text": [
      "Accuracy (train): 1.000\n",
      "Accuracy  (test): 0.204\n"
     ]
    },
    {
     "data": {
      "text/plain": [
       "'full.pdf'"
      ]
     },
     "execution_count": 8,
     "metadata": {},
     "output_type": "execute_result"
    }
   ],
   "source": [
    "from sklearn.tree import DecisionTreeClassifier\n",
    "from sklearn.tree import export_graphviz\n",
    "\n",
    "full = DecisionTreeClassifier(criterion='entropy', random_state=42)\n",
    "full.fit(x_train, y_train)\n",
    "\n",
    "# TODO calculate accuracies\n",
    "train_accuracy = full.score(x_train, y_train) # Fix me\n",
    "test_accuracy = full.score(x_test, y_test) # Fix me\n",
    "print(f\"Accuracy (train): {train_accuracy:.3f}\")\n",
    "print(f\"Accuracy  (test): {test_accuracy:.3f}\")\n",
    "\n",
    "# TODO generate tree image\n",
    "graphData = export_graphviz(full, feature_names = full_feature_names)\n",
    "graph = graphviz.Source(graphData)\n",
    "graph.render(engine = 'dot', filename = 'full', format = 'pdf', outfile = \"full.pdf\")\n",
    "\n"
   ]
  },
  {
   "cell_type": "markdown",
   "metadata": {
    "collapsed": false
   },
   "source": [
    "#### (b) Restricted-feature (aka simple) data.\n",
    "Train and eval on simple train and test sets. Same as above, accept this time use the `simple` set. Render the tree diagram, naming it \"simple.\" A text file and PDF should be created and saved (i.e., `simple` and `simple.pdf`) - include both in submission."
   ]
  },
  {
   "cell_type": "code",
   "execution_count": 9,
   "metadata": {
    "collapsed": false
   },
   "outputs": [
    {
     "name": "stdout",
     "output_type": "stream",
     "text": [
      "Accuracy (train): 0.733\n",
      "Accuracy  (test): 0.722\n"
     ]
    },
    {
     "data": {
      "text/plain": [
       "'simple.pdf'"
      ]
     },
     "execution_count": 9,
     "metadata": {},
     "output_type": "execute_result"
    }
   ],
   "source": [
    "# TODO calculate out accuracies\n",
    "simple = DecisionTreeClassifier(criterion='entropy', random_state=42)\n",
    "simple.fit(simple_x_train, simple_y_train)\n",
    "\n",
    "\n",
    "simple_train_accuracy = simple.score(simple_x_train, simple_y_train) # Fix me\n",
    "simple_test_accuracy = simple.score(simple_x_test, simple_y_test) # Fix me\n",
    "print(f\"Accuracy (train): {simple_train_accuracy:.3f}\")\n",
    "print(f\"Accuracy  (test): {simple_test_accuracy:.3f}\")\n",
    "\n",
    "# TODO generate tree image\n",
    "graphData = export_graphviz(simple, class_names = class_names, feature_names = simple_feature_names)\n",
    "graph = graphviz.Source(graphData)\n",
    "graph.render(engine = 'dot', filename = 'simple', format = 'pdf', outfile = \"simple.pdf\")"
   ]
  },
  {
   "attachments": {},
   "cell_type": "markdown",
   "metadata": {},
   "source": [
    "#### (c) Discuss the results seen for the two trees\n",
    "\n",
    "Even though the pure training data had more data, it performed worse, because the tree was very sensitive to more data. It way over fit on the training data and as such, only was able to 20 percent on the test data. This is probably because of how error propogates; as it tried to decide based on different features, it had more chances to get error, as there was just more features in the pure training data. \n",
    "However in the simple data, it was only able to get 70 percent, but generalized better. It was probably able to train better because of less features having to be considered, and thus making an overall simpler tree. However, since the error propogated, the error from simplifying the data got magnified.\n",
    "In other words, the full data did not do well because it had many levels where the error propogated, but the simplified was only at 70 percent because there was more error with less levels to propogate error."
   ]
  }
 ],
 "metadata": {
  "kernelspec": {
   "display_name": "Python 3",
   "language": "python",
   "name": "python3"
  },
  "language_info": {
   "codemirror_mode": {
    "name": "ipython",
    "version": 3
   },
   "file_extension": ".py",
   "mimetype": "text/x-python",
   "name": "python",
   "nbconvert_exporter": "python",
   "pygments_lexer": "ipython3",
   "version": "3.10.9"
  }
 },
 "nbformat": 4,
 "nbformat_minor": 2
}
