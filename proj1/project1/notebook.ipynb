{
 "cells": [
  {
   "attachments": {},
   "cell_type": "markdown",
   "metadata": {},
   "source": [
    "# Project 1 - Support Vector Machine Classification\n",
    "\n",
    "### NAME(S): Matthew Wong, Bill Xia\n",
    "### DATE: "
   ]
  },
  {
   "cell_type": "markdown",
   "metadata": {},
   "source": [
    "## What will we do?\n",
    "Using gradient descent, we will build a Support Vector Machine to find the optimal hyperplane that maximizes the margin between two toy data classes."
   ]
  },
  {
   "cell_type": "markdown",
   "metadata": {},
   "source": [
    "## What are some use cases for SVMs?\n",
    "\n",
    "-Classification, regression (time series prediction, etc.), outlier detection, clustering"
   ]
  },
  {
   "cell_type": "markdown",
   "metadata": {},
   "source": [
    "## How does an SVM compare to other ML algorithms?\n",
    "\n",
    "\n",
    "![alt text](images/img.png)\n",
    "Classifiers: (a) Logistic Regression, (b) SVM, and (c) Multi-Layer Perception (MLP)\n",
    "* As a rule of thumb, SVMs are great for relatively small data sets with fewer outliers.\n",
    "* Other algorithms (Random forests, deep neural networks, etc.) require more data but almost always develop robust models.\n",
    "* The decision of which classifier to use depends on your dataset and the general complexity of the problem.\n",
    "* \"Premature optimization is the root of all evil (or at least most of it) in programming.\" - Donald Knuth, CS Professor (Turing award speech 1974)\n",
    "\n",
    "## Other Examples\n",
    "\n",
    "- Learning to use Scikit-learn's SVM function to classify images https://github.com/ksopyla/svm_mnist_digit_classification\n",
    "- Pulse classification, more useful dataset\n",
    "https://github.com/akasantony/pulse-classification-svm"
   ]
  },
  {
   "cell_type": "markdown",
   "metadata": {},
   "source": [
    "## What is a Support Vector Machine?\n",
    "\n",
    "It's a supervised machine learning algorithm that can be used for both classification and regression problems. But it's usually used for classification. Given two or more labeled data classes, it acts as a discriminative classifier, formally defined by an optimal hyperplane that separates all the classes. New examples mapped into that space can then be categorized based on which side of the gap they fall."
   ]
  },
  {
   "cell_type": "markdown",
   "metadata": {},
   "source": [
    "## What are Support Vectors?\n",
    "\n",
    "![alt text](images/SvmMargin2.jpg \"Logo Title Text 1\")\n",
    "\n",
    "Support vectors are the data points nearest to the hyperplane, the points of a data set that, if removed, would alter the position of the dividing hyperplane. Because of this, they can be considered the critical elements of a data set; they help us build our SVM."
   ]
  },
  {
   "cell_type": "markdown",
   "metadata": {},
   "source": [
    "\n",
    "## What is a hyperplane?\n",
    "\n",
    "![alt text](images/Hyperplanes+as+decision+surfaces.jpg \"Logo Title Text 1\")\n",
    "\n",
    "Geometry tells us that a hyperplane is a subspace of one dimension less than its ambient space. For instance, a hyperplane of an n-dimensional space is a flat subset with size $n − 1$. By its nature, it separates the space in half.\n",
    "\n",
    "## Linear vs nonlinear classification?\n",
    "\n",
    "Sometimes our data is linearly separable. That means for N classes with M features. We can learn a mapping that is a linear combination. (like $y = mx + b$). Or even a multidimensional hyperplane ($y = x + z + b + q$). No matter how many dimensions/features a set of classes have, we can represent the mapping using a linear function.\n",
    "\n",
    "But sometimes it is not. Like if there was a quadratic mapping. Luckily for us, SVMs can efficiently perform a non-linear classification using what is called the kernel trick.\n",
    "\n",
    "![alt text](images/1_mCwnu5kXot6buL7jeIafqQ.png \"Logo Title Text 1\")\n",
    "\n",
    "More on this as a Bonus question comes at the end of notebook.\n",
    "\n",
    "All right, let's get to the building!"
   ]
  },
  {
   "cell_type": "markdown",
   "metadata": {},
   "source": [
    "# Instructions\n",
    "\n",
    "In this assignment, you will implement a support vector machine (SVM) from scratch, and you will use your implementation for multiclass classification on the MNIST dataset.\n",
    "\n",
    "\n",
    "In `implementation.py` implement the SVM class. In the fit function, use `scipy.minimize` ([see documentation](https://docs.scipy.org/doc/scipy/reference/generated/scipy.optimize.minimize.html)) to solve the constrained optimization problem:\n",
    "\n",
    "$\\begin{align*}\n",
    "& \\underset{a}{\\text{maximize}}& & \\sum_{i=1}^{n}a_{i} - \\frac{1}{2}\\sum_{i=1}^{n}\\sum_{j=1}^{n}a_{i}a_{j}y_{i}y_{j}(x_{i}\\cdot x_{j}) \\\\\n",
    "& \\text{subject to}& & a_{i} \\ge 0, i=1,\\ldots, n \\\\\n",
    "& & & \\sum_{i=1}^{n}a_{i}y_{i} = 0\n",
    "\\end{align*}$\n",
    "\n",
    "__Note__: An SVM is a convex optimization problem. Using  to solve the equation above will be computationally expensive given larger datasets. [CS 168 Convex Optimization](https://www.cs.tufts.edu/t/courses/description/spring2023/CS/168-01) is a course to take later if interested in optimization and the mathematics and intuition that drives it."
   ]
  },
  {
   "cell_type": "code",
   "execution_count": 1,
   "id": "9faaa7af",
   "metadata": {
    "jupyter": {
     "outputs_hidden": false
    }
   },
   "outputs": [],
   "source": [
    "import numpy as np\n",
    "import pandas as pd\n",
    "\n",
    "from scipy.io import loadmat\n",
    "from implementation import SVM, linear_kernel, nonlinear_kernel\n",
    "# from solution import SVM, linear_kernel, nonlinear_kernel\n",
    "from sklearn.datasets import make_blobs\n",
    "from sklearn.svm import SVC\n",
    "from sklearn.linear_model import LogisticRegression\n",
    "from sklearn.metrics import confusion_matrix\n",
    "\n",
    "import matplotlib\n",
    "import matplotlib.pyplot as plt\n",
    "\n",
    "%load_ext autoreload\n",
    "%autoreload 2"
   ]
  },
  {
   "cell_type": "markdown",
   "id": "d93b5195",
   "metadata": {},
   "source": [
    "## Step 1 - Get Data"
   ]
  },
  {
   "cell_type": "code",
   "execution_count": 2,
   "id": "e4aff346",
   "metadata": {
    "jupyter": {
     "outputs_hidden": false
    }
   },
   "outputs": [
    {
     "data": {
      "image/png": "[encoded data removed]",
      "text/plain": [
       "<Figure size 640x480 with 1 Axes>"
      ]
     },
     "metadata": {},
     "output_type": "display_data"
    }
   ],
   "source": [
    "# Input data - of the form [Bias term, x_1 value, x_2 value]\n",
    "X = np.array([\n",
    "    [1, -2, 4,],\n",
    "    [1, 4, 1,],\n",
    "    [1, 1, 6,],\n",
    "    [1, 2, 4,],\n",
    "    [1, 6, 2,],\n",
    "])\n",
    "\n",
    "# Associated output labels - first 2 examples are labeled '-1' and last 3 are labeled '+1'\n",
    "y = np.array([-1,-1,1,1,1])\n",
    "\n",
    "# Let's plot these examples on a 2D graph!\n",
    "# Plot the negative samples (the first 2)\n",
    "plt.scatter(X[:,1][y==-1], X[:,2][y==-1], s=120, marker='_', linewidths=2)\n",
    "# Plot the positive samples (the last 3)\n",
    "plt.scatter(X[:,1][y==1], X[:,2][y==1], s=120, marker='+', linewidths=2)\n",
    "\n",
    "# Print a possible hyperplane, that is separating the two classes.\n",
    "# we'll two points and draw the line between them (naive guess)\n",
    "plt.plot([-2,6],[6,0.5])\n",
    "plt.xlabel(r\"$x_1$\")\n",
    "plt.ylabel(r\"$x_2$\")\n",
    "plt.show()"
   ]
  },
  {
   "cell_type": "markdown",
   "id": "c4e90940",
   "metadata": {},
   "source": [
    "### SVM basics\n",
    "SVM using scikit-learn."
   ]
  },
  {
   "cell_type": "code",
   "execution_count": 3,
   "id": "42633f12",
   "metadata": {
    "jupyter": {
     "outputs_hidden": false
    },
    "pycharm": {
     "is_executing": true
    }
   },
   "outputs": [
    {
     "name": "stdout",
     "output_type": "stream",
     "text": [
      "scikit-learn indices of support vectors: [0 1 3 4]\n"
     ]
    }
   ],
   "source": [
    "result = SVC(kernel=\"linear\")\n",
    "result.fit(X, y.ravel())\n",
    "\n",
    "print(\"scikit-learn indices of support vectors:\", result.support_)\n"
   ]
  },
  {
   "cell_type": "markdown",
   "id": "d374e2e1",
   "metadata": {},
   "source": [
    "## Implement and test SVM to sklearn's version (20 points)\n",
    "Compare the indices of support vectors from scikit-lean with `implementation.py` using toy data."
   ]
  },
  {
   "cell_type": "code",
   "execution_count": 4,
   "id": "2df009fc",
   "metadata": {
    "jupyter": {
     "outputs_hidden": false
    },
    "pycharm": {
     "is_executing": true
    }
   },
   "outputs": [
    {
     "name": "stdout",
     "output_type": "stream",
     "text": [
      "scikit-learn indices of support vectors: [0 1 3 4]\n",
      "Optimization terminated successfully\n",
      "\n",
      "Alpha [1.47549943e-01 4.77448376e-01 2.81339622e-15 4.08827517e-01\n",
      " 2.16170802e-01]\n",
      "Weights [-2.77555756e-15  4.99986228e-01  1.00000352e+00]\n",
      "Bias -3.9999830298297168\n",
      "\n",
      "SVC Weights [[0.         0.5        0.99969451]]\n"
     ]
    }
   ],
   "source": [
    "# TODO: implement SVM, along with linear_kernel\n",
    "\n",
    "result = SVC(kernel=\"linear\")\n",
    "result.fit(X, y)\n",
    "\n",
    "print(\"scikit-learn indices of support vectors:\", result.support_)\n",
    "\n",
    "svm = SVM(kernel=linear_kernel)\n",
    "svm.fit(X, y)\n",
    "\n",
    "print()\n",
    "print(\"Alpha\", svm.a)\n",
    "print(\"Weights\", svm.w)\n",
    "print(\"Bias\", svm.b)\n",
    "\n",
    "print()\n",
    "print(\"SVC Weights\", result.coef_)"
   ]
  },
  {
   "cell_type": "code",
   "execution_count": 5,
   "id": "d80a685f",
   "metadata": {
    "jupyter": {
     "outputs_hidden": false
    }
   },
   "outputs": [
    {
     "name": "stdout",
     "output_type": "stream",
     "text": [
      "implementation.py indices of support vectors: [0 1 3 4]\n"
     ]
    }
   ],
   "source": [
    "print(\"implementation.py indices of support vectors:\", \\\n",
    "      np.array(range(y.shape[0]))[svm.a>1e-8])\n",
    "if (result.support_ != np.array(range(y.shape[0]))[svm.a>1e-8]).all():\n",
    "    raise Exception(\"The calculation is wrong\")"
   ]
  },
  {
   "cell_type": "markdown",
   "id": "9fb4c95f",
   "metadata": {},
   "source": [
    "Compare the weights assigned to the features from scikit-lean with `implementation.py`."
   ]
  },
  {
   "cell_type": "code",
   "execution_count": 6,
   "id": "f3edd5ce",
   "metadata": {
    "pycharm": {
     "is_executing": true
    }
   },
   "outputs": [
    {
     "name": "stdout",
     "output_type": "stream",
     "text": [
      "scikit-learn weights assigned to the features: [[0.         0.5        0.99969451]]\n",
      "implementation.py weights assigned to the features: [-2.77555756e-15  4.99986228e-01  1.00000352e+00]\n"
     ]
    }
   ],
   "source": [
    "\n",
    "# TODO - other sections were done for you, specify the variables to print, \n",
    "# find the difference, and check it is within reasonable error from that of \n",
    "# sklearn's version.\n",
    "\n",
    "# print(\"scikit-learn weights assigned to the features:\", VAR)\n",
    "# print(\"implementation.py weights assigned to the features:\", VAR)\n",
    "\n",
    "\n",
    "print(\"scikit-learn weights assigned to the features:\", result.coef_)\n",
    "print(\"implementation.py weights assigned to the features:\", svm.w)\n",
    "\n",
    "diff = abs(result.coef_ - svm.w)\n",
    "if (diff > 1e-3).any():\n",
    "    raise Exception(\"The calculation is wrong\")"
   ]
  },
  {
   "cell_type": "markdown",
   "id": "b002abf3",
   "metadata": {},
   "source": [
    "Compare the bias weight from scikit-lean with `implementation.py`."
   ]
  },
  {
   "cell_type": "code",
   "execution_count": 7,
   "id": "5cc261da",
   "metadata": {
    "pycharm": {
     "is_executing": true
    }
   },
   "outputs": [
    {
     "name": "stdout",
     "output_type": "stream",
     "text": [
      "scikit-learn bias weight: [-3.99915989]\n",
      "implementation.py bias weight: -3.9999830298297168\n"
     ]
    }
   ],
   "source": [
    "print(\"scikit-learn bias weight:\", result.intercept_)\n",
    "print(\"implementation.py bias weight:\", svm.b)\n",
    "\n",
    "diff = abs(result.intercept_ - svm.b)\n",
    "if (diff > 1e-3).all():\n",
    "    raise Exception(\"The calculation is wrong\")"
   ]
  },
  {
   "cell_type": "markdown",
   "id": "f87e5324",
   "metadata": {},
   "source": [
    "Compare the predictions from scikit-lean with `implementation.py`."
   ]
  },
  {
   "cell_type": "code",
   "execution_count": 8,
   "id": "cc3dc173",
   "metadata": {},
   "outputs": [
    {
     "name": "stdout",
     "output_type": "stream",
     "text": [
      "scikit-learn predictions: [-1 -1]\n",
      "implementation.py predictions: [-1 -1]\n"
     ]
    }
   ],
   "source": [
    "X_test = np.array([\n",
    "    [4, 4, -1],\n",
    "    [1, 3, -1]\n",
    "    ])\n",
    "print(\"scikit-learn predictions:\", result.predict(X_test))\n",
    "print(\"implementation.py predictions:\", svm.predict(X_test))\n",
    "\n",
    "if (svm.predict(X_test) != result.predict(X_test)).all():\n",
    "    raise Exception(\"The calculation is wrong\")"
   ]
  },
  {
   "cell_type": "markdown",
   "id": "c0808e73",
   "metadata": {},
   "source": [
    "### Using SKLearns SVM (*one-versus-the-rest*)\n",
    "\n",
    "You can load the data with `scipy.io.loadmat`, which will return a Python dictionary containing the test and train data and labels."
   ]
  },
  {
   "cell_type": "code",
   "execution_count": 9,
   "id": "649b18eb",
   "metadata": {},
   "outputs": [],
   "source": [
    "mnist = loadmat('data/MNIST.mat')\n",
    "train_samples = mnist['train_samples']\n",
    "train_samples_labels = mnist['train_samples_labels']\n",
    "test_samples = mnist['test_samples']\n",
    "test_samples_labels = mnist['test_samples_labels']"
   ]
  },
  {
   "cell_type": "markdown",
   "id": "9eb009db",
   "metadata": {},
   "source": [
    "## Explore the MNIST dataset\n",
    "Explore the MNIST dataset:\n"
   ]
  },
  {
   "cell_type": "code",
   "execution_count": 10,
   "id": "fa0c433b",
   "metadata": {},
   "outputs": [
    {
     "data": {
      "image/png": "[encoded data removed]",
      "text/plain": [
       "<Figure size 640x480 with 1 Axes>"
      ]
     },
     "metadata": {},
     "output_type": "display_data"
    },
    {
     "data": {
      "image/png": "[encoded data removed]",
      "text/plain": [
       "<Figure size 640x480 with 1 Axes>"
      ]
     },
     "metadata": {},
     "output_type": "display_data"
    },
    {
     "data": {
      "image/png": "[encoded data removed]",
      "text/plain": [
       "<Figure size 640x480 with 1 Axes>"
      ]
     },
     "metadata": {},
     "output_type": "display_data"
    },
    {
     "data": {
      "image/png": "[encoded data removed]",
      "text/plain": [
       "<Figure size 640x480 with 1 Axes>"
      ]
     },
     "metadata": {},
     "output_type": "display_data"
    },
    {
     "data": {
      "image/png": "[encoded data removed]",
      "text/plain": [
       "<Figure size 640x480 with 1 Axes>"
      ]
     },
     "metadata": {},
     "output_type": "display_data"
    },
    {
     "data": {
      "image/png": "[encoded data removed]",
      "text/plain": [
       "<Figure size 640x480 with 1 Axes>"
      ]
     },
     "metadata": {},
     "output_type": "display_data"
    },
    {
     "data": {
      "image/png": "[encoded data removed]",
      "text/plain": [
       "<Figure size 640x480 with 1 Axes>"
      ]
     },
     "metadata": {},
     "output_type": "display_data"
    },
    {
     "data": {
      "image/png": "[encoded data removed]",
      "text/plain": [
       "<Figure size 640x480 with 1 Axes>"
      ]
     },
     "metadata": {},
     "output_type": "display_data"
    },
    {
     "data": {
      "image/png": "[encoded data removed]",
      "text/plain": [
       "<Figure size 640x480 with 1 Axes>"
      ]
     },
     "metadata": {},
     "output_type": "display_data"
    },
    {
     "data": {
      "image/png": "[encoded data removed]",
      "text/plain": [
       "<Figure size 640x480 with 1 Axes>"
      ]
     },
     "metadata": {},
     "output_type": "display_data"
    },
    {
     "data": {
      "image/png": "[encoded data removed]",
      "text/plain": [
       "<Figure size 640x480 with 1 Axes>"
      ]
     },
     "metadata": {},
     "output_type": "display_data"
    },
    {
     "name": "stdout",
     "output_type": "stream",
     "text": [
      "Class: 0 appears 86 times\n",
      "Class: 1 appears 122 times\n",
      "Class: 2 appears 113 times\n",
      "Class: 3 appears 115 times\n",
      "Class: 4 appears 108 times\n",
      "Class: 5 appears 92 times\n",
      "Class: 6 appears 87 times\n",
      "Class: 7 appears 99 times\n",
      "Class: 8 appears 86 times\n",
      "Class: 9 appears 92 times\n"
     ]
    }
   ],
   "source": [
    "# TODO: Visualize samples of each class\n",
    "\n",
    "classes, counts = np.unique(test_samples_labels, return_counts=True)\n",
    "\n",
    "plt.bar(classes, counts)\n",
    "plt.title(\"TEST SAMPLE CLASSES\")\n",
    "plt.xticks(range(0,10))\n",
    "plt.xlabel(\"Classes\")\n",
    "plt.show()\n",
    "\n",
    "checklist = np.zeros(10)\n",
    "for idx in range(len(train_samples)):\n",
    "    if checklist[train_samples_labels[idx]] == 0:\n",
    "        plt.imshow(train_samples[idx].reshape(28, 28), cmap='gray')\n",
    "        plt.show()\n",
    "        checklist[train_samples_labels[idx]] = 1\n",
    "    elif ( checklist.all() == 1 ):\n",
    "        break\n",
    "\n",
    "# TODO: Display counts of each class\n",
    "for c in classes:\n",
    "    print(f\"Class: {c} appears {counts[c]} times\")"
   ]
  },
  {
   "cell_type": "markdown",
   "id": "1ab65b3c",
   "metadata": {},
   "source": [
    "### *one-versus-the-rest* (15 Points) and analysis\n",
    "Using your implementation, compare multiclass classification performance of *one-versus-the-rest*\n",
    "\n",
    "**Create your own implementation of *one-versus-the-rest* and *one-versus-one*. Do not use sklearns multiclass SVM.**"
   ]
  },
  {
   "cell_type": "code",
   "execution_count": 11,
   "id": "98a6c1e4",
   "metadata": {},
   "outputs": [],
   "source": [
    "# TODO loop over classes training one_versus_the_rest()\n",
    "# print(train_samples.shape)\n",
    "\n",
    "trainBinaries = list() \n",
    "testBinaries  = list() \n",
    "for label in range(10):\n",
    "    trainBinaries.append([1 if x == label else -1 for x in train_samples_labels])\n",
    "    testBinaries.append([1 if x == label else -1 for x in test_samples_labels])\n",
    "\n",
    "\n",
    "def getclassprobs(C=1.0):\n",
    "\n",
    "    # Create the 10 one-vs-rest classifiers\n",
    "    class_svms = []\n",
    "    for label in range(10):\n",
    "\n",
    "        svmForClass = SVC(C = C, kernel = 'linear', probability = True)\n",
    "        svmForClass.fit(train_samples, trainBinaries[label])\n",
    "        class_svms.append(svmForClass)\n",
    "    \n",
    "    \n",
    "    # TODO save all the prediction probability by predict_prob() for the following function\n",
    "    # Hint: svm = SVC(kernel=\"linear\", probability=True)\n",
    "\n",
    "        # For each classifier get the prediction that it IS that value\n",
    "    classprobs_tr = list()\n",
    "    classprobs_te = list()\n",
    "    \n",
    "    for label in range(10):\n",
    "        classprobs_tr.append(class_svms[label].predict_proba(train_samples)[:,1])\n",
    "        classprobs_te.append(class_svms[label].predict_proba(test_samples)[:,1])\n",
    "\n",
    "    return np.array(classprobs_tr), np.array(classprobs_te), class_svms\n",
    "\n",
    "probs_tr, probs_te, class_svms = getclassprobs()\n"
   ]
  },
  {
   "cell_type": "markdown",
   "id": "be4261fa",
   "metadata": {},
   "source": [
    "Determine the accuracy"
   ]
  },
  {
   "cell_type": "code",
   "execution_count": 12,
   "id": "3c23e942",
   "metadata": {
    "jupyter": {
     "outputs_hidden": false
    }
   },
   "outputs": [
    {
     "name": "stdout",
     "output_type": "stream",
     "text": [
      "Train accuracy: 91.80\n",
      "Test accuracy: 88.60\n"
     ]
    }
   ],
   "source": [
    "def getaccuracies(classprob1, classprob2):\n",
    "    result_tr = np.argmax(classprob1, axis=0)\n",
    "    result_te = np.argmax(classprob2, axis=0)\n",
    "\n",
    "    # print(result_te.shape)\n",
    "\n",
    "    correct_tr = 0\n",
    "    correct_te = 0\n",
    "    for idx in range(len(result_tr)):\n",
    "        if result_tr[idx] == train_samples_labels[idx]:\n",
    "            correct_tr += 1\n",
    "    for idx in range(len(result_te)):\n",
    "        if result_te[idx] == test_samples_labels[idx]:\n",
    "            correct_te += 1\n",
    "\n",
    "    train_accuracy = correct_tr / len(result_tr)\n",
    "    test_accuracy  = correct_te / len(result_te)\n",
    "\n",
    "    return train_accuracy, test_accuracy\n",
    "\n",
    "train_accuracy, test_accuracy = getaccuracies(probs_tr, probs_te)\n",
    "\n",
    "# train_accuracy = np.nan #TODO\n",
    "# test_accuracy  = np.nan #TODO\n",
    "\n",
    "print(\"Train accuracy: {:.2f}\".format(100*train_accuracy))\n",
    "print(\"Test accuracy: {:.2f}\".format(100*test_accuracy))"
   ]
  },
  {
   "cell_type": "markdown",
   "id": "4d775756",
   "metadata": {},
   "source": [
    "The parameter $C>0$ controls the tradeoff between the size of the margin and the slack variable penalty. It is analogous to the inverse of a regularization coefficient. Include in your report a brief discussion of how you found an appropriate value."
   ]
  },
  {
   "cell_type": "code",
   "execution_count": 13,
   "id": "cc99b446",
   "metadata": {
    "jupyter": {
     "outputs_hidden": false
    }
   },
   "outputs": [],
   "source": [
    "# Hint: Try using np.logspace for hyperparameter tuning\n",
    "# TODO: Find an appropriate value of C. \n",
    "train_accuracies = list()\n",
    "test_accuracies = list()\n",
    "\n",
    "# This part takes like 7 minutes. \n",
    "c_vals = np.logspace(-5, 5, 11)\n",
    "flatTrain = train_samples_labels.ravel()\n",
    "flatTest  = test_samples_labels.ravel()\n",
    "\n",
    "svm_list = list()\n",
    "\n",
    "classprobs_tr_list = list()\n",
    "classprobs_te_list = list()\n",
    "\n",
    "# this part takes 11.5 minutes\n",
    "for c in c_vals:\n",
    "\n",
    "    classprobs_tr, classprobs_te, classprob_svm = getclassprobs(c)\n",
    "    classprobs_tr_list.append(classprobs_tr)\n",
    "    classprobs_te_list.append(classprobs_te)\n",
    "    svm_list.append(classprob_svm)\n",
    "    # svm_list.append(svm)\n",
    "    \n",
    "    tr_acc, te_acc = getaccuracies(classprobs_tr, classprobs_te)\n",
    "\n",
    "    train_accuracies.append(tr_acc)\n",
    "    test_accuracies.append(te_acc)\n",
    "\n"
   ]
  },
  {
   "cell_type": "markdown",
   "id": "1d92de89",
   "metadata": {},
   "source": [
    "Provide details on how you found an appropriate value."
   ]
  },
  {
   "attachments": {},
   "cell_type": "markdown",
   "id": "36b3a5e7",
   "metadata": {},
   "source": [
    "We wanted to get all the accuracies from all the C calues we tested. From there, we looked at all the accuracies and chose the C value that corresponded to the highest accuracy."
   ]
  },
  {
   "cell_type": "markdown",
   "id": "cb78d0c1",
   "metadata": {},
   "source": [
    "Plot accuracies for train and test using logspace for x-axis (i.e., $C$ values)"
   ]
  },
  {
   "cell_type": "code",
   "execution_count": 14,
   "id": "2f9deb4a",
   "metadata": {
    "jupyter": {
     "outputs_hidden": false
    }
   },
   "outputs": [
    {
     "data": {
      "text/plain": [
       "<matplotlib.legend.Legend at 0x21e059c27a0>"
      ]
     },
     "execution_count": 14,
     "metadata": {},
     "output_type": "execute_result"
    },
    {
     "data": {
      "image/png": "[encoded data removed]",
      "text/plain": [
       "<Figure size 640x480 with 1 Axes>"
      ]
     },
     "metadata": {},
     "output_type": "display_data"
    }
   ],
   "source": [
    "# TODO: Plot the result.\n",
    "bestCIdx = np.argmax(test_accuracies)\n",
    "bestC = c_vals[bestCIdx]\n",
    "\n",
    "plt.xscale('log')\n",
    "plt.plot(c_vals, train_accuracies, label = 'Train Accuracy')\n",
    "plt.plot(c_vals, test_accuracies, label = 'Test Accuracy')\n",
    "plt.xlabel(\"C Values\")\n",
    "plt.ylabel(\"Accuracy\")\n",
    "plt.title(\"C-Value vs Accuracy\")\n",
    "plt.plot(bestC, test_accuracies[bestCIdx], label = \"Best Point\", marker = \"o\", markersize = 5)\n",
    "plt.legend()"
   ]
  },
  {
   "cell_type": "markdown",
   "id": "0c5a5534",
   "metadata": {},
   "source": [
    "What does this graph tell us about the importance of our C value?"
   ]
  },
  {
   "cell_type": "markdown",
   "id": "536d5400",
   "metadata": {},
   "source": [
    "\\# TODO: Analyze the plot above: "
   ]
  },
  {
   "attachments": {},
   "cell_type": "markdown",
   "id": "4e0a7f69",
   "metadata": {},
   "source": [
    "The C value is another bias-variance tradeoff, as after a certain point (marked above by the green point), increasing the C value starts to decrease the accuracy of the model by making the data not generalize well to the new data. This can be seen by the drop in accuracy of the test accuracy after the green point. However, making the value too low makes the accuracy way too low, as it can't really generalize well to noise. This shows that the C value is also a way to tune over and under fitting. "
   ]
  },
  {
   "cell_type": "markdown",
   "id": "325d8d7c",
   "metadata": {},
   "source": [
    "### (10 Points)\n",
    "In addition to calculating percent accuracy, generate multiclass [confusion matrices](https://en.wikipedia.org/wiki/confusion_matrix) as part of your analysis."
   ]
  },
  {
   "cell_type": "code",
   "execution_count": 15,
   "id": "2b5fbd28",
   "metadata": {},
   "outputs": [
    {
     "name": "stdout",
     "output_type": "stream",
     "text": [
      "TRAIN MATRIX\n",
      "[[373   0   1   0   0   1   1   0   4   2]\n",
      " [  0 434   3   0   0   5   1   0   7   1]\n",
      " [  2   4 368   4   7   0   7   4  10   4]\n",
      " [  0   1  12 371   0   6   1   7  10   5]\n",
      " [  0   2   4   0 387   0   1   3   2  18]\n",
      " [  4   4   2   9   3 299  12   1   9   4]\n",
      " [  1   2   2   0   1   6 382   0   0   0]\n",
      " [  0   1   3   1   8   0   0 388   0  11]\n",
      " [  2   6  11  10   2   8   4   2 318  10]\n",
      " [  2   0   4   9  14   4   0  12   4 352]]\n",
      "TEST MATRIX\n",
      "[[ 84   0   0   0   0   1   1   0   0   0]\n",
      " [  0 120   0   1   0   0   0   0   1   0]\n",
      " [  0   0  99   2   0   0   1   3   6   2]\n",
      " [  0   0   1  92   0  10   4   4   3   1]\n",
      " [  0   0   0   0  95   1   5   0   1   6]\n",
      " [  1   0   1   3   0  81   2   0   4   0]\n",
      " [  2   0   0   0   0   4  79   1   1   0]\n",
      " [  1   2   5   0   2   0   0  87   0   2]\n",
      " [  0   0   2   4   5   4   0   2  65   4]\n",
      " [  0   1   0   1   2   1   0   1   2  84]]\n"
     ]
    }
   ],
   "source": [
    "train_predictions = list()\n",
    "test_predictions = list()\n",
    "# TODO\n",
    "result_tr = np.argmax(probs_tr, axis=0)\n",
    "result_te = np.argmax(probs_te, axis=0)\n",
    "\n",
    "# cm_tr = confusion_matrix(train_samples_labels, result_tr)\n",
    "# cm_te = confusion_matrix(test_samples_labels,  result_te)\n",
    "\n",
    "# svm = SVC(C = bestC, kernel = 'linear')\n",
    "# svm.fit(train_samples, flatTrain)\n",
    "\n",
    "# train_predictions = svm.predict(train_samples)\n",
    "# test_predictions  = svm.predict(test_samples)\n",
    "\n",
    "cm_tr = confusion_matrix(train_samples_labels, result_tr)\n",
    "cm_te = confusion_matrix(test_samples_labels, result_te)\n",
    "print(\"TRAIN MATRIX\")\n",
    "print(cm_tr)\n",
    "print(\"TEST MATRIX\")\n",
    "print(cm_te)\n",
    "\n",
    "# for label in range(10):\n",
    "#     print(\"Label:\", label)\n",
    "#     # cm_tr = confusion_matrix(trainBinaries[label], svm_list[bestCIdx][label].predict(train_samples))\n",
    "#     cm_te = confusion_matrix(testBinaries[label], svm_list[bestCIdx][label].predict(test_samples))\n",
    "#     # print(\" Train:\")\n",
    "#     # print(cm_tr)\n",
    "#     # print(\" Test:\")\n",
    "#     display(pd.DataFrame(cm_te))\n"
   ]
  },
  {
   "cell_type": "markdown",
   "id": "6132b425",
   "metadata": {},
   "source": [
    "### Evaluation (15 points)\n",
    "\n",
    "Now we will report our results and compare to other algorithms. Usually compare with a handful\n",
    "Logisitic regression\n",
    "\n",
    "**Create your own implementation of *one-versus-the-rest* and *one-versus-one*. Do not use sklearns multiclass Logistic Regression.**"
   ]
  },
  {
   "cell_type": "code",
   "execution_count": 16,
   "id": "c3e370a0",
   "metadata": {},
   "outputs": [
    {
     "name": "stderr",
     "output_type": "stream",
     "text": [
      "c:\\Users\\matth\\miniconda3\\envs\\ml135_env_sp23\\lib\\site-packages\\sklearn\\linear_model\\_logistic.py:458: ConvergenceWarning: lbfgs failed to converge (status=1):\n",
      "STOP: TOTAL NO. of ITERATIONS REACHED LIMIT.\n",
      "\n",
      "Increase the number of iterations (max_iter) or scale the data as shown in:\n",
      "    https://scikit-learn.org/stable/modules/preprocessing.html\n",
      "Please also refer to the documentation for alternative solver options:\n",
      "    https://scikit-learn.org/stable/modules/linear_model.html#logistic-regression\n",
      "  n_iter_i = _check_optimize_result(\n",
      "c:\\Users\\matth\\miniconda3\\envs\\ml135_env_sp23\\lib\\site-packages\\sklearn\\linear_model\\_logistic.py:458: ConvergenceWarning: lbfgs failed to converge (status=1):\n",
      "STOP: TOTAL NO. of ITERATIONS REACHED LIMIT.\n",
      "\n",
      "Increase the number of iterations (max_iter) or scale the data as shown in:\n",
      "    https://scikit-learn.org/stable/modules/preprocessing.html\n",
      "Please also refer to the documentation for alternative solver options:\n",
      "    https://scikit-learn.org/stable/modules/linear_model.html#logistic-regression\n",
      "  n_iter_i = _check_optimize_result(\n",
      "c:\\Users\\matth\\miniconda3\\envs\\ml135_env_sp23\\lib\\site-packages\\sklearn\\linear_model\\_logistic.py:458: ConvergenceWarning: lbfgs failed to converge (status=1):\n",
      "STOP: TOTAL NO. of ITERATIONS REACHED LIMIT.\n",
      "\n",
      "Increase the number of iterations (max_iter) or scale the data as shown in:\n",
      "    https://scikit-learn.org/stable/modules/preprocessing.html\n",
      "Please also refer to the documentation for alternative solver options:\n",
      "    https://scikit-learn.org/stable/modules/linear_model.html#logistic-regression\n",
      "  n_iter_i = _check_optimize_result(\n",
      "c:\\Users\\matth\\miniconda3\\envs\\ml135_env_sp23\\lib\\site-packages\\sklearn\\linear_model\\_logistic.py:458: ConvergenceWarning: lbfgs failed to converge (status=1):\n",
      "STOP: TOTAL NO. of ITERATIONS REACHED LIMIT.\n",
      "\n",
      "Increase the number of iterations (max_iter) or scale the data as shown in:\n",
      "    https://scikit-learn.org/stable/modules/preprocessing.html\n",
      "Please also refer to the documentation for alternative solver options:\n",
      "    https://scikit-learn.org/stable/modules/linear_model.html#logistic-regression\n",
      "  n_iter_i = _check_optimize_result(\n",
      "c:\\Users\\matth\\miniconda3\\envs\\ml135_env_sp23\\lib\\site-packages\\sklearn\\linear_model\\_logistic.py:458: ConvergenceWarning: lbfgs failed to converge (status=1):\n",
      "STOP: TOTAL NO. of ITERATIONS REACHED LIMIT.\n",
      "\n",
      "Increase the number of iterations (max_iter) or scale the data as shown in:\n",
      "    https://scikit-learn.org/stable/modules/preprocessing.html\n",
      "Please also refer to the documentation for alternative solver options:\n",
      "    https://scikit-learn.org/stable/modules/linear_model.html#logistic-regression\n",
      "  n_iter_i = _check_optimize_result(\n",
      "c:\\Users\\matth\\miniconda3\\envs\\ml135_env_sp23\\lib\\site-packages\\sklearn\\linear_model\\_logistic.py:458: ConvergenceWarning: lbfgs failed to converge (status=1):\n",
      "STOP: TOTAL NO. of ITERATIONS REACHED LIMIT.\n",
      "\n",
      "Increase the number of iterations (max_iter) or scale the data as shown in:\n",
      "    https://scikit-learn.org/stable/modules/preprocessing.html\n",
      "Please also refer to the documentation for alternative solver options:\n",
      "    https://scikit-learn.org/stable/modules/linear_model.html#logistic-regression\n",
      "  n_iter_i = _check_optimize_result(\n",
      "c:\\Users\\matth\\miniconda3\\envs\\ml135_env_sp23\\lib\\site-packages\\sklearn\\linear_model\\_logistic.py:458: ConvergenceWarning: lbfgs failed to converge (status=1):\n",
      "STOP: TOTAL NO. of ITERATIONS REACHED LIMIT.\n",
      "\n",
      "Increase the number of iterations (max_iter) or scale the data as shown in:\n",
      "    https://scikit-learn.org/stable/modules/preprocessing.html\n",
      "Please also refer to the documentation for alternative solver options:\n",
      "    https://scikit-learn.org/stable/modules/linear_model.html#logistic-regression\n",
      "  n_iter_i = _check_optimize_result(\n",
      "c:\\Users\\matth\\miniconda3\\envs\\ml135_env_sp23\\lib\\site-packages\\sklearn\\linear_model\\_logistic.py:458: ConvergenceWarning: lbfgs failed to converge (status=1):\n",
      "STOP: TOTAL NO. of ITERATIONS REACHED LIMIT.\n",
      "\n",
      "Increase the number of iterations (max_iter) or scale the data as shown in:\n",
      "    https://scikit-learn.org/stable/modules/preprocessing.html\n",
      "Please also refer to the documentation for alternative solver options:\n",
      "    https://scikit-learn.org/stable/modules/linear_model.html#logistic-regression\n",
      "  n_iter_i = _check_optimize_result(\n",
      "c:\\Users\\matth\\miniconda3\\envs\\ml135_env_sp23\\lib\\site-packages\\sklearn\\linear_model\\_logistic.py:458: ConvergenceWarning: lbfgs failed to converge (status=1):\n",
      "STOP: TOTAL NO. of ITERATIONS REACHED LIMIT.\n",
      "\n",
      "Increase the number of iterations (max_iter) or scale the data as shown in:\n",
      "    https://scikit-learn.org/stable/modules/preprocessing.html\n",
      "Please also refer to the documentation for alternative solver options:\n",
      "    https://scikit-learn.org/stable/modules/linear_model.html#logistic-regression\n",
      "  n_iter_i = _check_optimize_result(\n",
      "c:\\Users\\matth\\miniconda3\\envs\\ml135_env_sp23\\lib\\site-packages\\sklearn\\linear_model\\_logistic.py:458: ConvergenceWarning: lbfgs failed to converge (status=1):\n",
      "STOP: TOTAL NO. of ITERATIONS REACHED LIMIT.\n",
      "\n",
      "Increase the number of iterations (max_iter) or scale the data as shown in:\n",
      "    https://scikit-learn.org/stable/modules/preprocessing.html\n",
      "Please also refer to the documentation for alternative solver options:\n",
      "    https://scikit-learn.org/stable/modules/linear_model.html#logistic-regression\n",
      "  n_iter_i = _check_optimize_result(\n",
      "c:\\Users\\matth\\miniconda3\\envs\\ml135_env_sp23\\lib\\site-packages\\sklearn\\linear_model\\_logistic.py:458: ConvergenceWarning: lbfgs failed to converge (status=1):\n",
      "STOP: TOTAL NO. of ITERATIONS REACHED LIMIT.\n",
      "\n",
      "Increase the number of iterations (max_iter) or scale the data as shown in:\n",
      "    https://scikit-learn.org/stable/modules/preprocessing.html\n",
      "Please also refer to the documentation for alternative solver options:\n",
      "    https://scikit-learn.org/stable/modules/linear_model.html#logistic-regression\n",
      "  n_iter_i = _check_optimize_result(\n",
      "c:\\Users\\matth\\miniconda3\\envs\\ml135_env_sp23\\lib\\site-packages\\sklearn\\linear_model\\_logistic.py:458: ConvergenceWarning: lbfgs failed to converge (status=1):\n",
      "STOP: TOTAL NO. of ITERATIONS REACHED LIMIT.\n",
      "\n",
      "Increase the number of iterations (max_iter) or scale the data as shown in:\n",
      "    https://scikit-learn.org/stable/modules/preprocessing.html\n",
      "Please also refer to the documentation for alternative solver options:\n",
      "    https://scikit-learn.org/stable/modules/linear_model.html#logistic-regression\n",
      "  n_iter_i = _check_optimize_result(\n",
      "c:\\Users\\matth\\miniconda3\\envs\\ml135_env_sp23\\lib\\site-packages\\sklearn\\linear_model\\_logistic.py:458: ConvergenceWarning: lbfgs failed to converge (status=1):\n",
      "STOP: TOTAL NO. of ITERATIONS REACHED LIMIT.\n",
      "\n",
      "Increase the number of iterations (max_iter) or scale the data as shown in:\n",
      "    https://scikit-learn.org/stable/modules/preprocessing.html\n",
      "Please also refer to the documentation for alternative solver options:\n",
      "    https://scikit-learn.org/stable/modules/linear_model.html#logistic-regression\n",
      "  n_iter_i = _check_optimize_result(\n",
      "c:\\Users\\matth\\miniconda3\\envs\\ml135_env_sp23\\lib\\site-packages\\sklearn\\linear_model\\_logistic.py:458: ConvergenceWarning: lbfgs failed to converge (status=1):\n",
      "STOP: TOTAL NO. of ITERATIONS REACHED LIMIT.\n",
      "\n",
      "Increase the number of iterations (max_iter) or scale the data as shown in:\n",
      "    https://scikit-learn.org/stable/modules/preprocessing.html\n",
      "Please also refer to the documentation for alternative solver options:\n",
      "    https://scikit-learn.org/stable/modules/linear_model.html#logistic-regression\n",
      "  n_iter_i = _check_optimize_result(\n",
      "c:\\Users\\matth\\miniconda3\\envs\\ml135_env_sp23\\lib\\site-packages\\sklearn\\linear_model\\_logistic.py:458: ConvergenceWarning: lbfgs failed to converge (status=1):\n",
      "STOP: TOTAL NO. of ITERATIONS REACHED LIMIT.\n",
      "\n",
      "Increase the number of iterations (max_iter) or scale the data as shown in:\n",
      "    https://scikit-learn.org/stable/modules/preprocessing.html\n",
      "Please also refer to the documentation for alternative solver options:\n",
      "    https://scikit-learn.org/stable/modules/linear_model.html#logistic-regression\n",
      "  n_iter_i = _check_optimize_result(\n",
      "c:\\Users\\matth\\miniconda3\\envs\\ml135_env_sp23\\lib\\site-packages\\sklearn\\linear_model\\_logistic.py:458: ConvergenceWarning: lbfgs failed to converge (status=1):\n",
      "STOP: TOTAL NO. of ITERATIONS REACHED LIMIT.\n",
      "\n",
      "Increase the number of iterations (max_iter) or scale the data as shown in:\n",
      "    https://scikit-learn.org/stable/modules/preprocessing.html\n",
      "Please also refer to the documentation for alternative solver options:\n",
      "    https://scikit-learn.org/stable/modules/linear_model.html#logistic-regression\n",
      "  n_iter_i = _check_optimize_result(\n",
      "c:\\Users\\matth\\miniconda3\\envs\\ml135_env_sp23\\lib\\site-packages\\sklearn\\linear_model\\_logistic.py:458: ConvergenceWarning: lbfgs failed to converge (status=1):\n",
      "STOP: TOTAL NO. of ITERATIONS REACHED LIMIT.\n",
      "\n",
      "Increase the number of iterations (max_iter) or scale the data as shown in:\n",
      "    https://scikit-learn.org/stable/modules/preprocessing.html\n",
      "Please also refer to the documentation for alternative solver options:\n",
      "    https://scikit-learn.org/stable/modules/linear_model.html#logistic-regression\n",
      "  n_iter_i = _check_optimize_result(\n",
      "c:\\Users\\matth\\miniconda3\\envs\\ml135_env_sp23\\lib\\site-packages\\sklearn\\linear_model\\_logistic.py:458: ConvergenceWarning: lbfgs failed to converge (status=1):\n",
      "STOP: TOTAL NO. of ITERATIONS REACHED LIMIT.\n",
      "\n",
      "Increase the number of iterations (max_iter) or scale the data as shown in:\n",
      "    https://scikit-learn.org/stable/modules/preprocessing.html\n",
      "Please also refer to the documentation for alternative solver options:\n",
      "    https://scikit-learn.org/stable/modules/linear_model.html#logistic-regression\n",
      "  n_iter_i = _check_optimize_result(\n",
      "c:\\Users\\matth\\miniconda3\\envs\\ml135_env_sp23\\lib\\site-packages\\sklearn\\linear_model\\_logistic.py:458: ConvergenceWarning: lbfgs failed to converge (status=1):\n",
      "STOP: TOTAL NO. of ITERATIONS REACHED LIMIT.\n",
      "\n",
      "Increase the number of iterations (max_iter) or scale the data as shown in:\n",
      "    https://scikit-learn.org/stable/modules/preprocessing.html\n",
      "Please also refer to the documentation for alternative solver options:\n",
      "    https://scikit-learn.org/stable/modules/linear_model.html#logistic-regression\n",
      "  n_iter_i = _check_optimize_result(\n",
      "c:\\Users\\matth\\miniconda3\\envs\\ml135_env_sp23\\lib\\site-packages\\sklearn\\linear_model\\_logistic.py:458: ConvergenceWarning: lbfgs failed to converge (status=1):\n",
      "STOP: TOTAL NO. of ITERATIONS REACHED LIMIT.\n",
      "\n",
      "Increase the number of iterations (max_iter) or scale the data as shown in:\n",
      "    https://scikit-learn.org/stable/modules/preprocessing.html\n",
      "Please also refer to the documentation for alternative solver options:\n",
      "    https://scikit-learn.org/stable/modules/linear_model.html#logistic-regression\n",
      "  n_iter_i = _check_optimize_result(\n",
      "c:\\Users\\matth\\miniconda3\\envs\\ml135_env_sp23\\lib\\site-packages\\sklearn\\linear_model\\_logistic.py:458: ConvergenceWarning: lbfgs failed to converge (status=1):\n",
      "STOP: TOTAL NO. of ITERATIONS REACHED LIMIT.\n",
      "\n",
      "Increase the number of iterations (max_iter) or scale the data as shown in:\n",
      "    https://scikit-learn.org/stable/modules/preprocessing.html\n",
      "Please also refer to the documentation for alternative solver options:\n",
      "    https://scikit-learn.org/stable/modules/linear_model.html#logistic-regression\n",
      "  n_iter_i = _check_optimize_result(\n",
      "c:\\Users\\matth\\miniconda3\\envs\\ml135_env_sp23\\lib\\site-packages\\sklearn\\linear_model\\_logistic.py:458: ConvergenceWarning: lbfgs failed to converge (status=1):\n",
      "STOP: TOTAL NO. of ITERATIONS REACHED LIMIT.\n",
      "\n",
      "Increase the number of iterations (max_iter) or scale the data as shown in:\n",
      "    https://scikit-learn.org/stable/modules/preprocessing.html\n",
      "Please also refer to the documentation for alternative solver options:\n",
      "    https://scikit-learn.org/stable/modules/linear_model.html#logistic-regression\n",
      "  n_iter_i = _check_optimize_result(\n",
      "c:\\Users\\matth\\miniconda3\\envs\\ml135_env_sp23\\lib\\site-packages\\sklearn\\linear_model\\_logistic.py:458: ConvergenceWarning: lbfgs failed to converge (status=1):\n",
      "STOP: TOTAL NO. of ITERATIONS REACHED LIMIT.\n",
      "\n",
      "Increase the number of iterations (max_iter) or scale the data as shown in:\n",
      "    https://scikit-learn.org/stable/modules/preprocessing.html\n",
      "Please also refer to the documentation for alternative solver options:\n",
      "    https://scikit-learn.org/stable/modules/linear_model.html#logistic-regression\n",
      "  n_iter_i = _check_optimize_result(\n",
      "c:\\Users\\matth\\miniconda3\\envs\\ml135_env_sp23\\lib\\site-packages\\sklearn\\linear_model\\_logistic.py:458: ConvergenceWarning: lbfgs failed to converge (status=1):\n",
      "STOP: TOTAL NO. of ITERATIONS REACHED LIMIT.\n",
      "\n",
      "Increase the number of iterations (max_iter) or scale the data as shown in:\n",
      "    https://scikit-learn.org/stable/modules/preprocessing.html\n",
      "Please also refer to the documentation for alternative solver options:\n",
      "    https://scikit-learn.org/stable/modules/linear_model.html#logistic-regression\n",
      "  n_iter_i = _check_optimize_result(\n",
      "c:\\Users\\matth\\miniconda3\\envs\\ml135_env_sp23\\lib\\site-packages\\sklearn\\linear_model\\_logistic.py:458: ConvergenceWarning: lbfgs failed to converge (status=1):\n",
      "STOP: TOTAL NO. of ITERATIONS REACHED LIMIT.\n",
      "\n",
      "Increase the number of iterations (max_iter) or scale the data as shown in:\n",
      "    https://scikit-learn.org/stable/modules/preprocessing.html\n",
      "Please also refer to the documentation for alternative solver options:\n",
      "    https://scikit-learn.org/stable/modules/linear_model.html#logistic-regression\n",
      "  n_iter_i = _check_optimize_result(\n",
      "c:\\Users\\matth\\miniconda3\\envs\\ml135_env_sp23\\lib\\site-packages\\sklearn\\linear_model\\_logistic.py:458: ConvergenceWarning: lbfgs failed to converge (status=1):\n",
      "STOP: TOTAL NO. of ITERATIONS REACHED LIMIT.\n",
      "\n",
      "Increase the number of iterations (max_iter) or scale the data as shown in:\n",
      "    https://scikit-learn.org/stable/modules/preprocessing.html\n",
      "Please also refer to the documentation for alternative solver options:\n",
      "    https://scikit-learn.org/stable/modules/linear_model.html#logistic-regression\n",
      "  n_iter_i = _check_optimize_result(\n",
      "c:\\Users\\matth\\miniconda3\\envs\\ml135_env_sp23\\lib\\site-packages\\sklearn\\linear_model\\_logistic.py:458: ConvergenceWarning: lbfgs failed to converge (status=1):\n",
      "STOP: TOTAL NO. of ITERATIONS REACHED LIMIT.\n",
      "\n",
      "Increase the number of iterations (max_iter) or scale the data as shown in:\n",
      "    https://scikit-learn.org/stable/modules/preprocessing.html\n",
      "Please also refer to the documentation for alternative solver options:\n",
      "    https://scikit-learn.org/stable/modules/linear_model.html#logistic-regression\n",
      "  n_iter_i = _check_optimize_result(\n",
      "c:\\Users\\matth\\miniconda3\\envs\\ml135_env_sp23\\lib\\site-packages\\sklearn\\linear_model\\_logistic.py:458: ConvergenceWarning: lbfgs failed to converge (status=1):\n",
      "STOP: TOTAL NO. of ITERATIONS REACHED LIMIT.\n",
      "\n",
      "Increase the number of iterations (max_iter) or scale the data as shown in:\n",
      "    https://scikit-learn.org/stable/modules/preprocessing.html\n",
      "Please also refer to the documentation for alternative solver options:\n",
      "    https://scikit-learn.org/stable/modules/linear_model.html#logistic-regression\n",
      "  n_iter_i = _check_optimize_result(\n",
      "c:\\Users\\matth\\miniconda3\\envs\\ml135_env_sp23\\lib\\site-packages\\sklearn\\linear_model\\_logistic.py:458: ConvergenceWarning: lbfgs failed to converge (status=1):\n",
      "STOP: TOTAL NO. of ITERATIONS REACHED LIMIT.\n",
      "\n",
      "Increase the number of iterations (max_iter) or scale the data as shown in:\n",
      "    https://scikit-learn.org/stable/modules/preprocessing.html\n",
      "Please also refer to the documentation for alternative solver options:\n",
      "    https://scikit-learn.org/stable/modules/linear_model.html#logistic-regression\n",
      "  n_iter_i = _check_optimize_result(\n",
      "c:\\Users\\matth\\miniconda3\\envs\\ml135_env_sp23\\lib\\site-packages\\sklearn\\linear_model\\_logistic.py:458: ConvergenceWarning: lbfgs failed to converge (status=1):\n",
      "STOP: TOTAL NO. of ITERATIONS REACHED LIMIT.\n",
      "\n",
      "Increase the number of iterations (max_iter) or scale the data as shown in:\n",
      "    https://scikit-learn.org/stable/modules/preprocessing.html\n",
      "Please also refer to the documentation for alternative solver options:\n",
      "    https://scikit-learn.org/stable/modules/linear_model.html#logistic-regression\n",
      "  n_iter_i = _check_optimize_result(\n",
      "c:\\Users\\matth\\miniconda3\\envs\\ml135_env_sp23\\lib\\site-packages\\sklearn\\linear_model\\_logistic.py:458: ConvergenceWarning: lbfgs failed to converge (status=1):\n",
      "STOP: TOTAL NO. of ITERATIONS REACHED LIMIT.\n",
      "\n",
      "Increase the number of iterations (max_iter) or scale the data as shown in:\n",
      "    https://scikit-learn.org/stable/modules/preprocessing.html\n",
      "Please also refer to the documentation for alternative solver options:\n",
      "    https://scikit-learn.org/stable/modules/linear_model.html#logistic-regression\n",
      "  n_iter_i = _check_optimize_result(\n",
      "c:\\Users\\matth\\miniconda3\\envs\\ml135_env_sp23\\lib\\site-packages\\sklearn\\linear_model\\_logistic.py:458: ConvergenceWarning: lbfgs failed to converge (status=1):\n",
      "STOP: TOTAL NO. of ITERATIONS REACHED LIMIT.\n",
      "\n",
      "Increase the number of iterations (max_iter) or scale the data as shown in:\n",
      "    https://scikit-learn.org/stable/modules/preprocessing.html\n",
      "Please also refer to the documentation for alternative solver options:\n",
      "    https://scikit-learn.org/stable/modules/linear_model.html#logistic-regression\n",
      "  n_iter_i = _check_optimize_result(\n",
      "c:\\Users\\matth\\miniconda3\\envs\\ml135_env_sp23\\lib\\site-packages\\sklearn\\linear_model\\_logistic.py:458: ConvergenceWarning: lbfgs failed to converge (status=1):\n",
      "STOP: TOTAL NO. of ITERATIONS REACHED LIMIT.\n",
      "\n",
      "Increase the number of iterations (max_iter) or scale the data as shown in:\n",
      "    https://scikit-learn.org/stable/modules/preprocessing.html\n",
      "Please also refer to the documentation for alternative solver options:\n",
      "    https://scikit-learn.org/stable/modules/linear_model.html#logistic-regression\n",
      "  n_iter_i = _check_optimize_result(\n",
      "c:\\Users\\matth\\miniconda3\\envs\\ml135_env_sp23\\lib\\site-packages\\sklearn\\linear_model\\_logistic.py:458: ConvergenceWarning: lbfgs failed to converge (status=1):\n",
      "STOP: TOTAL NO. of ITERATIONS REACHED LIMIT.\n",
      "\n",
      "Increase the number of iterations (max_iter) or scale the data as shown in:\n",
      "    https://scikit-learn.org/stable/modules/preprocessing.html\n",
      "Please also refer to the documentation for alternative solver options:\n",
      "    https://scikit-learn.org/stable/modules/linear_model.html#logistic-regression\n",
      "  n_iter_i = _check_optimize_result(\n",
      "c:\\Users\\matth\\miniconda3\\envs\\ml135_env_sp23\\lib\\site-packages\\sklearn\\linear_model\\_logistic.py:458: ConvergenceWarning: lbfgs failed to converge (status=1):\n",
      "STOP: TOTAL NO. of ITERATIONS REACHED LIMIT.\n",
      "\n",
      "Increase the number of iterations (max_iter) or scale the data as shown in:\n",
      "    https://scikit-learn.org/stable/modules/preprocessing.html\n",
      "Please also refer to the documentation for alternative solver options:\n",
      "    https://scikit-learn.org/stable/modules/linear_model.html#logistic-regression\n",
      "  n_iter_i = _check_optimize_result(\n",
      "c:\\Users\\matth\\miniconda3\\envs\\ml135_env_sp23\\lib\\site-packages\\sklearn\\linear_model\\_logistic.py:458: ConvergenceWarning: lbfgs failed to converge (status=1):\n",
      "STOP: TOTAL NO. of ITERATIONS REACHED LIMIT.\n",
      "\n",
      "Increase the number of iterations (max_iter) or scale the data as shown in:\n",
      "    https://scikit-learn.org/stable/modules/preprocessing.html\n",
      "Please also refer to the documentation for alternative solver options:\n",
      "    https://scikit-learn.org/stable/modules/linear_model.html#logistic-regression\n",
      "  n_iter_i = _check_optimize_result(\n",
      "c:\\Users\\matth\\miniconda3\\envs\\ml135_env_sp23\\lib\\site-packages\\sklearn\\linear_model\\_logistic.py:458: ConvergenceWarning: lbfgs failed to converge (status=1):\n",
      "STOP: TOTAL NO. of ITERATIONS REACHED LIMIT.\n",
      "\n",
      "Increase the number of iterations (max_iter) or scale the data as shown in:\n",
      "    https://scikit-learn.org/stable/modules/preprocessing.html\n",
      "Please also refer to the documentation for alternative solver options:\n",
      "    https://scikit-learn.org/stable/modules/linear_model.html#logistic-regression\n",
      "  n_iter_i = _check_optimize_result(\n",
      "c:\\Users\\matth\\miniconda3\\envs\\ml135_env_sp23\\lib\\site-packages\\sklearn\\linear_model\\_logistic.py:458: ConvergenceWarning: lbfgs failed to converge (status=1):\n",
      "STOP: TOTAL NO. of ITERATIONS REACHED LIMIT.\n",
      "\n",
      "Increase the number of iterations (max_iter) or scale the data as shown in:\n",
      "    https://scikit-learn.org/stable/modules/preprocessing.html\n",
      "Please also refer to the documentation for alternative solver options:\n",
      "    https://scikit-learn.org/stable/modules/linear_model.html#logistic-regression\n",
      "  n_iter_i = _check_optimize_result(\n",
      "c:\\Users\\matth\\miniconda3\\envs\\ml135_env_sp23\\lib\\site-packages\\sklearn\\linear_model\\_logistic.py:458: ConvergenceWarning: lbfgs failed to converge (status=1):\n",
      "STOP: TOTAL NO. of ITERATIONS REACHED LIMIT.\n",
      "\n",
      "Increase the number of iterations (max_iter) or scale the data as shown in:\n",
      "    https://scikit-learn.org/stable/modules/preprocessing.html\n",
      "Please also refer to the documentation for alternative solver options:\n",
      "    https://scikit-learn.org/stable/modules/linear_model.html#logistic-regression\n",
      "  n_iter_i = _check_optimize_result(\n"
     ]
    }
   ],
   "source": [
    "train_predictions = list()\n",
    "test_predictions = list()\n",
    "\n",
    "# Creates the aggreagated binary classifiers for each class for train and test\n",
    "\n",
    "\n",
    "# Create all the models for all of the different C values\n",
    "logList = list() # The list with all of the predictors\n",
    "for c in c_vals: # For each C value\n",
    "\n",
    "    cPredictor = list() # The list that has the 10 classifiers for the corresponding C\n",
    "    for label in range(10):\n",
    "        logRegression = LogisticRegression(C = c)\n",
    "        logRegression.fit(train_samples, trainBinaries[label])\n",
    "        cPredictor.append(logRegression)\n",
    "    logList.append(cPredictor)\n",
    "    \n",
    "\n",
    "# TODO\n",
    "# for classifier in svm_list:\n",
    "#     pred_tr = classifier.predict(train_samples)\n",
    "#     pred_te = classifier.predict(test_samples)\n",
    "\n",
    "#     train_predictions.append(pred_tr)\n",
    "#     test_predictions.append(pred_te)"
   ]
  },
  {
   "cell_type": "code",
   "execution_count": 17,
   "id": "a95851f9",
   "metadata": {},
   "outputs": [],
   "source": [
    "# Get the predictions for each C value (NOTE: SEPARATED FOR TESTING PURPOSES)\n",
    "for predictor in logList:\n",
    "    trainProba = np.array([model.predict_proba(train_samples) for model in predictor])\n",
    "    testProba  = np.array([model.predict_proba(test_samples) for model in predictor])\n",
    "\n",
    "    train_predictions.append(np.argmax(trainProba, axis = 0))\n",
    "    test_predictions.append(np.argmax(testProba, axis = 0))"
   ]
  },
  {
   "cell_type": "markdown",
   "id": "d5c84887",
   "metadata": {},
   "source": [
    "Create a table comparing model accuracy on train and test data."
   ]
  },
  {
   "cell_type": "code",
   "execution_count": 18,
   "id": "e8a4012f",
   "metadata": {},
   "outputs": [
    {
     "data": {
      "text/html": [
       "<div>\n",
       "<style scoped>\n",
       "    .dataframe tbody tr th:only-of-type {\n",
       "        vertical-align: middle;\n",
       "    }\n",
       "\n",
       "    .dataframe tbody tr th {\n",
       "        vertical-align: top;\n",
       "    }\n",
       "\n",
       "    .dataframe thead th {\n",
       "        text-align: right;\n",
       "    }\n",
       "</style>\n",
       "<table border=\"1\" class=\"dataframe\">\n",
       "  <thead>\n",
       "    <tr style=\"text-align: right;\">\n",
       "      <th></th>\n",
       "      <th>Logistic</th>\n",
       "      <th>SVM</th>\n",
       "    </tr>\n",
       "  </thead>\n",
       "  <tbody>\n",
       "    <tr>\n",
       "      <th>Train</th>\n",
       "      <td>0.99775</td>\n",
       "      <td>0.94675</td>\n",
       "    </tr>\n",
       "    <tr>\n",
       "      <th>Test</th>\n",
       "      <td>0.82200</td>\n",
       "      <td>0.88700</td>\n",
       "    </tr>\n",
       "  </tbody>\n",
       "</table>\n",
       "</div>"
      ],
      "text/plain": [
       "       Logistic      SVM\n",
       "Train   0.99775  0.94675\n",
       "Test    0.82200  0.88700"
      ]
     },
     "metadata": {},
     "output_type": "display_data"
    }
   ],
   "source": [
    "# # TODO\n",
    "# Get the actual accuracies\n",
    "logTrainAccuracies = [len(prediction[prediction == train_samples_labels]) / len(train_samples_labels) for prediction in train_predictions]\n",
    "logTestAccuracies  = [len(prediction[prediction == test_samples_labels])  / len(test_samples_labels)  for prediction in test_predictions ]\n",
    "\n",
    "bestLogCIdx = np.argmax(logTrainAccuracies)\n",
    "\n",
    "# DF Data\n",
    "compareResults = {\"Logistic\": [logTrainAccuracies[bestLogCIdx], logTestAccuracies[bestLogCIdx]], \n",
    "                  \"SVM\": [train_accuracies[bestCIdx], test_accuracies[bestCIdx]]}\n",
    "\n",
    "df = pd.DataFrame(compareResults, index = [\"Train\", \"Test\"])\n",
    "display(df)\n",
    "\n",
    "# acc_dict = dict()\n",
    "# tr_acc_list = list()\n",
    "# te_acc_list = list()\n",
    "# new_svm_list = list()\n",
    "# tr_binaries, te_binaries = list(), list()\n",
    "\n",
    "# for c in classes:\n",
    "#     tr_samples_binary, te_samples_binary = list(), list()\n",
    "#     for idx in range(len(train_samples_labels)):\n",
    "#         tr_samples_binary.append( 1 if (train_samples_labels[idx] == c) else -1 )\n",
    "#     for idx in range(len(test_samples_labels)):\n",
    "#         te_samples_binary.append( 1 if (test_samples_labels[idx] == c) else -1 )\n",
    "\n",
    "#     tr_binaries.append(tr_samples_binary)\n",
    "#     te_binaries.append(te_samples_binary)\n",
    "\n",
    "#     svm = SVC(kernel=\"linear\", C=bestC)\n",
    "#     svm.fit(train_samples, tr_samples_binary)\n",
    "\n",
    "#     new_svm_list.append(svm)\n",
    "\n",
    "# for idx in range(len(new_svm_list)):\n",
    "#     tr_acc_list.append(new_svm_list[idx].score(train_samples, tr_binaries[idx]))\n",
    "#     te_acc_list.append(new_svm_list[idx].score(test_samples,  te_binaries[idx]))\n"
   ]
  },
  {
   "cell_type": "markdown",
   "id": "e57fd14a",
   "metadata": {},
   "source": [
    "Create 9 graphs (one for each label) with two ROC curves (one for each model).\n"
   ]
  },
  {
   "cell_type": "code",
   "execution_count": 19,
   "id": "33d3d302",
   "metadata": {},
   "outputs": [
    {
     "data": {
      "image/png": "[encoded data removed]",
      "text/plain": [
       "<Figure size 500x500 with 1 Axes>"
      ]
     },
     "metadata": {},
     "output_type": "display_data"
    },
    {
     "data": {
      "image/png": "[encoded data removed]",
      "text/plain": [
       "<Figure size 500x500 with 1 Axes>"
      ]
     },
     "metadata": {},
     "output_type": "display_data"
    },
    {
     "data": {
      "image/png": "[encoded data removed]",
      "text/plain": [
       "<Figure size 500x500 with 1 Axes>"
      ]
     },
     "metadata": {},
     "output_type": "display_data"
    },
    {
     "data": {
      "image/png": "[encoded data removed]",
      "text/plain": [
       "<Figure size 500x500 with 1 Axes>"
      ]
     },
     "metadata": {},
     "output_type": "display_data"
    },
    {
     "data": {
      "image/png": "[encoded data removed]",
      "text/plain": [
       "<Figure size 500x500 with 1 Axes>"
      ]
     },
     "metadata": {},
     "output_type": "display_data"
    },
    {
     "data": {
      "image/png": "[encoded data removed]",
      "text/plain": [
       "<Figure size 500x500 with 1 Axes>"
      ]
     },
     "metadata": {},
     "output_type": "display_data"
    },
    {
     "data": {
      "image/png": "[encoded data removed]",
      "text/plain": [
       "<Figure size 500x500 with 1 Axes>"
      ]
     },
     "metadata": {},
     "output_type": "display_data"
    },
    {
     "data": {
      "image/png": "[encoded data removed]",
      "text/plain": [
       "<Figure size 500x500 with 1 Axes>"
      ]
     },
     "metadata": {},
     "output_type": "display_data"
    },
    {
     "data": {
      "image/png": "[encoded data removed]",
      "text/plain": [
       "<Figure size 500x500 with 1 Axes>"
      ]
     },
     "metadata": {},
     "output_type": "display_data"
    },
    {
     "data": {
      "image/png": "[encoded data removed]",
      "text/plain": [
       "<Figure size 500x500 with 1 Axes>"
      ]
     },
     "metadata": {},
     "output_type": "display_data"
    }
   ],
   "source": [
    "# TODO\n",
    "from sklearn.metrics import roc_curve\n",
    "\n",
    "\n",
    "for label in range(10):\n",
    "    logFpr, logTpr, logThr = roc_curve(testBinaries[label], logList[bestLogCIdx][label].predict_proba(test_samples)[:, 1])\n",
    "    \n",
    "    svmFpr, svmTpr, svmThr = roc_curve(testBinaries[label], svm_list[bestCIdx][label].predict_proba(test_samples)[:, 1])\n",
    "    plt.figure(figsize = (5, 5))\n",
    "    plt.title(\"Label: \" + str(label))\n",
    "    plt.plot(logFpr, logTpr, label = \"Logistic\")\n",
    "    plt.plot(svmFpr, svmTpr, label = \"SVM\")\n",
    "    plt.xlabel = \"False Positive Rate\"\n",
    "    plt.ylabel = \"True Positive Rate\"\n",
    "    plt.legend(loc='lower right')\n",
    "    plt.show()\n",
    "\n",
    "\n",
    "\n",
    "\n",
    "# logDataPoints = np.array(logDataPoints)\n",
    "# svmDataPoints = np.array(svmDataPoints)\n",
    "# print(logDataPoints[0, 0, 0])\n",
    "# subplotVal = 111\n",
    "# for label in range(10):\n",
    "#     plt.subplot(subplotVal + label)\n",
    "#     plt.plot(logDataPoints[label, :, 0], logDataPoints[label, :, 1])\n",
    "#     plt.plot(svmDataPoints[label, :, 0], svmDataPoints[label, :, 1])\n",
    "\n",
    "# logDataPoints = list() \n",
    "# svmDataPoints = list() \n",
    "# for label in range(10):\n",
    "#     logLabelList = list() \n",
    "#     svmLabelList = list() \n",
    "    \n",
    "#     for cIdx in range(len(c_vals)):\n",
    "#         c = c_vals[cIdx]\n",
    "\n",
    "#         logFpr, logTpr, _  = roc_curve(testBinaries[label], logList[cIdx][label].predict(test_samples))\n",
    "#         logLabelList.append((logFpr[1], logTpr[1]))\n",
    "\n",
    "#         svmBinary = [1 if prediction == label else -1 for prediction in svm_list[cIdx].predict(test_samples)]\n",
    "#         svmFpr, svmTpr, _ = roc_curve(testBinaries[label], svmBinary)\n",
    "#         svmLabelList.append((svmFpr[1], svmTpr[1]))\n",
    "\n",
    "#     logDataPoints.append(logLabelList)\n",
    "#     svmDataPoints.append(svmLabelList)\n",
    "\n",
    "# for idx in range(len(new_svm_list)):\n",
    "#     fpr, tpr, thr = roc_curve(tr_binaries[idx], \\\n",
    "#                                 new_svm_list[idx].predict(train_samples))\n",
    "#     plt.plot(fpr, tpr, label=f\"ROC {idx}\")\n",
    "\n",
    "# plt.xlabel = \"False Positive Rate\"\n",
    "# plt.ylabel = \"True Positive Rate\"\n",
    "# plt.legend(loc='lower right')\n",
    "# plt.show()\n"
   ]
  },
  {
   "cell_type": "code",
   "execution_count": 23,
   "id": "93992381",
   "metadata": {},
   "outputs": [
    {
     "data": {
      "text/html": [
       "<div>\n",
       "<style scoped>\n",
       "    .dataframe tbody tr th:only-of-type {\n",
       "        vertical-align: middle;\n",
       "    }\n",
       "\n",
       "    .dataframe tbody tr th {\n",
       "        vertical-align: top;\n",
       "    }\n",
       "\n",
       "    .dataframe thead th {\n",
       "        text-align: right;\n",
       "    }\n",
       "</style>\n",
       "<table border=\"1\" class=\"dataframe\">\n",
       "  <thead>\n",
       "    <tr style=\"text-align: right;\">\n",
       "      <th></th>\n",
       "      <th>0</th>\n",
       "      <th>1</th>\n",
       "      <th>2</th>\n",
       "      <th>3</th>\n",
       "      <th>4</th>\n",
       "      <th>5</th>\n",
       "      <th>6</th>\n",
       "      <th>7</th>\n",
       "      <th>8</th>\n",
       "      <th>9</th>\n",
       "    </tr>\n",
       "  </thead>\n",
       "  <tbody>\n",
       "    <tr>\n",
       "      <th>Logistic Train</th>\n",
       "      <td>100.0</td>\n",
       "      <td>100.0</td>\n",
       "      <td>100.0</td>\n",
       "      <td>99.825</td>\n",
       "      <td>100.0</td>\n",
       "      <td>100.0</td>\n",
       "      <td>100.0</td>\n",
       "      <td>100.0</td>\n",
       "      <td>99.025</td>\n",
       "      <td>98.6</td>\n",
       "    </tr>\n",
       "    <tr>\n",
       "      <th>Logistic Test</th>\n",
       "      <td>98.2</td>\n",
       "      <td>99.0</td>\n",
       "      <td>95.1</td>\n",
       "      <td>93.000</td>\n",
       "      <td>95.4</td>\n",
       "      <td>93.4</td>\n",
       "      <td>97.4</td>\n",
       "      <td>96.9</td>\n",
       "      <td>93.000</td>\n",
       "      <td>93.9</td>\n",
       "    </tr>\n",
       "    <tr>\n",
       "      <th>SVM Train</th>\n",
       "      <td>100.0</td>\n",
       "      <td>100.0</td>\n",
       "      <td>100.0</td>\n",
       "      <td>100.000</td>\n",
       "      <td>100.0</td>\n",
       "      <td>100.0</td>\n",
       "      <td>100.0</td>\n",
       "      <td>100.0</td>\n",
       "      <td>100.000</td>\n",
       "      <td>100.0</td>\n",
       "    </tr>\n",
       "    <tr>\n",
       "      <th>SVM Test</th>\n",
       "      <td>98.0</td>\n",
       "      <td>98.7</td>\n",
       "      <td>94.3</td>\n",
       "      <td>93.100</td>\n",
       "      <td>94.3</td>\n",
       "      <td>94.2</td>\n",
       "      <td>97.6</td>\n",
       "      <td>96.8</td>\n",
       "      <td>92.700</td>\n",
       "      <td>92.1</td>\n",
       "    </tr>\n",
       "  </tbody>\n",
       "</table>\n",
       "</div>"
      ],
      "text/plain": [
       "                    0      1      2        3      4      5      6      7  \\\n",
       "Logistic Train  100.0  100.0  100.0   99.825  100.0  100.0  100.0  100.0   \n",
       "Logistic Test    98.2   99.0   95.1   93.000   95.4   93.4   97.4   96.9   \n",
       "SVM Train       100.0  100.0  100.0  100.000  100.0  100.0  100.0  100.0   \n",
       "SVM Test         98.0   98.7   94.3   93.100   94.3   94.2   97.6   96.8   \n",
       "\n",
       "                      8      9  \n",
       "Logistic Train   99.025   98.6  \n",
       "Logistic Test    93.000   93.9  \n",
       "SVM Train       100.000  100.0  \n",
       "SVM Test         92.700   92.1  "
      ]
     },
     "metadata": {},
     "output_type": "display_data"
    }
   ],
   "source": [
    "# Create a table comparing SVM to Logistic\n",
    "\n",
    "accuracyTable = dict() \n",
    "\n",
    "train_predictions = np.array(train_predictions)\n",
    "test_predictions  = np.array(test_predictions)\n",
    "\n",
    "\n",
    "for label in range(10):\n",
    "    valueList = list()\n",
    "    # Logistic \n",
    "    valueList.append(logList[bestLogCIdx][label].score(train_samples, trainBinaries[label]) * 100)\n",
    "    valueList.append(logList[bestLogCIdx][label].score(test_samples, testBinaries[label]) * 100)\n",
    "    \n",
    "    # SVM\n",
    "    valueList.append(svm_list[bestLogCIdx][label].score(train_samples, trainBinaries[label]) * 100)\n",
    "    valueList.append(svm_list[bestLogCIdx][label].score(test_samples, testBinaries[label]) * 100)\n",
    "    \n",
    "    accuracyTable[label] = valueList\n",
    "\n",
    "df = pd.DataFrame(accuracyTable, index = [\"Logistic Train\", \"Logistic Test\", \"SVM Train\", \"SVM Test\"])\n",
    "\n",
    "display(df)\n"
   ]
  },
  {
   "cell_type": "markdown",
   "id": "97d42b15",
   "metadata": {},
   "source": [
    "# BONUS (+5 points): Non-linear kernel\n",
    "## Intuition Behind Kernels\n",
    "The SVM classifier obtained by solving the convex Lagrange dual of the primal max-margin SVM formulation is as follows:\n",
    "\n",
    "$$ f(x) = \\sum_{i=1}^N\\alpha_i\\cdot y_i\\cdot\\mathrm{K}(x,x_i)+b,$$\n",
    "\n",
    "where $N$ is the number of support vectors.\n",
    "\n",
    "If you know the intuition behind a linear discriminant function, the non-parametric SVM classifier above is very easy to understand. Instead of imagining the original features of each data point, consider a transformation to a new feature space where the data point has $N$ features, one for each support vector. The value of the $i^{th}$ feature is equal to the value of the kernel between the $i^{th}$ support vector and the data point is classified. The original (possibly non-linear) SVM classifier is like any other linear discriminant in this space.\n",
    "\n",
    "Note that after the transformation, the original features of the data point are irrelevant. Its dot products with support vectors (special data points chosen by the SVM optimization algorithm) represent it only. One of my professors used a loose analogy while explaining this idea: A person has seen lakes, rivers, streams, fords, etc., but has never seen the sea. How would you explain to this person what a sea is? By relating the amount of water in an ocean to that found in a water body, the person already knows, etc.\n",
    "\n",
    "In some instances, like the RBF kernel, defining the transformed features in terms of the original features of a data point leads to an infinite-dimensional representation. Unfortunately, though this an awe-inspiring fact often mentioned while explaining how powerful SVMs are, it drops in only after repeated encounters with the idea ranging from introductory machine learning to statistical learning theory.\n",
    "\n",
    "\n",
    "## Intuition Behind Gaussian Kernels\n",
    "\n",
    "The Gaussian/RBF kernel is as follows:\n",
    "\n",
    "$$ \\mathrm{K}(x,y)=exp(−\\frac{||x−y||^2}{2\\sigma^2})$$\n",
    "\n",
    "\n",
    "Like any other kernel, we can understand the RBF kernel regarding feature transformation via the dot products given above. However, the intuition that helps best when analyzing the RBF kernel is that of the Gaussian distribution (as provided by [Akihiro Matsukawa](https://www.quora.com/profile/Akihiro-Matsukawa)).\n",
    "\n",
    "The Gaussian kernel computed with a support vector is an exponentially decaying function in the input feature space, the maximum value of which is attained at the support vector and which decays uniformly in all directions around the support vector, leading to hyper-spherical contours of the kernel function. The SVM classifier with the Gaussian kernel is simply a weighted linear combination of the kernel function computed between a data point and each support vector. The role of a support vector in the classification of a data point gets tempered with $\\alpha$, the global prediction usefulness of the support vector, and $\\mathrm{K}(x,y)$, the local influence of a support vector in prediction at a particular data point.\n",
    "\n",
    "In the 2D feature space, each support vector's kernel function's heat map decay away from the support vector and the resulting classifier (see the following figure).\n",
    "\n",
    "\n",
    "## Notion of Universal Kernels\n",
    "\n",
    "(This comes from learning theory, it could be more intuitive, but good to know.)\n",
    "\n",
    "Gaussian kernels are universal kernels, i.e., their use with appropriate regularization guarantees a globally optimal predictor, which minimizes a classifier's estimation and approximation errors. Here, we incur approximation error by limiting the space of classification models over which the search space. Estimation error refers to errors in estimating the model parameters.\n"
   ]
  },
  {
   "cell_type": "markdown",
   "id": "db4f492d",
   "metadata": {},
   "source": [
    "## Intuition Behind Gaussian Kernels\n",
    "\n",
    "The Gaussian/RBF kernel is as follows:\n",
    "\n",
    "$$ \\mathrm{K}(x,y)=exp(−\\frac{||x−y||^2}{2\\sigma^2})$$\n",
    "\n",
    "\n",
    "Like any other kernel, we can understand the RBF kernel regarding feature transformation via the dot products given above. However, the intuition that helps best when analyzing the RBF kernel is that of the Gaussian distribution (as provided by [Akihiro Matsukawa](https://www.quora.com/profile/Akihiro-Matsukawa)).\n",
    "\n",
    "The Gaussian kernel computed with a support vector is an exponentially decaying function in the input feature space, the maximum value of which is attained at the support vector and which decays uniformly in all directions around the support vector, leading to hyper-spherical contours of the kernel function. The SVM classifier with the Gaussian kernel is simply a weighted linear combination of the kernel function computed between a data point and each support vector. The role of a support vector in the classification of a data point gets tempered with $\\alpha$, the global prediction usefulness of the support vector, and $\\mathrm{K}(x,y)$, the local influence of a support vector in prediction at a particular data point.\n",
    "\n",
    "In the 2D feature space, each support vector's kernel function's heat map decay away from the support vector and the resulting classifier (see the following figure).\n",
    "\n",
    "![gkernel in 2D](images/gkernel-2d.jpeg \" kernel function of each support vector\")\n"
   ]
  },
  {
   "cell_type": "markdown",
   "id": "2ae58788",
   "metadata": {},
   "source": [
    "### Notion of Universal Kernels\n",
    "(This comes from learning theory, it could be more intuitive, but good to know.)\n",
    "\n",
    "Gaussian kernels are universal kernels, i.e., their use with appropriate regularization guarantees a globally optimal predictor, which minimizes a classifier's estimation and approximation errors. Here, we incur approximation error by limiting the space of classification models over which the search space. Estimation error refers to errors in estimating the model parameters.\n"
   ]
  },
  {
   "cell_type": "markdown",
   "id": "1b7bbbb6",
   "metadata": {},
   "source": [
    "Implement `nonlinear_kernel()` in `implementation.py`, use it, and compare with others (repeat above for SVM using non-linear kernel and do analysis)."
   ]
  },
  {
   "cell_type": "code",
   "execution_count": 24,
   "id": "7f1169ed",
   "metadata": {
    "jupyter": {
     "outputs_hidden": false
    }
   },
   "outputs": [
    {
     "name": "stdout",
     "output_type": "stream",
     "text": [
      "[[ 1 -2  4]\n",
      " [ 1  4  1]\n",
      " [ 1  1  6]\n",
      " [ 1  2  4]\n",
      " [ 1  6  2]]\n",
      "[[ 0. 45. 13. 16. 68.]\n",
      " [45.  0. 34. 13.  5.]\n",
      " [13. 34.  0.  5. 41.]\n",
      " [16. 13.  5.  0. 20.]\n",
      " [68.  5. 41. 20.  0.]]\n",
      "[[1.00000000e+00 8.19401262e-40 5.10908903e-12 1.26641655e-14\n",
      "  8.62880116e-60]\n",
      " [8.19401262e-40 1.00000000e+00 2.93748211e-30 5.10908903e-12\n",
      "  4.53999298e-05]\n",
      " [5.10908903e-12 2.93748211e-30 1.00000000e+00 4.53999298e-05\n",
      "  2.44260074e-36]\n",
      " [1.26641655e-14 5.10908903e-12 4.53999298e-05 1.00000000e+00\n",
      "  4.24835426e-18]\n",
      " [8.62880116e-60 4.53999298e-05 2.44260074e-36 4.24835426e-18\n",
      "  1.00000000e+00]]\n",
      "[[ 1 -2  4]\n",
      " [ 1  4  1]\n",
      " [ 1  1  6]\n",
      " [ 1  2  4]\n",
      " [ 1  6  2]]\n",
      "[[ 0. 45. 13. 16. 68.]\n",
      " [45.  0. 34. 13.  5.]\n",
      " [13. 34.  0.  5. 41.]\n",
      " [16. 13.  5.  0. 20.]\n",
      " [68.  5. 41. 20.  0.]]\n",
      "[[1.00000000e+00 8.19401262e-40 5.10908903e-12 1.26641655e-14\n",
      "  8.62880116e-60]\n",
      " [8.19401262e-40 1.00000000e+00 2.93748211e-30 5.10908903e-12\n",
      "  4.53999298e-05]\n",
      " [5.10908903e-12 2.93748211e-30 1.00000000e+00 4.53999298e-05\n",
      "  2.44260074e-36]\n",
      " [1.26641655e-14 5.10908903e-12 4.53999298e-05 1.00000000e+00\n",
      "  4.24835426e-18]\n",
      " [8.62880116e-60 4.53999298e-05 2.44260074e-36 4.24835426e-18\n",
      "  1.00000000e+00]]\n",
      "[[ 1 -2  4]\n",
      " [ 1  4  1]\n",
      " [ 1  1  6]\n",
      " [ 1  2  4]\n",
      " [ 1  6  2]]\n",
      "[[ 0. 45. 13. 16. 68.]\n",
      " [45.  0. 34. 13.  5.]\n",
      " [13. 34.  0.  5. 41.]\n",
      " [16. 13.  5.  0. 20.]\n",
      " [68.  5. 41. 20.  0.]]\n",
      "[[1.00000000e+00 8.19401262e-40 5.10908903e-12 1.26641655e-14\n",
      "  8.62880116e-60]\n",
      " [8.19401262e-40 1.00000000e+00 2.93748211e-30 5.10908903e-12\n",
      "  4.53999298e-05]\n",
      " [5.10908903e-12 2.93748211e-30 1.00000000e+00 4.53999298e-05\n",
      "  2.44260074e-36]\n",
      " [1.26641655e-14 5.10908903e-12 4.53999298e-05 1.00000000e+00\n",
      "  4.24835426e-18]\n",
      " [8.62880116e-60 4.53999298e-05 2.44260074e-36 4.24835426e-18\n",
      "  1.00000000e+00]]\n",
      "[[ 1 -2  4]\n",
      " [ 1  4  1]\n",
      " [ 1  1  6]\n",
      " [ 1  2  4]\n",
      " [ 1  6  2]]\n",
      "[[ 0. 45. 13. 16. 68.]\n",
      " [45.  0. 34. 13.  5.]\n",
      " [13. 34.  0.  5. 41.]\n",
      " [16. 13.  5.  0. 20.]\n",
      " [68.  5. 41. 20.  0.]]\n",
      "[[1.00000000e+00 8.19401262e-40 5.10908903e-12 1.26641655e-14\n",
      "  8.62880116e-60]\n",
      " [8.19401262e-40 1.00000000e+00 2.93748211e-30 5.10908903e-12\n",
      "  4.53999298e-05]\n",
      " [5.10908903e-12 2.93748211e-30 1.00000000e+00 4.53999298e-05\n",
      "  2.44260074e-36]\n",
      " [1.26641655e-14 5.10908903e-12 4.53999298e-05 1.00000000e+00\n",
      "  4.24835426e-18]\n",
      " [8.62880116e-60 4.53999298e-05 2.44260074e-36 4.24835426e-18\n",
      "  1.00000000e+00]]\n",
      "[[ 1 -2  4]\n",
      " [ 1  4  1]\n",
      " [ 1  1  6]\n",
      " [ 1  2  4]\n",
      " [ 1  6  2]]\n",
      "[[ 0. 45. 13. 16. 68.]\n",
      " [45.  0. 34. 13.  5.]\n",
      " [13. 34.  0.  5. 41.]\n",
      " [16. 13.  5.  0. 20.]\n",
      " [68.  5. 41. 20.  0.]]\n",
      "[[1.00000000e+00 8.19401262e-40 5.10908903e-12 1.26641655e-14\n",
      "  8.62880116e-60]\n",
      " [8.19401262e-40 1.00000000e+00 2.93748211e-30 5.10908903e-12\n",
      "  4.53999298e-05]\n",
      " [5.10908903e-12 2.93748211e-30 1.00000000e+00 4.53999298e-05\n",
      "  2.44260074e-36]\n",
      " [1.26641655e-14 5.10908903e-12 4.53999298e-05 1.00000000e+00\n",
      "  4.24835426e-18]\n",
      " [8.62880116e-60 4.53999298e-05 2.44260074e-36 4.24835426e-18\n",
      "  1.00000000e+00]]\n",
      "[[ 1 -2  4]\n",
      " [ 1  4  1]\n",
      " [ 1  1  6]\n",
      " [ 1  2  4]\n",
      " [ 1  6  2]]\n",
      "[[ 0. 45. 13. 16. 68.]\n",
      " [45.  0. 34. 13.  5.]\n",
      " [13. 34.  0.  5. 41.]\n",
      " [16. 13.  5.  0. 20.]\n",
      " [68.  5. 41. 20.  0.]]\n",
      "[[1.00000000e+00 8.19401262e-40 5.10908903e-12 1.26641655e-14\n",
      "  8.62880116e-60]\n",
      " [8.19401262e-40 1.00000000e+00 2.93748211e-30 5.10908903e-12\n",
      "  4.53999298e-05]\n",
      " [5.10908903e-12 2.93748211e-30 1.00000000e+00 4.53999298e-05\n",
      "  2.44260074e-36]\n",
      " [1.26641655e-14 5.10908903e-12 4.53999298e-05 1.00000000e+00\n",
      "  4.24835426e-18]\n",
      " [8.62880116e-60 4.53999298e-05 2.44260074e-36 4.24835426e-18\n",
      "  1.00000000e+00]]\n",
      "[[ 1 -2  4]\n",
      " [ 1  4  1]\n",
      " [ 1  1  6]\n",
      " [ 1  2  4]\n",
      " [ 1  6  2]]\n",
      "[[ 0. 45. 13. 16. 68.]\n",
      " [45.  0. 34. 13.  5.]\n",
      " [13. 34.  0.  5. 41.]\n",
      " [16. 13.  5.  0. 20.]\n",
      " [68.  5. 41. 20.  0.]]\n",
      "[[1.00000000e+00 8.19401262e-40 5.10908903e-12 1.26641655e-14\n",
      "  8.62880116e-60]\n",
      " [8.19401262e-40 1.00000000e+00 2.93748211e-30 5.10908903e-12\n",
      "  4.53999298e-05]\n",
      " [5.10908903e-12 2.93748211e-30 1.00000000e+00 4.53999298e-05\n",
      "  2.44260074e-36]\n",
      " [1.26641655e-14 5.10908903e-12 4.53999298e-05 1.00000000e+00\n",
      "  4.24835426e-18]\n",
      " [8.62880116e-60 4.53999298e-05 2.44260074e-36 4.24835426e-18\n",
      "  1.00000000e+00]]\n",
      "[[ 1 -2  4]\n",
      " [ 1  4  1]\n",
      " [ 1  1  6]\n",
      " [ 1  2  4]\n",
      " [ 1  6  2]]\n",
      "[[ 0. 45. 13. 16. 68.]\n",
      " [45.  0. 34. 13.  5.]\n",
      " [13. 34.  0.  5. 41.]\n",
      " [16. 13.  5.  0. 20.]\n",
      " [68.  5. 41. 20.  0.]]\n",
      "[[1.00000000e+00 8.19401262e-40 5.10908903e-12 1.26641655e-14\n",
      "  8.62880116e-60]\n",
      " [8.19401262e-40 1.00000000e+00 2.93748211e-30 5.10908903e-12\n",
      "  4.53999298e-05]\n",
      " [5.10908903e-12 2.93748211e-30 1.00000000e+00 4.53999298e-05\n",
      "  2.44260074e-36]\n",
      " [1.26641655e-14 5.10908903e-12 4.53999298e-05 1.00000000e+00\n",
      "  4.24835426e-18]\n",
      " [8.62880116e-60 4.53999298e-05 2.44260074e-36 4.24835426e-18\n",
      "  1.00000000e+00]]\n",
      "[[ 1 -2  4]\n",
      " [ 1  4  1]\n",
      " [ 1  1  6]\n",
      " [ 1  2  4]\n",
      " [ 1  6  2]]\n",
      "[[ 0. 45. 13. 16. 68.]\n",
      " [45.  0. 34. 13.  5.]\n",
      " [13. 34.  0.  5. 41.]\n",
      " [16. 13.  5.  0. 20.]\n",
      " [68.  5. 41. 20.  0.]]\n",
      "[[1.00000000e+00 8.19401262e-40 5.10908903e-12 1.26641655e-14\n",
      "  8.62880116e-60]\n",
      " [8.19401262e-40 1.00000000e+00 2.93748211e-30 5.10908903e-12\n",
      "  4.53999298e-05]\n",
      " [5.10908903e-12 2.93748211e-30 1.00000000e+00 4.53999298e-05\n",
      "  2.44260074e-36]\n",
      " [1.26641655e-14 5.10908903e-12 4.53999298e-05 1.00000000e+00\n",
      "  4.24835426e-18]\n",
      " [8.62880116e-60 4.53999298e-05 2.44260074e-36 4.24835426e-18\n",
      "  1.00000000e+00]]\n",
      "[[ 1 -2  4]\n",
      " [ 1  4  1]\n",
      " [ 1  1  6]\n",
      " [ 1  2  4]\n",
      " [ 1  6  2]]\n",
      "[[ 0. 45. 13. 16. 68.]\n",
      " [45.  0. 34. 13.  5.]\n",
      " [13. 34.  0.  5. 41.]\n",
      " [16. 13.  5.  0. 20.]\n",
      " [68.  5. 41. 20.  0.]]\n",
      "[[1.00000000e+00 8.19401262e-40 5.10908903e-12 1.26641655e-14\n",
      "  8.62880116e-60]\n",
      " [8.19401262e-40 1.00000000e+00 2.93748211e-30 5.10908903e-12\n",
      "  4.53999298e-05]\n",
      " [5.10908903e-12 2.93748211e-30 1.00000000e+00 4.53999298e-05\n",
      "  2.44260074e-36]\n",
      " [1.26641655e-14 5.10908903e-12 4.53999298e-05 1.00000000e+00\n",
      "  4.24835426e-18]\n",
      " [8.62880116e-60 4.53999298e-05 2.44260074e-36 4.24835426e-18\n",
      "  1.00000000e+00]]\n",
      "[[ 1 -2  4]\n",
      " [ 1  4  1]\n",
      " [ 1  1  6]\n",
      " [ 1  2  4]\n",
      " [ 1  6  2]]\n",
      "[[ 0. 45. 13. 16. 68.]\n",
      " [45.  0. 34. 13.  5.]\n",
      " [13. 34.  0.  5. 41.]\n",
      " [16. 13.  5.  0. 20.]\n",
      " [68.  5. 41. 20.  0.]]\n",
      "[[1.00000000e+00 8.19401262e-40 5.10908903e-12 1.26641655e-14\n",
      "  8.62880116e-60]\n",
      " [8.19401262e-40 1.00000000e+00 2.93748211e-30 5.10908903e-12\n",
      "  4.53999298e-05]\n",
      " [5.10908903e-12 2.93748211e-30 1.00000000e+00 4.53999298e-05\n",
      "  2.44260074e-36]\n",
      " [1.26641655e-14 5.10908903e-12 4.53999298e-05 1.00000000e+00\n",
      "  4.24835426e-18]\n",
      " [8.62880116e-60 4.53999298e-05 2.44260074e-36 4.24835426e-18\n",
      "  1.00000000e+00]]\n",
      "[[ 1 -2  4]\n",
      " [ 1  4  1]\n",
      " [ 1  1  6]\n",
      " [ 1  2  4]\n",
      " [ 1  6  2]]\n",
      "[[ 0. 45. 13. 16. 68.]\n",
      " [45.  0. 34. 13.  5.]\n",
      " [13. 34.  0.  5. 41.]\n",
      " [16. 13.  5.  0. 20.]\n",
      " [68.  5. 41. 20.  0.]]\n",
      "[[1.00000000e+00 8.19401262e-40 5.10908903e-12 1.26641655e-14\n",
      "  8.62880116e-60]\n",
      " [8.19401262e-40 1.00000000e+00 2.93748211e-30 5.10908903e-12\n",
      "  4.53999298e-05]\n",
      " [5.10908903e-12 2.93748211e-30 1.00000000e+00 4.53999298e-05\n",
      "  2.44260074e-36]\n",
      " [1.26641655e-14 5.10908903e-12 4.53999298e-05 1.00000000e+00\n",
      "  4.24835426e-18]\n",
      " [8.62880116e-60 4.53999298e-05 2.44260074e-36 4.24835426e-18\n",
      "  1.00000000e+00]]\n",
      "Optimization terminated successfully\n",
      "\n",
      "Alpha [1.19999999 1.19999999 0.79999999 0.79999999 0.79999999]\n",
      "Weights [4.44089210e-16 4.79999996e+00 3.59999997e+00]\n",
      "Bias -23.39999982565643\n"
     ]
    }
   ],
   "source": [
    "# (Bonus) TODO \n",
    "nonlin_ref = SVC(kernel=\"rbf\")\n",
    "nonlin_ref.fit(X, y)\n",
    "\n",
    "nonlin_svm = SVM(kernel=nonlinear_kernel)\n",
    "nonlin_svm.fit(X, y)\n",
    "\n",
    "print()\n",
    "print(\"Alpha\", nonlin_svm.a)\n",
    "print(\"Weights\", nonlin_svm.w)\n",
    "print(\"Bias\", nonlin_svm.b)"
   ]
  },
  {
   "cell_type": "code",
   "execution_count": 26,
   "id": "4d3cca35",
   "metadata": {},
   "outputs": [
    {
     "name": "stdout",
     "output_type": "stream",
     "text": [
      "Reference Support vectors: [0 1 2 3 4]\n",
      "implementation.py indices of support vectors: [0 1 2 3 4]\n"
     ]
    }
   ],
   "source": [
    "print(\"Reference Support vectors:\", nonlin_ref.support_)\n",
    "print(\"implementation.py indices of support vectors:\", \\\n",
    "      np.array(range(y.shape[0]))[nonlin_svm.a>1e-8])\n",
    "if (nonlin_ref.support_ != np.array(range(y.shape[0]))[nonlin_svm.a>1e-8]).all():\n",
    "    raise Exception(\"The calculation is wrong\")"
   ]
  }
 ],
 "metadata": {
  "kernelspec": {
   "display_name": "Python 3 (ipykernel)",
   "language": "python",
   "name": "python3"
  },
  "language_info": {
   "codemirror_mode": {
    "name": "ipython",
    "version": 3
   },
   "file_extension": ".py",
   "mimetype": "text/x-python",
   "name": "python",
   "nbconvert_exporter": "python",
   "pygments_lexer": "ipython3",
   "version": "3.10.9"
  },
  "vscode": {
   "interpreter": {
    "hash": "31f2aee4e71d21fbe5cf8b01ff0e069b9275f58929596ceb00d14d90e3e16cd6"
   }
  }
 },
 "nbformat": 4,
 "nbformat_minor": 5
}
